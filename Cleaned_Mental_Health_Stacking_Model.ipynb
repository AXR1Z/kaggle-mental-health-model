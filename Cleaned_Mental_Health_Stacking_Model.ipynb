{
 "cells": [
  {
   "cell_type": "markdown",
   "id": "a8bd9aac",
   "metadata": {},
   "source": [
    "# 🧠 Exploring Mental Health Data  \n",
    "**Kaggle Playground Series S4E11 | December 2024**  \n",
    "**Author:** Abdul Raheem  \n",
    "**Objective:**  \n",
    "This notebook addresses a binary classification problem — predicting whether an individual is likely to experience depression, using mental health survey data.  \n",
    "\n",
    "Achieved **94.024% accuracy**, closely trailing the top submission (94.184%).  \n",
    "This notebook walks through EDA, feature engineering, model building, hyperparameter tuning, and ensembling techniques used to build the final solution.\n"
   ]
  },
  {
   "cell_type": "code",
   "execution_count": null,
   "id": "f8b007bf",
   "metadata": {
    "_cell_guid": "b1076dfc-b9ad-4769-8c92-a6c4dae69d19",
    "_uuid": "8f2839f25d086af736a60e9eeb907d3b93b6e0e5",
    "execution": {
     "iopub.execute_input": "2024-11-29T05:16:45.426207Z",
     "iopub.status.busy": "2024-11-29T05:16:45.425807Z",
     "iopub.status.idle": "2024-11-29T05:16:48.314148Z",
     "shell.execute_reply": "2024-11-29T05:16:48.312767Z"
    },
    "papermill": {
     "duration": 2.931416,
     "end_time": "2024-11-29T05:16:48.316771",
     "exception": false,
     "start_time": "2024-11-29T05:16:45.385355",
     "status": "completed"
    },
    "tags": []
   },
   "outputs": [],
   "source": [
    "# This Python 3 environment comes with many helpful analytics libraries installed\n",
    "# It is defined by the kaggle/python Docker image: https://github.com/kaggle/docker-python\n",
    "# For example, here's several helpful packages to load\n",
    "\n",
    "import numpy as np # linear algebra\n",
    "import pandas as pd # data processing, CSV file I/O (e.g. pd.read_csv)\n",
    "import matplotlib.pyplot as plt\n",
    "import seaborn as sns\n",
    "\n",
    "# Input data files are available in the read-only \"../input/\" directory\n",
    "# For example, running this (by clicking run or pressing Shift+Enter) will list all files under the input directory\n",
    "\n",
    "import os\n",
    "for dirname, _, filenames in os.walk('/kaggle/input'):\n",
    "    for filename in filenames:\n",
    "        print(os.path.join(dirname, filename))\n",
    "\n",
    "# You can write up to 20GB to the current directory (/kaggle/working/) that gets preserved as output when you create a version using \"Save & Run All\" \n",
    "# You can also write temporary files to /kaggle/temp/, but they won't be saved outside of the current session"
   ]
  },
  {
   "cell_type": "markdown",
   "id": "f64dfc3b",
   "metadata": {},
   "source": [
    "## 1. Importing Data and Initial Exploration"
   ]
  },
  {
   "cell_type": "markdown",
   "id": "0c36f418",
   "metadata": {
    "papermill": {
     "duration": 0.035454,
     "end_time": "2024-11-29T05:16:48.387841",
     "exception": false,
     "start_time": "2024-11-29T05:16:48.352387",
     "status": "completed"
    },
    "tags": []
   },
   "source": [
    "# Input Data"
   ]
  },
  {
   "cell_type": "code",
   "execution_count": null,
   "id": "2ba462b6",
   "metadata": {
    "execution": {
     "iopub.execute_input": "2024-11-29T05:16:48.459877Z",
     "iopub.status.busy": "2024-11-29T05:16:48.459229Z",
     "iopub.status.idle": "2024-11-29T05:16:49.463886Z",
     "shell.execute_reply": "2024-11-29T05:16:49.462823Z"
    },
    "papermill": {
     "duration": 1.042828,
     "end_time": "2024-11-29T05:16:49.466466",
     "exception": false,
     "start_time": "2024-11-29T05:16:48.423638",
     "status": "completed"
    },
    "tags": []
   },
   "outputs": [],
   "source": [
    "train = pd.read_csv(\"/kaggle/input/mental-health3/train.csv\")\n",
    "test = pd.read_csv(\"/kaggle/input/mental-health3/test.csv\")\n",
    "original = pd.read_csv(\"/kaggle/input/depression-surveydataset-for-analysis/final_depression_dataset_1.csv\")\n",
    "\n",
    "datasets = [train, test, original]\n",
    "\n",
    "original.head()"
   ]
  },
  {
   "cell_type": "code",
   "execution_count": null,
   "id": "fb62d254",
   "metadata": {
    "execution": {
     "iopub.execute_input": "2024-11-29T05:16:49.538204Z",
     "iopub.status.busy": "2024-11-29T05:16:49.537786Z",
     "iopub.status.idle": "2024-11-29T05:16:49.785954Z",
     "shell.execute_reply": "2024-11-29T05:16:49.784825Z"
    },
    "papermill": {
     "duration": 0.287425,
     "end_time": "2024-11-29T05:16:49.788643",
     "exception": false,
     "start_time": "2024-11-29T05:16:49.501218",
     "status": "completed"
    },
    "tags": []
   },
   "outputs": [],
   "source": [
    "test2 = pd.read_csv(\"/kaggle/input/mental-health3/test.csv\")\n",
    "\n",
    "test2.columns"
   ]
  },
  {
   "cell_type": "code",
   "execution_count": null,
   "id": "4e786315",
   "metadata": {
    "execution": {
     "iopub.execute_input": "2024-11-29T05:16:49.862186Z",
     "iopub.status.busy": "2024-11-29T05:16:49.861787Z",
     "iopub.status.idle": "2024-11-29T05:16:49.867712Z",
     "shell.execute_reply": "2024-11-29T05:16:49.866385Z"
    },
    "papermill": {
     "duration": 0.046121,
     "end_time": "2024-11-29T05:16:49.870903",
     "exception": false,
     "start_time": "2024-11-29T05:16:49.824782",
     "status": "completed"
    },
    "tags": []
   },
   "outputs": [],
   "source": [
    "\n",
    "print(train.shape)\n",
    "print(test.shape)\n",
    "print(original.shape)\n"
   ]
  },
  {
   "cell_type": "code",
   "execution_count": null,
   "id": "9c916da1",
   "metadata": {
    "execution": {
     "iopub.execute_input": "2024-11-29T05:16:49.945629Z",
     "iopub.status.busy": "2024-11-29T05:16:49.945234Z",
     "iopub.status.idle": "2024-11-29T05:16:49.970487Z",
     "shell.execute_reply": "2024-11-29T05:16:49.969092Z"
    },
    "papermill": {
     "duration": 0.06888,
     "end_time": "2024-11-29T05:16:49.974889",
     "exception": false,
     "start_time": "2024-11-29T05:16:49.906009",
     "status": "completed"
    },
    "tags": []
   },
   "outputs": [],
   "source": [
    "train.head()"
   ]
  },
  {
   "cell_type": "code",
   "execution_count": null,
   "id": "93806574",
   "metadata": {
    "execution": {
     "iopub.execute_input": "2024-11-29T05:16:50.053974Z",
     "iopub.status.busy": "2024-11-29T05:16:50.053596Z",
     "iopub.status.idle": "2024-11-29T05:16:50.061176Z",
     "shell.execute_reply": "2024-11-29T05:16:50.059849Z"
    },
    "papermill": {
     "duration": 0.049035,
     "end_time": "2024-11-29T05:16:50.063674",
     "exception": false,
     "start_time": "2024-11-29T05:16:50.014639",
     "status": "completed"
    },
    "tags": []
   },
   "outputs": [],
   "source": [
    "train.columns"
   ]
  },
  {
   "cell_type": "code",
   "execution_count": null,
   "id": "a83d46f4",
   "metadata": {
    "execution": {
     "iopub.execute_input": "2024-11-29T05:16:50.139412Z",
     "iopub.status.busy": "2024-11-29T05:16:50.139007Z",
     "iopub.status.idle": "2024-11-29T05:16:50.240255Z",
     "shell.execute_reply": "2024-11-29T05:16:50.238745Z"
    },
    "papermill": {
     "duration": 0.143234,
     "end_time": "2024-11-29T05:16:50.243177",
     "exception": false,
     "start_time": "2024-11-29T05:16:50.099943",
     "status": "completed"
    },
    "tags": []
   },
   "outputs": [],
   "source": [
    "train.isna().sum()"
   ]
  },
  {
   "cell_type": "code",
   "execution_count": null,
   "id": "4b80ecd5",
   "metadata": {
    "execution": {
     "iopub.execute_input": "2024-11-29T05:16:50.397664Z",
     "iopub.status.busy": "2024-11-29T05:16:50.397059Z",
     "iopub.status.idle": "2024-11-29T05:16:50.491461Z",
     "shell.execute_reply": "2024-11-29T05:16:50.490083Z"
    },
    "papermill": {
     "duration": 0.209986,
     "end_time": "2024-11-29T05:16:50.494689",
     "exception": false,
     "start_time": "2024-11-29T05:16:50.284703",
     "status": "completed"
    },
    "tags": []
   },
   "outputs": [],
   "source": [
    "# Identify columns with null values and their data types\n",
    "null_columns_dtypes = train.dtypes[train.isnull().any()]\n",
    "\n",
    "# Display the results\n",
    "print(\"Columns with null values and their data types:\")\n",
    "print(null_columns_dtypes)"
   ]
  },
  {
   "cell_type": "markdown",
   "id": "7fe36e97",
   "metadata": {},
   "source": [
    "## 2. Feature Engineering"
   ]
  },
  {
   "cell_type": "markdown",
   "id": "81fde215",
   "metadata": {
    "papermill": {
     "duration": 0.040747,
     "end_time": "2024-11-29T05:16:50.580273",
     "exception": false,
     "start_time": "2024-11-29T05:16:50.539526",
     "status": "completed"
    },
    "tags": []
   },
   "source": [
    "# Profession Categories"
   ]
  },
  {
   "cell_type": "code",
   "execution_count": null,
   "id": "ee2aace0",
   "metadata": {
    "execution": {
     "iopub.execute_input": "2024-11-29T05:16:50.668479Z",
     "iopub.status.busy": "2024-11-29T05:16:50.668000Z",
     "iopub.status.idle": "2024-11-29T05:16:50.715869Z",
     "shell.execute_reply": "2024-11-29T05:16:50.714612Z"
    },
    "papermill": {
     "duration": 0.099551,
     "end_time": "2024-11-29T05:16:50.718977",
     "exception": false,
     "start_time": "2024-11-29T05:16:50.619426",
     "status": "completed"
    },
    "tags": []
   },
   "outputs": [],
   "source": [
    "\n",
    "# Convert the 'Field' columns to sets\n",
    "set1 = set(train['Profession'])\n",
    "set2 = set(test['Profession'])\n",
    "\n",
    "# Find values in df1 not in df2\n",
    "not_in_df2 = set1 - set2\n",
    "\n",
    "# Find values in df2 not in df1\n",
    "not_in_df1 = set2 - set1\n",
    "\n",
    "# Combine the differences to find values not present in both\n",
    "not_in_both = not_in_df2.union(not_in_df1)\n",
    "\n",
    "# Display results\n",
    "print(\"Values in train but not in test:\", not_in_df2,\"\\n\")\n",
    "print(\"Values in test but not in train:\", not_in_df1,\"\\n\")\n",
    "print(\"Values not present in both:\", not_in_both)"
   ]
  },
  {
   "cell_type": "markdown",
   "id": "f8723a7b",
   "metadata": {
    "papermill": {
     "duration": 0.038164,
     "end_time": "2024-11-29T05:16:50.802941",
     "exception": false,
     "start_time": "2024-11-29T05:16:50.764777",
     "status": "completed"
    },
    "tags": []
   },
   "source": [
    "**> This tells us there are a few responses to profession field which are not not accurate**"
   ]
  },
  {
   "cell_type": "code",
   "execution_count": null,
   "id": "aae0f8cf",
   "metadata": {
    "execution": {
     "iopub.execute_input": "2024-11-29T05:16:50.879814Z",
     "iopub.status.busy": "2024-11-29T05:16:50.879279Z",
     "iopub.status.idle": "2024-11-29T05:16:50.908707Z",
     "shell.execute_reply": "2024-11-29T05:16:50.907625Z"
    },
    "papermill": {
     "duration": 0.071577,
     "end_time": "2024-11-29T05:16:50.911459",
     "exception": false,
     "start_time": "2024-11-29T05:16:50.839882",
     "status": "completed"
    },
    "tags": []
   },
   "outputs": [],
   "source": [
    "value_counts = train['Profession'].value_counts(ascending=True)\n",
    "\n",
    "filtered_counts = value_counts[value_counts < 50]\n",
    "\n",
    "filtered_counts"
   ]
  },
  {
   "cell_type": "code",
   "execution_count": null,
   "id": "0c619b61",
   "metadata": {
    "execution": {
     "iopub.execute_input": "2024-11-29T05:16:50.994145Z",
     "iopub.status.busy": "2024-11-29T05:16:50.993638Z",
     "iopub.status.idle": "2024-11-29T05:16:51.828099Z",
     "shell.execute_reply": "2024-11-29T05:16:51.826752Z"
    },
    "papermill": {
     "duration": 0.87691,
     "end_time": "2024-11-29T05:16:51.831585",
     "exception": false,
     "start_time": "2024-11-29T05:16:50.954675",
     "status": "completed"
    },
    "tags": []
   },
   "outputs": [],
   "source": [
    "\n",
    "for df in datasets:\n",
    "    profession_counts = df['Profession'].value_counts()\n",
    "    df['Profession'] = df['Profession'].apply(lambda x: x if profession_counts.get(x, 0) >= 10 else np.nan)\n",
    "\n",
    "for df in datasets:\n",
    "    df['Profession'] = df['Profession'].fillna(df['Working Professional or Student'])"
   ]
  },
  {
   "cell_type": "code",
   "execution_count": null,
   "id": "007a8769",
   "metadata": {
    "execution": {
     "iopub.execute_input": "2024-11-29T05:16:51.934259Z",
     "iopub.status.busy": "2024-11-29T05:16:51.933882Z",
     "iopub.status.idle": "2024-11-29T05:16:52.018817Z",
     "shell.execute_reply": "2024-11-29T05:16:52.017227Z"
    },
    "papermill": {
     "duration": 0.136048,
     "end_time": "2024-11-29T05:16:52.022110",
     "exception": false,
     "start_time": "2024-11-29T05:16:51.886062",
     "status": "completed"
    },
    "tags": []
   },
   "outputs": [],
   "source": [
    "\n",
    "categories = {\n",
    "    'Business_and_Finance': ['Business Analyst', 'Financial Analyst', 'Investment Banker', 'Accountant', 'Marketing Manager', \n",
    "                             'Manager', 'Consultant'],\n",
    "    'Engineering': ['Software Engineer', 'Civil Engineer', 'Mechanical Engineer', 'Architect'],\n",
    "    'Healthcare': ['Doctor', 'Pharmacist'],  # Nurse is not listed in the original professions\n",
    "    'Creative_and_Design': ['UX/UI Designer', 'Graphic Designer', 'Content Writer', 'Digital Marketer'],\n",
    "    'Education': ['Teacher', 'Educational Consultant', 'Academic'],\n",
    "    'Technology': ['Data Scientist', 'Software Engineer'],  # Software Engineer is also in Engineering, so it's listed twice\n",
    "    'Skilled_Trades': ['Chef', 'Electrician', 'Plumber', 'Customer Support'],\n",
    "    'Law_and_Government': ['Lawyer', 'Judge'],\n",
    "    'Science_and_Research': ['Researcher', 'Chemist'],\n",
    "    'Sales_and_Marketing': ['Sales Executive', 'Travel Consultant'],\n",
    "    'Other_or_Miscellaneous': ['Entrepreneur', 'Pilot'],\n",
    "}\n",
    "\n",
    "\n",
    "# Flatten the categories to map professions to their categories\n",
    "category_map = {profession: category for category, professions in categories.items() for profession in professions}\n",
    "\n",
    "\n",
    "for df in datasets:\n",
    "    df['Profession Category'] = df['Profession'].apply(lambda x: category_map.get(x, x) if x not in ['Student', 'Working Professional'] else x)\n",
    "\n",
    "\n",
    "# Show the unique values of the 'Profession' column after mapping\n",
    "print(train['Profession Category'].unique())"
   ]
  },
  {
   "cell_type": "markdown",
   "id": "5b6c3fdd",
   "metadata": {
    "papermill": {
     "duration": 0.037424,
     "end_time": "2024-11-29T05:16:52.103513",
     "exception": false,
     "start_time": "2024-11-29T05:16:52.066089",
     "status": "completed"
    },
    "tags": []
   },
   "source": [
    "# Degree Categories"
   ]
  },
  {
   "cell_type": "code",
   "execution_count": null,
   "id": "ada1b61b",
   "metadata": {
    "execution": {
     "iopub.execute_input": "2024-11-29T05:16:52.179254Z",
     "iopub.status.busy": "2024-11-29T05:16:52.178865Z",
     "iopub.status.idle": "2024-11-29T05:16:52.195278Z",
     "shell.execute_reply": "2024-11-29T05:16:52.193517Z"
    },
    "papermill": {
     "duration": 0.056855,
     "end_time": "2024-11-29T05:16:52.198058",
     "exception": false,
     "start_time": "2024-11-29T05:16:52.141203",
     "status": "completed"
    },
    "tags": []
   },
   "outputs": [],
   "source": [
    "train['Degree'].unique()"
   ]
  },
  {
   "cell_type": "code",
   "execution_count": null,
   "id": "c48d3057",
   "metadata": {
    "execution": {
     "iopub.execute_input": "2024-11-29T05:16:52.273405Z",
     "iopub.status.busy": "2024-11-29T05:16:52.273045Z",
     "iopub.status.idle": "2024-11-29T05:16:52.294356Z",
     "shell.execute_reply": "2024-11-29T05:16:52.293147Z"
    },
    "papermill": {
     "duration": 0.0609,
     "end_time": "2024-11-29T05:16:52.296728",
     "exception": false,
     "start_time": "2024-11-29T05:16:52.235828",
     "status": "completed"
    },
    "tags": []
   },
   "outputs": [],
   "source": [
    "value_counts = train['Degree'].value_counts(ascending=True)\n",
    "\n",
    "filtered_counts = value_counts[value_counts < 50]\n",
    "\n",
    "filtered_counts"
   ]
  },
  {
   "cell_type": "code",
   "execution_count": null,
   "id": "6d791b1c",
   "metadata": {
    "execution": {
     "iopub.execute_input": "2024-11-29T05:16:52.375197Z",
     "iopub.status.busy": "2024-11-29T05:16:52.374261Z",
     "iopub.status.idle": "2024-11-29T05:16:53.115311Z",
     "shell.execute_reply": "2024-11-29T05:16:53.114146Z"
    },
    "papermill": {
     "duration": 0.784401,
     "end_time": "2024-11-29T05:16:53.117666",
     "exception": false,
     "start_time": "2024-11-29T05:16:52.333265",
     "status": "completed"
    },
    "tags": []
   },
   "outputs": [],
   "source": [
    "\n",
    "for df in datasets:\n",
    "    degree_counts = df['Degree'].value_counts()\n",
    "    \n",
    "    # Replace values with NaN if their frequency is less than 5\n",
    "    df['Degree'] = df['Degree'].apply(lambda x: x if degree_counts.get(x, 0) >= 5 else np.nan)\n",
    "\n",
    "    # Step 1: Find the mode (most frequent category) in 'Degree'\n",
    "    most_frequent_degree = df['Degree'].mode()[0]\n",
    "\n",
    "    # Step 2: Fill NaN values with the most frequent category\n",
    "    df['Degree'] = df['Degree'].fillna(most_frequent_degree)\n",
    "\n",
    "train['Degree'].unique()"
   ]
  },
  {
   "cell_type": "code",
   "execution_count": null,
   "id": "209e97ab",
   "metadata": {
    "execution": {
     "iopub.execute_input": "2024-11-29T05:16:53.196047Z",
     "iopub.status.busy": "2024-11-29T05:16:53.194515Z",
     "iopub.status.idle": "2024-11-29T05:16:53.386256Z",
     "shell.execute_reply": "2024-11-29T05:16:53.385133Z"
    },
    "papermill": {
     "duration": 0.233956,
     "end_time": "2024-11-29T05:16:53.388728",
     "exception": false,
     "start_time": "2024-11-29T05:16:53.154772",
     "status": "completed"
    },
    "tags": []
   },
   "outputs": [],
   "source": [
    "degree_categories = {\n",
    "    'High Difficulty': [\n",
    "        'PhD', 'MBA', 'M.Tech', 'M.S', 'M.Com', 'M.Ed', 'MD', \n",
    "        'MBBS', 'M.Pharm', 'LLM', 'M.Arch','MSc'],\n",
    "    'Moderate Difficulty': [\n",
    "        'BE', 'B.Tech', 'BBA', 'BCA', 'BSc', 'B.Ed', 'B.Arch', \n",
    "        'B.Pharm', 'BA', 'MCA', 'ME', 'MA','LLB'],\n",
    "    'Low Difficulty': [\n",
    "        'Class 12', 'BHM', 'L.Ed', 'MHM', 'B.Com']}\n",
    "\n",
    "\n",
    "category_map = {degree: category for category, degrees in degree_categories.items() for degree in degrees}\n",
    "\n",
    "for df in datasets:\n",
    "    \n",
    "    df['Degree Category'] = df['Degree'].apply(lambda x: category_map.get(x, x) if pd.notna(x) else x)\n",
    "\n",
    "train['Degree Category'].unique()"
   ]
  },
  {
   "cell_type": "code",
   "execution_count": null,
   "id": "57a4d6fb",
   "metadata": {
    "execution": {
     "iopub.execute_input": "2024-11-29T05:16:53.464287Z",
     "iopub.status.busy": "2024-11-29T05:16:53.463932Z",
     "iopub.status.idle": "2024-11-29T05:16:53.483532Z",
     "shell.execute_reply": "2024-11-29T05:16:53.482421Z"
    },
    "papermill": {
     "duration": 0.059852,
     "end_time": "2024-11-29T05:16:53.485826",
     "exception": false,
     "start_time": "2024-11-29T05:16:53.425974",
     "status": "completed"
    },
    "tags": []
   },
   "outputs": [],
   "source": [
    "train['Working Professional or Student'].value_counts()"
   ]
  },
  {
   "cell_type": "markdown",
   "id": "78c2dde0",
   "metadata": {
    "papermill": {
     "duration": 0.037039,
     "end_time": "2024-11-29T05:16:53.559356",
     "exception": false,
     "start_time": "2024-11-29T05:16:53.522317",
     "status": "completed"
    },
    "tags": []
   },
   "source": [
    "# Work/Academic Pressure"
   ]
  },
  {
   "cell_type": "code",
   "execution_count": null,
   "id": "a258c3fb",
   "metadata": {
    "execution": {
     "iopub.execute_input": "2024-11-29T05:16:53.638396Z",
     "iopub.status.busy": "2024-11-29T05:16:53.638039Z",
     "iopub.status.idle": "2024-11-29T05:16:53.734353Z",
     "shell.execute_reply": "2024-11-29T05:16:53.733156Z"
    },
    "papermill": {
     "duration": 0.14049,
     "end_time": "2024-11-29T05:16:53.737485",
     "exception": false,
     "start_time": "2024-11-29T05:16:53.596995",
     "status": "completed"
    },
    "tags": []
   },
   "outputs": [],
   "source": [
    "for df in datasets:\n",
    "\n",
    "    df['Work/Academic Pressure'] = np.nan\n",
    "    \n",
    "    df.loc[df['Working Professional or Student']=='Student', 'Work/Academic Pressure'] = df['Academic Pressure']\n",
    "    df.loc[df['Working Professional or Student']=='Working Professional', 'Work/Academic Pressure'] = df['Work Pressure']\n",
    "\n",
    "train.head(10)"
   ]
  },
  {
   "cell_type": "code",
   "execution_count": null,
   "id": "6207d9e6",
   "metadata": {
    "execution": {
     "iopub.execute_input": "2024-11-29T05:16:53.816517Z",
     "iopub.status.busy": "2024-11-29T05:16:53.816105Z",
     "iopub.status.idle": "2024-11-29T05:16:53.905203Z",
     "shell.execute_reply": "2024-11-29T05:16:53.904138Z"
    },
    "papermill": {
     "duration": 0.131008,
     "end_time": "2024-11-29T05:16:53.908196",
     "exception": false,
     "start_time": "2024-11-29T05:16:53.777188",
     "status": "completed"
    },
    "tags": []
   },
   "outputs": [],
   "source": [
    "train.isna().sum()"
   ]
  },
  {
   "cell_type": "code",
   "execution_count": null,
   "id": "6868d995",
   "metadata": {
    "execution": {
     "iopub.execute_input": "2024-11-29T05:16:53.988612Z",
     "iopub.status.busy": "2024-11-29T05:16:53.988176Z",
     "iopub.status.idle": "2024-11-29T05:16:57.536366Z",
     "shell.execute_reply": "2024-11-29T05:16:57.535248Z"
    },
    "papermill": {
     "duration": 3.590386,
     "end_time": "2024-11-29T05:16:57.538876",
     "exception": false,
     "start_time": "2024-11-29T05:16:53.948490",
     "status": "completed"
    },
    "tags": []
   },
   "outputs": [],
   "source": [
    "# Define a function to fill NaN using the median based on the 'City'\n",
    "def fill_na_with_median(row, acad_dict, wp_dict, group_acad_median, group_wp_median):\n",
    "\n",
    "    if row['Working Professional or Student']=='Student':\n",
    "        if pd.isna(row['Work/Academic Pressure']):\n",
    "            acad_median = acad_dict.get(row['City'], row['Academic Pressure'])  # Use the median if available\n",
    "\n",
    "            if pd.isna(acad_median):\n",
    "                return group_acad_median\n",
    "            return acad_median\n",
    "\n",
    "        return row['Work/Academic Pressure']\n",
    "        \n",
    "    elif row['Working Professional or Student']=='Working Professional':\n",
    "        if pd.isna(row['Work/Academic Pressure']):\n",
    "            work_median = wp_dict.get(row['City'], row['Work Pressure'])  \n",
    "\n",
    "            if pd.isna(work_median):\n",
    "                return group_wp_median # Use the median if available\n",
    "            return work_median\n",
    "        \n",
    "        return row['Work/Academic Pressure']\n",
    "\n",
    "\n",
    "for df in datasets:\n",
    "    \n",
    "    # Filter data by working professional or student\n",
    "    student_df = df[df['Working Professional or Student']=='Student']\n",
    "    WP_df = df[df['Working Professional or Student']=='Working Professional']\n",
    "    \n",
    "    # Compute the median of Academic/Work pressure grouped by 'City' for the filtered data\n",
    "    median_academic_pressure = student_df.groupby('City')['Academic Pressure'].median()\n",
    "    median_work_pressure = WP_df.groupby('City')['Work Pressure'].median()\n",
    "\n",
    "    student_median = df[df['Working Professional or Student'] == 'Student']['Academic Pressure'].median()\n",
    "    wp_median = df[df['Working Professional or Student'] == 'Working Professional']['Work Pressure'].median()\n",
    "\n",
    "    df['Work/Academic Pressure'] = df.apply(fill_na_with_median, axis=1, acad_dict=median_academic_pressure, wp_dict=median_work_pressure, group_acad_median=student_median, group_wp_median=wp_median)\n"
   ]
  },
  {
   "cell_type": "code",
   "execution_count": null,
   "id": "0cbc0f62",
   "metadata": {
    "execution": {
     "iopub.execute_input": "2024-11-29T05:16:57.616679Z",
     "iopub.status.busy": "2024-11-29T05:16:57.616264Z",
     "iopub.status.idle": "2024-11-29T05:16:57.706095Z",
     "shell.execute_reply": "2024-11-29T05:16:57.704768Z"
    },
    "papermill": {
     "duration": 0.131483,
     "end_time": "2024-11-29T05:16:57.708359",
     "exception": false,
     "start_time": "2024-11-29T05:16:57.576876",
     "status": "completed"
    },
    "tags": []
   },
   "outputs": [],
   "source": [
    "train.isna().sum()"
   ]
  },
  {
   "cell_type": "code",
   "execution_count": null,
   "id": "85a339cb",
   "metadata": {
    "execution": {
     "iopub.execute_input": "2024-11-29T05:16:57.786823Z",
     "iopub.status.busy": "2024-11-29T05:16:57.786349Z",
     "iopub.status.idle": "2024-11-29T05:17:04.836174Z",
     "shell.execute_reply": "2024-11-29T05:17:04.834896Z"
    },
    "papermill": {
     "duration": 7.09283,
     "end_time": "2024-11-29T05:17:04.838736",
     "exception": false,
     "start_time": "2024-11-29T05:16:57.745906",
     "status": "completed"
    },
    "tags": []
   },
   "outputs": [],
   "source": [
    "# Define a function to fill NaN using the median based on the 'City'\n",
    "def fill_na_with_median(row, acad_dict, wp_dict, group_acad_median, group_wp_median):\n",
    "\n",
    "    if row['Working Professional or Student']=='Student':\n",
    "        if pd.isna(row['Academic Pressure']):\n",
    "            acad_median = acad_dict.get(row['City'], row['Academic Pressure'])  # Use the median if available\n",
    "\n",
    "            if pd.isna(acad_median):\n",
    "                return group_acad_median\n",
    "            return acad_median\n",
    "\n",
    "        return row['Academic Pressure']\n",
    "        \n",
    "    elif row['Working Professional or Student']=='Working Professional':\n",
    "        if pd.isna(row['Work Pressure']):\n",
    "            work_median = wp_dict.get(row['City'], row['Work Pressure'])  \n",
    "\n",
    "            if pd.isna(work_median):\n",
    "                return group_wp_median # Use the median if available\n",
    "            return work_median\n",
    "        \n",
    "        return row['Work Pressure']\n",
    "\n",
    "\n",
    "for df in datasets:\n",
    "    \n",
    "    # Filter data by working professional or student\n",
    "    student_df = df[df['Working Professional or Student']=='Student']\n",
    "    WP_df = df[df['Working Professional or Student']=='Working Professional']\n",
    "    \n",
    "    # Compute the median of Academic/Work pressure grouped by 'City' for the filtered data\n",
    "    median_academic_pressure = student_df.groupby('City')['Academic Pressure'].median()\n",
    "    median_work_pressure = WP_df.groupby('City')['Work Pressure'].median()\n",
    "\n",
    "    student_median = df[df['Working Professional or Student'] == 'Student']['Academic Pressure'].median()\n",
    "    wp_median = df[df['Working Professional or Student'] == 'Working Professional']['Work Pressure'].median()\n",
    "\n",
    "    df['Academic Pressure'] = df.apply(fill_na_with_median, axis=1, acad_dict=median_academic_pressure, wp_dict=median_work_pressure, group_acad_median=student_median, group_wp_median=wp_median)\n",
    "    df['Work Pressure'] = df.apply(fill_na_with_median, axis=1, acad_dict=median_academic_pressure, wp_dict=median_work_pressure, group_acad_median=student_median, group_wp_median=wp_median)"
   ]
  },
  {
   "cell_type": "code",
   "execution_count": null,
   "id": "b0152277",
   "metadata": {
    "execution": {
     "iopub.execute_input": "2024-11-29T05:17:04.917486Z",
     "iopub.status.busy": "2024-11-29T05:17:04.917092Z",
     "iopub.status.idle": "2024-11-29T05:17:05.011099Z",
     "shell.execute_reply": "2024-11-29T05:17:05.009838Z"
    },
    "papermill": {
     "duration": 0.137165,
     "end_time": "2024-11-29T05:17:05.013377",
     "exception": false,
     "start_time": "2024-11-29T05:17:04.876212",
     "status": "completed"
    },
    "tags": []
   },
   "outputs": [],
   "source": [
    "train.isna().sum()"
   ]
  },
  {
   "cell_type": "code",
   "execution_count": null,
   "id": "37b30b1a",
   "metadata": {
    "execution": {
     "iopub.execute_input": "2024-11-29T05:17:05.094664Z",
     "iopub.status.busy": "2024-11-29T05:17:05.094200Z",
     "iopub.status.idle": "2024-11-29T05:17:05.233538Z",
     "shell.execute_reply": "2024-11-29T05:17:05.232242Z"
    },
    "papermill": {
     "duration": 0.18233,
     "end_time": "2024-11-29T05:17:05.235932",
     "exception": false,
     "start_time": "2024-11-29T05:17:05.053602",
     "status": "completed"
    },
    "tags": []
   },
   "outputs": [],
   "source": [
    "for df in datasets:\n",
    "    df.loc[df['Working Professional or Student'] == 'Student', 'Work Pressure'] = np.nan\n",
    "    df.loc[df['Working Professional or Student'] == 'Working Professional', 'Academic Pressure'] = np.nan\n",
    "\n",
    "train.isna().sum()"
   ]
  },
  {
   "cell_type": "markdown",
   "id": "e08771be",
   "metadata": {
    "papermill": {
     "duration": 0.043722,
     "end_time": "2024-11-29T05:17:05.319360",
     "exception": false,
     "start_time": "2024-11-29T05:17:05.275638",
     "status": "completed"
    },
    "tags": []
   },
   "source": [
    "# Job/Study Satisfaction"
   ]
  },
  {
   "cell_type": "code",
   "execution_count": null,
   "id": "95f0cefc",
   "metadata": {
    "execution": {
     "iopub.execute_input": "2024-11-29T05:17:05.402344Z",
     "iopub.status.busy": "2024-11-29T05:17:05.401944Z",
     "iopub.status.idle": "2024-11-29T05:17:07.617029Z",
     "shell.execute_reply": "2024-11-29T05:17:07.615978Z"
    },
    "papermill": {
     "duration": 2.259835,
     "end_time": "2024-11-29T05:17:07.619304",
     "exception": false,
     "start_time": "2024-11-29T05:17:05.359469",
     "status": "completed"
    },
    "tags": []
   },
   "outputs": [],
   "source": [
    "for df in datasets:\n",
    "\n",
    "    # Combine into a single Satisfaction column\n",
    "    df['Satisfaction'] = df.apply(lambda row: row['Study Satisfaction'] if row['Working Professional or Student'] == 'Student' else row['Job Satisfaction'],axis=1)\n",
    "\n",
    "train.isna().sum()"
   ]
  },
  {
   "cell_type": "code",
   "execution_count": null,
   "id": "76bdf1a1",
   "metadata": {
    "execution": {
     "iopub.execute_input": "2024-11-29T05:17:07.698081Z",
     "iopub.status.busy": "2024-11-29T05:17:07.697710Z",
     "iopub.status.idle": "2024-11-29T05:17:11.276917Z",
     "shell.execute_reply": "2024-11-29T05:17:11.275669Z"
    },
    "papermill": {
     "duration": 3.621732,
     "end_time": "2024-11-29T05:17:11.279474",
     "exception": false,
     "start_time": "2024-11-29T05:17:07.657742",
     "status": "completed"
    },
    "tags": []
   },
   "outputs": [],
   "source": [
    "# Define a function to fill NaN using the median based on the 'Degree Category' and 'City'\n",
    "def fill_na_with_median(row, acad_dict, wp_dict, group_acad_median, group_wp_median):\n",
    "\n",
    "    if row['Working Professional or Student']=='Student':\n",
    "        if pd.isna(row['Satisfaction']):\n",
    "            acad_median = acad_dict.get((row['City'], row['Degree Category']), row['Study Satisfaction'])  # Use the median if available\n",
    "\n",
    "            if pd.isna(acad_median):\n",
    "                return group_acad_median\n",
    "            return acad_median\n",
    "        \n",
    "        return row['Satisfaction']\n",
    "        \n",
    "    elif row['Working Professional or Student']=='Working Professional':\n",
    "        if pd.isna(row['Satisfaction']):\n",
    "            work_median = wp_dict.get((row['City'], row['Profession Category']), row['Work Pressure'])  \n",
    "\n",
    "            if pd.isna(work_median):\n",
    "                return group_wp_median # Use the median if available\n",
    "            return work_median\n",
    "        \n",
    "        return row['Satisfaction']\n",
    "\n",
    "\n",
    "\n",
    "for df in datasets:\n",
    "    \n",
    "    # Filter data by working professional or student\n",
    "    student_df = df[df['Working Professional or Student']=='Student']\n",
    "    WP_df = df[df['Working Professional or Student']=='Working Professional']\n",
    "    \n",
    "    # Compute the median of Academic/Work pressure grouped by 'City' for the filtered data\n",
    "    median_academic = student_df.groupby(['City','Degree Category'])['Study Satisfaction'].median()\n",
    "    median_work = WP_df.groupby(['City','Profession Category'])['Job Satisfaction'].median()\n",
    "\n",
    "    student_median = student_df.groupby('Degree Category')['Study Satisfaction'].median()\n",
    "    wp_median = WP_df.groupby('Profession Category')['Job Satisfaction'].median()\n",
    "\n",
    "    df['Satisfaction'] = df.apply(fill_na_with_median, axis=1, acad_dict=median_academic, wp_dict=median_work, group_acad_median=student_median, group_wp_median=wp_median)\n",
    "\n",
    "\n",
    "train.isna().sum()"
   ]
  },
  {
   "cell_type": "markdown",
   "id": "e0a5bd0e",
   "metadata": {
    "papermill": {
     "duration": 0.038934,
     "end_time": "2024-11-29T05:17:11.358113",
     "exception": false,
     "start_time": "2024-11-29T05:17:11.319179",
     "status": "completed"
    },
    "tags": []
   },
   "source": [
    "# CGPA"
   ]
  },
  {
   "cell_type": "code",
   "execution_count": null,
   "id": "b9878205",
   "metadata": {
    "execution": {
     "iopub.execute_input": "2024-11-29T05:17:11.437967Z",
     "iopub.status.busy": "2024-11-29T05:17:11.437547Z",
     "iopub.status.idle": "2024-11-29T05:17:14.277963Z",
     "shell.execute_reply": "2024-11-29T05:17:14.276628Z"
    },
    "papermill": {
     "duration": 2.883051,
     "end_time": "2024-11-29T05:17:14.280378",
     "exception": false,
     "start_time": "2024-11-29T05:17:11.397327",
     "status": "completed"
    },
    "tags": []
   },
   "outputs": [],
   "source": [
    "for df in datasets:\n",
    "    # Calculate the median for each (City, Degree Category) combination\n",
    "    grouped_medians = df.groupby(['City', 'Degree Category'])['CGPA'].median().to_dict()\n",
    "    \n",
    "    # Map only for students\n",
    "    df['CGPA'] = df.apply(\n",
    "        lambda row: grouped_medians.get((row['City'], row['Degree Category']), row['CGPA']) \n",
    "        if pd.isna(row['CGPA']) and row['Working Professional or Student'] == 'Student' else row['CGPA'],\n",
    "        axis=1)\n",
    "\n",
    "train.isna().sum()"
   ]
  },
  {
   "cell_type": "markdown",
   "id": "9006452a",
   "metadata": {
    "papermill": {
     "duration": 0.039147,
     "end_time": "2024-11-29T05:17:14.358982",
     "exception": false,
     "start_time": "2024-11-29T05:17:14.319835",
     "status": "completed"
    },
    "tags": []
   },
   "source": [
    "# Sleep Distribution"
   ]
  },
  {
   "cell_type": "code",
   "execution_count": null,
   "id": "09cb85d2",
   "metadata": {
    "execution": {
     "iopub.execute_input": "2024-11-29T05:17:14.441407Z",
     "iopub.status.busy": "2024-11-29T05:17:14.441001Z",
     "iopub.status.idle": "2024-11-29T05:17:14.461436Z",
     "shell.execute_reply": "2024-11-29T05:17:14.460168Z"
    },
    "papermill": {
     "duration": 0.06569,
     "end_time": "2024-11-29T05:17:14.463806",
     "exception": false,
     "start_time": "2024-11-29T05:17:14.398116",
     "status": "completed"
    },
    "tags": []
   },
   "outputs": [],
   "source": [
    "sleep_counts = train['Sleep Duration'].value_counts()\n",
    "\n",
    "sleep_counts"
   ]
  },
  {
   "cell_type": "code",
   "execution_count": null,
   "id": "c0fcc7d5",
   "metadata": {
    "execution": {
     "iopub.execute_input": "2024-11-29T05:17:14.543513Z",
     "iopub.status.busy": "2024-11-29T05:17:14.543123Z",
     "iopub.status.idle": "2024-11-29T05:17:14.961738Z",
     "shell.execute_reply": "2024-11-29T05:17:14.960531Z"
    },
    "papermill": {
     "duration": 0.461574,
     "end_time": "2024-11-29T05:17:14.964103",
     "exception": false,
     "start_time": "2024-11-29T05:17:14.502529",
     "status": "completed"
    },
    "tags": []
   },
   "outputs": [],
   "source": [
    "import re\n",
    "# Define a function to check if a number exists\n",
    "def contains_number(value):\n",
    "    # Check if the string contains any digits\n",
    "    return bool(re.search(r'\\d', str(value)))\n",
    "\n",
    "for df in datasets:\n",
    "    # Filter values without numbers\n",
    "    invalid_durations = df['Sleep Duration'][~df['Sleep Duration'].apply(contains_number)].tolist()\n",
    "    \n",
    "    # Replace values not in the valid list with NaN\n",
    "    df['Sleep Duration'] = df['Sleep Duration'].apply(\n",
    "        lambda x: x if x not in invalid_durations else np.nan\n",
    "    )\n",
    "\n",
    "train.isna().sum()  #should see 12 counts of nulls"
   ]
  },
  {
   "cell_type": "code",
   "execution_count": null,
   "id": "cc534978",
   "metadata": {
    "execution": {
     "iopub.execute_input": "2024-11-29T05:17:15.048103Z",
     "iopub.status.busy": "2024-11-29T05:17:15.047711Z",
     "iopub.status.idle": "2024-11-29T05:17:15.847529Z",
     "shell.execute_reply": "2024-11-29T05:17:15.846361Z"
    },
    "papermill": {
     "duration": 0.845945,
     "end_time": "2024-11-29T05:17:15.850065",
     "exception": false,
     "start_time": "2024-11-29T05:17:15.004120",
     "status": "completed"
    },
    "tags": []
   },
   "outputs": [],
   "source": [
    "\n",
    "# Function to flag high sleep durations\n",
    "def is_high_sleep_duration(value):\n",
    "    # Match single numbers or ranges (e.g., '49 hours', '45-48 hours')\n",
    "    match_single = re.match(r'(\\d+)\\s*hours', str(value))  # Single value with \"hours\", e.g., '49 hours'\n",
    "    match_single_2 = re.match(r'^(\\d+)$', str(value))  # Single numeric value, e.g., '45'\n",
    "    match_range = re.match(r'(\\d+)-(\\d+)\\s*hours', str(value))  # Range, e.g., '45-48 hours'\n",
    "\n",
    "    # Handle ranges (e.g., '45-48 hours')\n",
    "    if match_range:\n",
    "        # Extract the range and calculate the average daily sleep\n",
    "        start, end = map(int, match_range.groups())\n",
    "        avg_daily_sleep = (start + end) / 2 / 2  # Assume the range is over 2 days\n",
    "        return avg_daily_sleep > 15  # Flag if daily sleep exceeds 15 hours per day\n",
    "\n",
    "    # Handle single numbers with \"hours\"\n",
    "    if match_single:\n",
    "        # Extract the single number and check if it exceeds the threshold\n",
    "        hours = int(match_single.group(1))\n",
    "        return hours > 15  # Flag if it exceeds 15 hours\n",
    "\n",
    "    # Handle single numeric values without \"hours\"\n",
    "    if match_single_2:\n",
    "        # Extract the single number and check if it exceeds the threshold\n",
    "        hours = int(match_single_2.group(1))\n",
    "        return hours > 15  # Flag if it exceeds 15 hours\n",
    "\n",
    "    # Return False for non-matching or valid cases\n",
    "    return False\n",
    "\n",
    "for df in datasets:\n",
    "    \n",
    "    # Apply the function to identify high sleep durations\n",
    "    df['High Sleep Duration'] = df['Sleep Duration'].apply(is_high_sleep_duration)\n",
    "\n",
    "    # Replace values not in the valid list with NaN\n",
    "    df.loc[df['High Sleep Duration'] == True, 'Sleep Duration'] = np.nan\n",
    "\n",
    "\n",
    "train.isna().sum()"
   ]
  },
  {
   "cell_type": "code",
   "execution_count": null,
   "id": "36873ee7",
   "metadata": {
    "execution": {
     "iopub.execute_input": "2024-11-29T05:17:15.931847Z",
     "iopub.status.busy": "2024-11-29T05:17:15.931440Z",
     "iopub.status.idle": "2024-11-29T05:17:15.970253Z",
     "shell.execute_reply": "2024-11-29T05:17:15.969194Z"
    },
    "papermill": {
     "duration": 0.082696,
     "end_time": "2024-11-29T05:17:15.972719",
     "exception": false,
     "start_time": "2024-11-29T05:17:15.890023",
     "status": "completed"
    },
    "tags": []
   },
   "outputs": [],
   "source": [
    "for df in datasets:\n",
    "\n",
    "    df.drop('High Sleep Duration', axis=1, inplace=True)\n",
    "\n",
    "train.columns"
   ]
  },
  {
   "cell_type": "code",
   "execution_count": null,
   "id": "a4c0be8d",
   "metadata": {
    "execution": {
     "iopub.execute_input": "2024-11-29T05:17:16.056022Z",
     "iopub.status.busy": "2024-11-29T05:17:16.055630Z",
     "iopub.status.idle": "2024-11-29T05:17:16.184602Z",
     "shell.execute_reply": "2024-11-29T05:17:16.183243Z"
    },
    "papermill": {
     "duration": 0.173976,
     "end_time": "2024-11-29T05:17:16.187087",
     "exception": false,
     "start_time": "2024-11-29T05:17:16.013111",
     "status": "completed"
    },
    "tags": []
   },
   "outputs": [],
   "source": [
    "for df in datasets:\n",
    "\n",
    "    most_frequent_sleep = df['Sleep Duration'].mode()[0]\n",
    "\n",
    "    # Step 2: Fill NaN values with the most frequent category\n",
    "    df['Sleep Duration'] = df['Sleep Duration'].fillna(most_frequent_sleep)\n",
    "\n",
    "train.isna().sum()"
   ]
  },
  {
   "cell_type": "code",
   "execution_count": null,
   "id": "9c504c2d",
   "metadata": {
    "execution": {
     "iopub.execute_input": "2024-11-29T05:17:16.272273Z",
     "iopub.status.busy": "2024-11-29T05:17:16.271892Z",
     "iopub.status.idle": "2024-11-29T05:17:16.292804Z",
     "shell.execute_reply": "2024-11-29T05:17:16.291571Z"
    },
    "papermill": {
     "duration": 0.068465,
     "end_time": "2024-11-29T05:17:16.295182",
     "exception": false,
     "start_time": "2024-11-29T05:17:16.226717",
     "status": "completed"
    },
    "tags": []
   },
   "outputs": [],
   "source": [
    "sleep_counts = train['Sleep Duration'].value_counts()\n",
    "\n",
    "sleep_counts"
   ]
  },
  {
   "cell_type": "code",
   "execution_count": null,
   "id": "45bdfbb5",
   "metadata": {
    "execution": {
     "iopub.execute_input": "2024-11-29T05:17:16.378859Z",
     "iopub.status.busy": "2024-11-29T05:17:16.377750Z",
     "iopub.status.idle": "2024-11-29T05:17:17.580870Z",
     "shell.execute_reply": "2024-11-29T05:17:17.579654Z"
    },
    "papermill": {
     "duration": 1.247636,
     "end_time": "2024-11-29T05:17:17.583373",
     "exception": false,
     "start_time": "2024-11-29T05:17:16.335737",
     "status": "completed"
    },
    "tags": []
   },
   "outputs": [],
   "source": [
    "# Function to clean and classify sleep duration values\n",
    "def clean_and_classify_sleep_duration(duration):\n",
    "    # Check if the duration is a specific text category\n",
    "    if str(duration) == 'Less than 5 hours':\n",
    "        return 'Unhealthy'\n",
    "    elif str(duration) == 'More than 8 hours':\n",
    "        return 'Healthy'\n",
    "    \n",
    "    # Check if the duration is a valid sleep range\n",
    "    if isinstance(duration, str) and 'hours' in duration:\n",
    "        parts = duration.split(' ')\n",
    "\n",
    "        # Checking if it's a valid range like '9-5 hours' or '9-6 hours'\n",
    "        if '-' in parts[0]:\n",
    "            start, end = map(int, parts[0].split('-'))\n",
    "            # Calculate the average hours in the range\n",
    "            avg_hours = np.mean([start, end])\n",
    "            \n",
    "            # Classify based on the average hours\n",
    "            if avg_hours < 5:\n",
    "                return 'Unhealthy'  # Less than 5 hours\n",
    "            elif 5 <= avg_hours <= 7.5:  # Extended Moderate range from 5 to 7.5\n",
    "                return 'Moderate'\n",
    "            elif 7.5 < avg_hours <= 9:\n",
    "                return 'Healthy'  # 7-9 hours range\n",
    "            else:\n",
    "                return 'Unhealthy'  # More than 9 hours\n",
    "                \n",
    "        # Handle individual hour values\n",
    "        try:\n",
    "            hours = int(parts[0])\n",
    "            if hours < 5:\n",
    "                return 'Unhealthy'  # Less than 5 hours\n",
    "            elif 5 <= hours <= 7.5:  # Extended Moderate range from 5 to 7.5\n",
    "                return 'Moderate'\n",
    "            elif 7.5 < hours <= 9:\n",
    "                return 'Healthy'  # 7-9 hours range\n",
    "            else:\n",
    "                return 'Unhealthy'  # More than 9 hours\n",
    "        except ValueError:\n",
    "            return duration  \n",
    "\n",
    "    return duration\n",
    "\n",
    "for df in datasets:\n",
    "\n",
    "    # Apply the function to clean and categorize 'Sleep Duration'\n",
    "    df['Sleep Duration Category'] = df['Sleep Duration'].apply(clean_and_classify_sleep_duration)\n",
    "\n",
    "\n",
    "\n",
    "\n",
    "# Verify the result\n",
    "train['Sleep Duration Category'].value_counts()\n",
    "\n",
    "\n"
   ]
  },
  {
   "cell_type": "code",
   "execution_count": null,
   "id": "6ee1cde2",
   "metadata": {
    "execution": {
     "iopub.execute_input": "2024-11-29T05:17:17.663550Z",
     "iopub.status.busy": "2024-11-29T05:17:17.663146Z",
     "iopub.status.idle": "2024-11-29T05:17:17.726446Z",
     "shell.execute_reply": "2024-11-29T05:17:17.725269Z"
    },
    "papermill": {
     "duration": 0.10597,
     "end_time": "2024-11-29T05:17:17.729088",
     "exception": false,
     "start_time": "2024-11-29T05:17:17.623118",
     "status": "completed"
    },
    "tags": []
   },
   "outputs": [],
   "source": [
    "for df in datasets:\n",
    "    sleep_counts = df['Sleep Duration Category'].value_counts()\n",
    "    single_occurrence_values = sleep_counts[sleep_counts <= 5].index\n",
    "    \n",
    "    # Replace values with NaN if their frequency is less than 5\n",
    "    df.loc[df['Sleep Duration Category'].isin(single_occurrence_values), 'Sleep Duration Category'] = np.nan\n",
    "    \n",
    "    most_frequent_sleep = df['Sleep Duration Category'].mode()[0]\n",
    "\n",
    "    # Step 2: Fill NaN values with the most frequent category\n",
    "    df['Sleep Duration Category'] = df['Sleep Duration Category'].fillna(most_frequent_sleep)"
   ]
  },
  {
   "cell_type": "code",
   "execution_count": null,
   "id": "5283d380",
   "metadata": {
    "execution": {
     "iopub.execute_input": "2024-11-29T05:17:17.811195Z",
     "iopub.status.busy": "2024-11-29T05:17:17.810181Z",
     "iopub.status.idle": "2024-11-29T05:17:17.827052Z",
     "shell.execute_reply": "2024-11-29T05:17:17.825988Z"
    },
    "papermill": {
     "duration": 0.060265,
     "end_time": "2024-11-29T05:17:17.829249",
     "exception": false,
     "start_time": "2024-11-29T05:17:17.768984",
     "status": "completed"
    },
    "tags": []
   },
   "outputs": [],
   "source": [
    "train['Sleep Duration Category'].value_counts()"
   ]
  },
  {
   "cell_type": "code",
   "execution_count": null,
   "id": "b4ecb940",
   "metadata": {
    "execution": {
     "iopub.execute_input": "2024-11-29T05:17:17.910323Z",
     "iopub.status.busy": "2024-11-29T05:17:17.909939Z",
     "iopub.status.idle": "2024-11-29T05:17:18.008938Z",
     "shell.execute_reply": "2024-11-29T05:17:18.007678Z"
    },
    "papermill": {
     "duration": 0.142521,
     "end_time": "2024-11-29T05:17:18.011343",
     "exception": false,
     "start_time": "2024-11-29T05:17:17.868822",
     "status": "completed"
    },
    "tags": []
   },
   "outputs": [],
   "source": [
    "train.isna().sum()"
   ]
  },
  {
   "cell_type": "code",
   "execution_count": null,
   "id": "d966efce",
   "metadata": {
    "execution": {
     "iopub.execute_input": "2024-11-29T05:17:18.092930Z",
     "iopub.status.busy": "2024-11-29T05:17:18.092532Z",
     "iopub.status.idle": "2024-11-29T05:17:18.440139Z",
     "shell.execute_reply": "2024-11-29T05:17:18.439046Z"
    },
    "papermill": {
     "duration": 0.391559,
     "end_time": "2024-11-29T05:17:18.442519",
     "exception": false,
     "start_time": "2024-11-29T05:17:18.050960",
     "status": "completed"
    },
    "tags": []
   },
   "outputs": [],
   "source": [
    "\n",
    "# Create a histogram for the Age column\n",
    "plt.figure(figsize=(8, 5))\n",
    "plt.hist(df['Age'], bins=10, edgecolor='black', alpha=0.7)\n",
    "\n",
    "# Add more x-axis ticks\n",
    "x_ticks = np.arange(df['Age'].min(), df['Age'].max() + 1, 2)  # Change the step size as needed\n",
    "plt.xticks(x_ticks)\n",
    "\n",
    "# Add labels and title\n",
    "plt.title('Histogram of Age')\n",
    "plt.xlabel('Age')\n",
    "plt.ylabel('Frequency')\n",
    "\n",
    "plt.grid(axis='y', linestyle='--', alpha=0.7)\n",
    "plt.show()"
   ]
  },
  {
   "cell_type": "markdown",
   "id": "1e5ff4bc",
   "metadata": {
    "papermill": {
     "duration": 0.039404,
     "end_time": "2024-11-29T05:17:18.521767",
     "exception": false,
     "start_time": "2024-11-29T05:17:18.482363",
     "status": "completed"
    },
    "tags": []
   },
   "source": [
    "# Dietary Habits"
   ]
  },
  {
   "cell_type": "code",
   "execution_count": null,
   "id": "18763eb6",
   "metadata": {
    "execution": {
     "iopub.execute_input": "2024-11-29T05:17:18.602665Z",
     "iopub.status.busy": "2024-11-29T05:17:18.602255Z",
     "iopub.status.idle": "2024-11-29T05:17:18.643499Z",
     "shell.execute_reply": "2024-11-29T05:17:18.642383Z"
    },
    "papermill": {
     "duration": 0.084877,
     "end_time": "2024-11-29T05:17:18.645956",
     "exception": false,
     "start_time": "2024-11-29T05:17:18.561079",
     "status": "completed"
    },
    "tags": []
   },
   "outputs": [],
   "source": [
    "for df in datasets:\n",
    "    most_frequent_diet = df['Dietary Habits'].mode()[0]\n",
    "\n",
    "    # Step 2: Fill NaN values with the most frequent category\n",
    "    df['Dietary Habits'] = df['Dietary Habits'].fillna(most_frequent_diet)"
   ]
  },
  {
   "cell_type": "code",
   "execution_count": null,
   "id": "ecb207c2",
   "metadata": {
    "execution": {
     "iopub.execute_input": "2024-11-29T05:17:18.726171Z",
     "iopub.status.busy": "2024-11-29T05:17:18.725792Z",
     "iopub.status.idle": "2024-11-29T05:17:18.826692Z",
     "shell.execute_reply": "2024-11-29T05:17:18.825529Z"
    },
    "papermill": {
     "duration": 0.144003,
     "end_time": "2024-11-29T05:17:18.829133",
     "exception": false,
     "start_time": "2024-11-29T05:17:18.685130",
     "status": "completed"
    },
    "tags": []
   },
   "outputs": [],
   "source": [
    "train.isna().sum()"
   ]
  },
  {
   "cell_type": "markdown",
   "id": "70267e59",
   "metadata": {
    "papermill": {
     "duration": 0.040662,
     "end_time": "2024-11-29T05:17:18.909677",
     "exception": false,
     "start_time": "2024-11-29T05:17:18.869015",
     "status": "completed"
    },
    "tags": []
   },
   "source": [
    "# Financial Stress"
   ]
  },
  {
   "cell_type": "code",
   "execution_count": null,
   "id": "ed66b913",
   "metadata": {
    "execution": {
     "iopub.execute_input": "2024-11-29T05:17:18.993710Z",
     "iopub.status.busy": "2024-11-29T05:17:18.993189Z",
     "iopub.status.idle": "2024-11-29T05:17:19.007337Z",
     "shell.execute_reply": "2024-11-29T05:17:19.006326Z"
    },
    "papermill": {
     "duration": 0.060372,
     "end_time": "2024-11-29T05:17:19.010030",
     "exception": false,
     "start_time": "2024-11-29T05:17:18.949658",
     "status": "completed"
    },
    "tags": []
   },
   "outputs": [],
   "source": [
    "for df in datasets:\n",
    "    mode_fin_stress = df['Financial Stress'].mode()[0]\n",
    "\n",
    "    # Step 2: Fill NaN values with the most frequent category\n",
    "    df['Financial Stress'] = df['Financial Stress'].fillna(mode_fin_stress)"
   ]
  },
  {
   "cell_type": "code",
   "execution_count": null,
   "id": "9e6d9cd2",
   "metadata": {
    "execution": {
     "iopub.execute_input": "2024-11-29T05:17:19.094155Z",
     "iopub.status.busy": "2024-11-29T05:17:19.093710Z",
     "iopub.status.idle": "2024-11-29T05:17:19.194185Z",
     "shell.execute_reply": "2024-11-29T05:17:19.193058Z"
    },
    "papermill": {
     "duration": 0.145743,
     "end_time": "2024-11-29T05:17:19.196413",
     "exception": false,
     "start_time": "2024-11-29T05:17:19.050670",
     "status": "completed"
    },
    "tags": []
   },
   "outputs": [],
   "source": [
    "train.isna().sum()"
   ]
  },
  {
   "cell_type": "markdown",
   "id": "f9bb490e",
   "metadata": {
    "papermill": {
     "duration": 0.040127,
     "end_time": "2024-11-29T05:17:19.277600",
     "exception": false,
     "start_time": "2024-11-29T05:17:19.237473",
     "status": "completed"
    },
    "tags": []
   },
   "source": [
    "# Diet Mapping"
   ]
  },
  {
   "cell_type": "code",
   "execution_count": null,
   "id": "5d8b38c5",
   "metadata": {
    "execution": {
     "iopub.execute_input": "2024-11-29T05:17:19.360424Z",
     "iopub.status.busy": "2024-11-29T05:17:19.360039Z",
     "iopub.status.idle": "2024-11-29T05:17:19.390823Z",
     "shell.execute_reply": "2024-11-29T05:17:19.389706Z"
    },
    "papermill": {
     "duration": 0.075375,
     "end_time": "2024-11-29T05:17:19.393417",
     "exception": false,
     "start_time": "2024-11-29T05:17:19.318042",
     "status": "completed"
    },
    "tags": []
   },
   "outputs": [],
   "source": [
    "diet_mapping = {\n",
    "    'Unhealthy': 3,\n",
    "    'Moderate': 2,\n",
    "    'Healthy': 1\n",
    "}\n",
    "\n",
    "for df in datasets:\n",
    "    df['Dietary Habits Category'] = df['Dietary Habits'].map(diet_mapping)\n",
    "\n",
    "    mode = df['Dietary Habits Category'].mode()[0]\n",
    "    df['Dietary Habits Category'] = df['Dietary Habits Category'].fillna(mode)"
   ]
  },
  {
   "cell_type": "markdown",
   "id": "1b581deb",
   "metadata": {
    "papermill": {
     "duration": 0.039964,
     "end_time": "2024-11-29T05:17:19.474494",
     "exception": false,
     "start_time": "2024-11-29T05:17:19.434530",
     "status": "completed"
    },
    "tags": []
   },
   "source": [
    "# Degree Mapping"
   ]
  },
  {
   "cell_type": "code",
   "execution_count": null,
   "id": "6ac92276",
   "metadata": {
    "execution": {
     "iopub.execute_input": "2024-11-29T05:17:19.556544Z",
     "iopub.status.busy": "2024-11-29T05:17:19.556189Z",
     "iopub.status.idle": "2024-11-29T05:17:19.584185Z",
     "shell.execute_reply": "2024-11-29T05:17:19.582940Z"
    },
    "papermill": {
     "duration": 0.071843,
     "end_time": "2024-11-29T05:17:19.586980",
     "exception": false,
     "start_time": "2024-11-29T05:17:19.515137",
     "status": "completed"
    },
    "tags": []
   },
   "outputs": [],
   "source": [
    "degree_mapping = {\n",
    "    'High Difficulty': 3,\n",
    "    'Moderate Difficulty': 2,\n",
    "    'Low Difficulty': 1\n",
    "}\n",
    "\n",
    "for df in datasets:\n",
    "    df['Degree Category Coded'] = df['Degree Category'].map(degree_mapping)"
   ]
  },
  {
   "cell_type": "markdown",
   "id": "5ec30b26",
   "metadata": {
    "papermill": {
     "duration": 0.040855,
     "end_time": "2024-11-29T05:17:19.668516",
     "exception": false,
     "start_time": "2024-11-29T05:17:19.627661",
     "status": "completed"
    },
    "tags": []
   },
   "source": [
    "# Suicidal Thoughts Response Mapping"
   ]
  },
  {
   "cell_type": "code",
   "execution_count": null,
   "id": "b23d9db5",
   "metadata": {
    "execution": {
     "iopub.execute_input": "2024-11-29T05:17:19.752904Z",
     "iopub.status.busy": "2024-11-29T05:17:19.752493Z",
     "iopub.status.idle": "2024-11-29T05:17:19.782843Z",
     "shell.execute_reply": "2024-11-29T05:17:19.781608Z"
    },
    "papermill": {
     "duration": 0.07452,
     "end_time": "2024-11-29T05:17:19.785331",
     "exception": false,
     "start_time": "2024-11-29T05:17:19.710811",
     "status": "completed"
    },
    "tags": []
   },
   "outputs": [],
   "source": [
    "# Mapping for suicidal thoughts response\n",
    "suicidal_thoughts_mapping = {\n",
    "    'Yes': 2,\n",
    "    'No': 1\n",
    "}\n",
    "\n",
    "for df in datasets:\n",
    "    # Apply the mapping to 'Have you ever had suicidal thoughts ?'\n",
    "    df['Have you ever had suicidal thoughts ?'] = df['Have you ever had suicidal thoughts ?'].map(suicidal_thoughts_mapping)\n",
    "\n",
    "    # Fill NaN values with the most frequent value (mode) in 'Have you ever had suicidal thoughts ?'\n",
    "    df['Have you ever had suicidal thoughts ?'] = df['Have you ever had suicidal thoughts ?'].fillna(df['Have you ever had suicidal thoughts ?'].mode()[0])"
   ]
  },
  {
   "cell_type": "markdown",
   "id": "36d832ed",
   "metadata": {
    "papermill": {
     "duration": 0.040607,
     "end_time": "2024-11-29T05:17:19.868598",
     "exception": false,
     "start_time": "2024-11-29T05:17:19.827991",
     "status": "completed"
    },
    "tags": []
   },
   "source": [
    "# Family History mapping"
   ]
  },
  {
   "cell_type": "code",
   "execution_count": null,
   "id": "0139aa44",
   "metadata": {
    "execution": {
     "iopub.execute_input": "2024-11-29T05:17:20.010635Z",
     "iopub.status.busy": "2024-11-29T05:17:20.010245Z",
     "iopub.status.idle": "2024-11-29T05:17:20.043239Z",
     "shell.execute_reply": "2024-11-29T05:17:20.041929Z"
    },
    "papermill": {
     "duration": 0.080179,
     "end_time": "2024-11-29T05:17:20.045943",
     "exception": false,
     "start_time": "2024-11-29T05:17:19.965764",
     "status": "completed"
    },
    "tags": []
   },
   "outputs": [],
   "source": [
    "family_history_mapping = {\n",
    "    'Yes': 2,\n",
    "    'No': 1\n",
    "}\n",
    "\n",
    "for df in datasets:\n",
    "    # Apply the mapping to 'Family History of Mental Illness'\n",
    "    df['Family History of Mental Illness'] = df['Family History of Mental Illness'].map(family_history_mapping)\n",
    "\n",
    "    # Fill NaN values with the most frequent value (mode) in 'Family History of Mental Illness'\n",
    "    df['Family History of Mental Illness'] = df['Family History of Mental Illness'].fillna(df['Family History of Mental Illness'].mode()[0])"
   ]
  },
  {
   "cell_type": "code",
   "execution_count": null,
   "id": "8ac1e30a",
   "metadata": {
    "execution": {
     "iopub.execute_input": "2024-11-29T05:17:20.130519Z",
     "iopub.status.busy": "2024-11-29T05:17:20.130119Z",
     "iopub.status.idle": "2024-11-29T05:17:20.145917Z",
     "shell.execute_reply": "2024-11-29T05:17:20.144805Z"
    },
    "papermill": {
     "duration": 0.060987,
     "end_time": "2024-11-29T05:17:20.148237",
     "exception": false,
     "start_time": "2024-11-29T05:17:20.087250",
     "status": "completed"
    },
    "tags": []
   },
   "outputs": [],
   "source": [
    "train['Dietary Habits'].unique()"
   ]
  },
  {
   "cell_type": "code",
   "execution_count": null,
   "id": "ea634cb8",
   "metadata": {
    "execution": {
     "iopub.execute_input": "2024-11-29T05:17:20.236140Z",
     "iopub.status.busy": "2024-11-29T05:17:20.235763Z",
     "iopub.status.idle": "2024-11-29T05:17:20.324187Z",
     "shell.execute_reply": "2024-11-29T05:17:20.323021Z"
    },
    "papermill": {
     "duration": 0.136053,
     "end_time": "2024-11-29T05:17:20.326711",
     "exception": false,
     "start_time": "2024-11-29T05:17:20.190658",
     "status": "completed"
    },
    "tags": []
   },
   "outputs": [],
   "source": [
    "train.isna().sum()"
   ]
  },
  {
   "cell_type": "markdown",
   "id": "c8290ddd",
   "metadata": {
    "papermill": {
     "duration": 0.041351,
     "end_time": "2024-11-29T05:17:20.411310",
     "exception": false,
     "start_time": "2024-11-29T05:17:20.369959",
     "status": "completed"
    },
    "tags": []
   },
   "source": [
    "# Assigning City Tier"
   ]
  },
  {
   "cell_type": "code",
   "execution_count": null,
   "id": "cc4560fd",
   "metadata": {
    "execution": {
     "iopub.execute_input": "2024-11-29T05:17:20.495142Z",
     "iopub.status.busy": "2024-11-29T05:17:20.494757Z",
     "iopub.status.idle": "2024-11-29T05:17:20.858754Z",
     "shell.execute_reply": "2024-11-29T05:17:20.857366Z"
    },
    "papermill": {
     "duration": 0.408899,
     "end_time": "2024-11-29T05:17:20.861431",
     "exception": false,
     "start_time": "2024-11-29T05:17:20.452532",
     "status": "completed"
    },
    "tags": []
   },
   "outputs": [],
   "source": [
    "# Get value counts for the City column\n",
    "city_value_counts = train['City'].value_counts().reset_index()\n",
    "city_value_counts.columns = ['City', 'Count']  # Rename columns for clarity\n",
    "\n",
    "# Export the value counts to an Excel file\n",
    "output_file = 'city_value_counts.xlsx'\n",
    "city_value_counts.to_excel(output_file, index=False)"
   ]
  },
  {
   "cell_type": "code",
   "execution_count": null,
   "id": "665ec080",
   "metadata": {
    "execution": {
     "iopub.execute_input": "2024-11-29T05:17:20.945907Z",
     "iopub.status.busy": "2024-11-29T05:17:20.944502Z",
     "iopub.status.idle": "2024-11-29T05:17:20.975114Z",
     "shell.execute_reply": "2024-11-29T05:17:20.973947Z"
    },
    "papermill": {
     "duration": 0.075175,
     "end_time": "2024-11-29T05:17:20.977660",
     "exception": false,
     "start_time": "2024-11-29T05:17:20.902485",
     "status": "completed"
    },
    "tags": []
   },
   "outputs": [],
   "source": [
    "city_tier = pd.read_excel(\"/kaggle/input/city-tier/City Tier.xlsx\")\n"
   ]
  },
  {
   "cell_type": "code",
   "execution_count": null,
   "id": "9ed7b9bf",
   "metadata": {
    "execution": {
     "iopub.execute_input": "2024-11-29T05:17:21.061428Z",
     "iopub.status.busy": "2024-11-29T05:17:21.061031Z",
     "iopub.status.idle": "2024-11-29T05:17:21.170170Z",
     "shell.execute_reply": "2024-11-29T05:17:21.168660Z"
    },
    "papermill": {
     "duration": 0.153369,
     "end_time": "2024-11-29T05:17:21.172879",
     "exception": false,
     "start_time": "2024-11-29T05:17:21.019510",
     "status": "completed"
    },
    "tags": []
   },
   "outputs": [],
   "source": [
    "# Create a dictionary from city tier for mapping\n",
    "mapping_dict = city_tier.set_index('City')['Tier'].to_dict()\n",
    "\n",
    "city_mapping = {\n",
    "    'Molkata': 'Kolkata',\n",
    "    'Less Delhi': 'Delhi',\n",
    "    'Tolkata': 'Kolkata'\n",
    "}\n",
    "\n",
    "\n",
    "for df in datasets:\n",
    "    # Update the City column based on the mapping for specific records\n",
    "    df['City'] = df['City'].replace(city_mapping)\n",
    "\n",
    "    df['City Tier'] = df['City'].map(mapping_dict)\n",
    "\n",
    "    # Step 1: Get the top 5 most frequent cities\n",
    "    top_5_cities = df['City'].mode()[:5]\n",
    "    \n",
    "    # Step 2: Randomly fill NaN values with one of the top 5 cities\n",
    "    # Set the random seed for reproducibility\n",
    "    random_state = 42\n",
    "    np.random.seed(random_state)\n",
    "    \n",
    "    # Step 3: Generate random choices from the top 5 cities for the NaN values\n",
    "    # Ensure we only generate enough values to fill the NaNs\n",
    "    nan_indices = df['City Tier'].isna()\n",
    "    \n",
    "    # Randomly select cities for NaN values\n",
    "    random_cities = np.random.choice(top_5_cities, size=nan_indices.sum(), replace=True)\n",
    "    \n",
    "    # Step 4: Fill NaN values in the 'City' column with the randomly selected cities\n",
    "    df.loc[nan_indices, 'City'] = random_cities\n",
    "    \n",
    "    df['City Tier'] = df['City'].map(mapping_dict)\n",
    "\n"
   ]
  },
  {
   "cell_type": "code",
   "execution_count": null,
   "id": "c92a5d61",
   "metadata": {
    "execution": {
     "iopub.execute_input": "2024-11-29T05:17:21.257491Z",
     "iopub.status.busy": "2024-11-29T05:17:21.257104Z",
     "iopub.status.idle": "2024-11-29T05:17:21.346244Z",
     "shell.execute_reply": "2024-11-29T05:17:21.344941Z"
    },
    "papermill": {
     "duration": 0.133523,
     "end_time": "2024-11-29T05:17:21.349022",
     "exception": false,
     "start_time": "2024-11-29T05:17:21.215499",
     "status": "completed"
    },
    "tags": []
   },
   "outputs": [],
   "source": [
    "train.isna().sum()"
   ]
  },
  {
   "cell_type": "markdown",
   "id": "38dd21d7",
   "metadata": {
    "papermill": {
     "duration": 0.043782,
     "end_time": "2024-11-29T05:17:21.435781",
     "exception": false,
     "start_time": "2024-11-29T05:17:21.391999",
     "status": "completed"
    },
    "tags": []
   },
   "source": [
    "# Gender Coding"
   ]
  },
  {
   "cell_type": "code",
   "execution_count": null,
   "id": "2d5ebd2f",
   "metadata": {
    "execution": {
     "iopub.execute_input": "2024-11-29T05:17:21.520526Z",
     "iopub.status.busy": "2024-11-29T05:17:21.520168Z",
     "iopub.status.idle": "2024-11-29T05:17:21.566772Z",
     "shell.execute_reply": "2024-11-29T05:17:21.565631Z"
    },
    "papermill": {
     "duration": 0.090651,
     "end_time": "2024-11-29T05:17:21.568961",
     "exception": false,
     "start_time": "2024-11-29T05:17:21.478310",
     "status": "completed"
    },
    "tags": []
   },
   "outputs": [],
   "source": [
    "gender_mapping = {\n",
    "    'Male': 1,\n",
    "    'Female': 2\n",
    "}\n",
    "\n",
    "for df in datasets:\n",
    "    \n",
    "    df['Gender Coded'] = df['Gender'].map(gender_mapping)\n",
    "\n",
    "train.head()"
   ]
  },
  {
   "cell_type": "markdown",
   "id": "0c60c393",
   "metadata": {
    "papermill": {
     "duration": 0.040931,
     "end_time": "2024-11-29T05:17:21.651649",
     "exception": false,
     "start_time": "2024-11-29T05:17:21.610718",
     "status": "completed"
    },
    "tags": []
   },
   "source": [
    "# Working Professional/Student Coding"
   ]
  },
  {
   "cell_type": "code",
   "execution_count": null,
   "id": "4af33c32",
   "metadata": {
    "execution": {
     "iopub.execute_input": "2024-11-29T05:17:21.743173Z",
     "iopub.status.busy": "2024-11-29T05:17:21.742804Z",
     "iopub.status.idle": "2024-11-29T05:17:21.785982Z",
     "shell.execute_reply": "2024-11-29T05:17:21.784823Z"
    },
    "papermill": {
     "duration": 0.095668,
     "end_time": "2024-11-29T05:17:21.788378",
     "exception": false,
     "start_time": "2024-11-29T05:17:21.692710",
     "status": "completed"
    },
    "tags": []
   },
   "outputs": [],
   "source": [
    "wps_mapping = {\n",
    "    'Working Professional': 1,\n",
    "    'Student': 2\n",
    "}\n",
    "\n",
    "for df in datasets:\n",
    "    \n",
    "    df['Working Professional or Student Coded'] = df['Working Professional or Student'].map(wps_mapping)\n",
    "\n",
    "train.head()"
   ]
  },
  {
   "cell_type": "markdown",
   "id": "60d2ab8a",
   "metadata": {
    "papermill": {
     "duration": 0.055406,
     "end_time": "2024-11-29T05:17:21.889809",
     "exception": false,
     "start_time": "2024-11-29T05:17:21.834403",
     "status": "completed"
    },
    "tags": []
   },
   "source": [
    "# One-hot encoding Profession Category"
   ]
  },
  {
   "cell_type": "code",
   "execution_count": null,
   "id": "02213b72",
   "metadata": {
    "execution": {
     "iopub.execute_input": "2024-11-29T05:17:21.982483Z",
     "iopub.status.busy": "2024-11-29T05:17:21.982123Z",
     "iopub.status.idle": "2024-11-29T05:17:22.162617Z",
     "shell.execute_reply": "2024-11-29T05:17:22.160683Z"
    },
    "papermill": {
     "duration": 0.227153,
     "end_time": "2024-11-29T05:17:22.166242",
     "exception": false,
     "start_time": "2024-11-29T05:17:21.939089",
     "status": "completed"
    },
    "tags": []
   },
   "outputs": [],
   "source": [
    "train = pd.get_dummies(train, columns=['Profession Category'], drop_first=False)\n",
    "test = pd.get_dummies(test, columns=['Profession Category'], drop_first=False)\n",
    "original = pd.get_dummies(original, columns=['Profession Category'], drop_first=False)\n"
   ]
  },
  {
   "cell_type": "code",
   "execution_count": null,
   "id": "54de8f14",
   "metadata": {
    "execution": {
     "iopub.execute_input": "2024-11-29T05:17:22.265248Z",
     "iopub.status.busy": "2024-11-29T05:17:22.264868Z",
     "iopub.status.idle": "2024-11-29T05:17:22.272301Z",
     "shell.execute_reply": "2024-11-29T05:17:22.271241Z"
    },
    "papermill": {
     "duration": 0.053009,
     "end_time": "2024-11-29T05:17:22.275226",
     "exception": false,
     "start_time": "2024-11-29T05:17:22.222217",
     "status": "completed"
    },
    "tags": []
   },
   "outputs": [],
   "source": [
    "train.columns"
   ]
  },
  {
   "cell_type": "code",
   "execution_count": null,
   "id": "89fd81df",
   "metadata": {
    "execution": {
     "iopub.execute_input": "2024-11-29T05:17:22.368983Z",
     "iopub.status.busy": "2024-11-29T05:17:22.368415Z",
     "iopub.status.idle": "2024-11-29T05:17:22.426126Z",
     "shell.execute_reply": "2024-11-29T05:17:22.424825Z"
    },
    "papermill": {
     "duration": 0.104679,
     "end_time": "2024-11-29T05:17:22.428825",
     "exception": false,
     "start_time": "2024-11-29T05:17:22.324146",
     "status": "completed"
    },
    "tags": []
   },
   "outputs": [],
   "source": [
    "boolean_columns = ['Profession Category_Business_and_Finance',\n",
    "       'Profession Category_Creative_and_Design',\n",
    "       'Profession Category_Education', 'Profession Category_Engineering',\n",
    "       'Profession Category_Finanancial Analyst',\n",
    "       'Profession Category_HR Manager', 'Profession Category_Healthcare',\n",
    "       'Profession Category_Law_and_Government',\n",
    "       'Profession Category_Other_or_Miscellaneous',\n",
    "       'Profession Category_Research Analyst',\n",
    "       'Profession Category_Sales_and_Marketing',\n",
    "       'Profession Category_Science_and_Research',\n",
    "       'Profession Category_Skilled_Trades', 'Profession Category_Student',\n",
    "       'Profession Category_Technology',\n",
    "       'Profession Category_Working Professional']\n",
    "\n",
    "train[boolean_columns] = train[boolean_columns].astype(int)\n",
    "test[boolean_columns] = test[boolean_columns].astype(int)\n",
    "original[boolean_columns] = original[boolean_columns].astype(int)\n",
    "\n",
    "train.head()"
   ]
  },
  {
   "cell_type": "code",
   "execution_count": null,
   "id": "3775d988",
   "metadata": {
    "execution": {
     "iopub.execute_input": "2024-11-29T05:17:22.515970Z",
     "iopub.status.busy": "2024-11-29T05:17:22.515223Z",
     "iopub.status.idle": "2024-11-29T05:17:22.523013Z",
     "shell.execute_reply": "2024-11-29T05:17:22.521619Z"
    },
    "papermill": {
     "duration": 0.054379,
     "end_time": "2024-11-29T05:17:22.525323",
     "exception": false,
     "start_time": "2024-11-29T05:17:22.470944",
     "status": "completed"
    },
    "tags": []
   },
   "outputs": [],
   "source": [
    "train.columns"
   ]
  },
  {
   "cell_type": "markdown",
   "id": "e6186d67",
   "metadata": {
    "papermill": {
     "duration": 0.047506,
     "end_time": "2024-11-29T05:17:22.617520",
     "exception": false,
     "start_time": "2024-11-29T05:17:22.570014",
     "status": "completed"
    },
    "tags": []
   },
   "source": [
    "# Sleep Duration Mapping"
   ]
  },
  {
   "cell_type": "code",
   "execution_count": null,
   "id": "43e9985f",
   "metadata": {
    "execution": {
     "iopub.execute_input": "2024-11-29T05:17:22.721549Z",
     "iopub.status.busy": "2024-11-29T05:17:22.720987Z",
     "iopub.status.idle": "2024-11-29T05:17:22.745032Z",
     "shell.execute_reply": "2024-11-29T05:17:22.743834Z"
    },
    "papermill": {
     "duration": 0.071045,
     "end_time": "2024-11-29T05:17:22.747375",
     "exception": false,
     "start_time": "2024-11-29T05:17:22.676330",
     "status": "completed"
    },
    "tags": []
   },
   "outputs": [],
   "source": [
    "train['Sleep Duration Category'].value_counts()"
   ]
  },
  {
   "cell_type": "code",
   "execution_count": null,
   "id": "be66b2de",
   "metadata": {
    "execution": {
     "iopub.execute_input": "2024-11-29T05:17:22.837783Z",
     "iopub.status.busy": "2024-11-29T05:17:22.837268Z",
     "iopub.status.idle": "2024-11-29T05:17:22.868422Z",
     "shell.execute_reply": "2024-11-29T05:17:22.867023Z"
    },
    "papermill": {
     "duration": 0.079794,
     "end_time": "2024-11-29T05:17:22.871220",
     "exception": false,
     "start_time": "2024-11-29T05:17:22.791426",
     "status": "completed"
    },
    "tags": []
   },
   "outputs": [],
   "source": [
    "sdc_mapping = {\n",
    "    'Healthy': 1,\n",
    "    'Moderate': 2,\n",
    "    'Unhealthy': 3\n",
    "}\n",
    "\n",
    "train['Sleep Duration Category Coded'] = train['Sleep Duration Category'].map(sdc_mapping)\n",
    "test['Sleep Duration Category Coded'] = test['Sleep Duration Category'].map(sdc_mapping)\n",
    "original['Sleep Duration Category Coded'] = original['Sleep Duration Category'].map(sdc_mapping)\n",
    "\n",
    "train.columns"
   ]
  },
  {
   "cell_type": "code",
   "execution_count": null,
   "id": "1b4d286d",
   "metadata": {
    "execution": {
     "iopub.execute_input": "2024-11-29T05:17:22.965845Z",
     "iopub.status.busy": "2024-11-29T05:17:22.965439Z",
     "iopub.status.idle": "2024-11-29T05:17:26.622143Z",
     "shell.execute_reply": "2024-11-29T05:17:26.620924Z"
    },
    "papermill": {
     "duration": 3.710944,
     "end_time": "2024-11-29T05:17:26.632409",
     "exception": false,
     "start_time": "2024-11-29T05:17:22.921465",
     "status": "completed"
    },
    "tags": []
   },
   "outputs": [],
   "source": [
    "def corr(df):\n",
    "\n",
    "    features = df.select_dtypes(include=['number'])\n",
    "    \n",
    "    # Compute the correlation matrix\n",
    "    correlation_matrix = features.corr()\n",
    "\n",
    "    # Extract correlations of independent variables with the target variable\n",
    "    target_corr = correlation_matrix['Depression'].drop('Depression')  # Drop self-correlation\n",
    "    \n",
    "    # Display correlations with the target\n",
    "    print(\"Correlations with the target variable:\")\n",
    "    print(target_corr)\n",
    "    \n",
    "    # Plot a heatmap of the full correlation matrix (optional)\n",
    "    plt.figure(figsize=(15, 12))\n",
    "    sns.heatmap(correlation_matrix, annot=True, cmap='coolwarm', fmt='.2f')\n",
    "    plt.title('Correlation Matrix')\n",
    "    plt.show()\n",
    "\n",
    "corr(train)"
   ]
  },
  {
   "cell_type": "code",
   "execution_count": null,
   "id": "a0735643",
   "metadata": {
    "execution": {
     "iopub.execute_input": "2024-11-29T05:17:26.741951Z",
     "iopub.status.busy": "2024-11-29T05:17:26.741517Z",
     "iopub.status.idle": "2024-11-29T05:17:26.765545Z",
     "shell.execute_reply": "2024-11-29T05:17:26.764533Z"
    },
    "papermill": {
     "duration": 0.081474,
     "end_time": "2024-11-29T05:17:26.767929",
     "exception": false,
     "start_time": "2024-11-29T05:17:26.686455",
     "status": "completed"
    },
    "tags": []
   },
   "outputs": [],
   "source": [
    "train.head()"
   ]
  },
  {
   "cell_type": "markdown",
   "id": "c17f8465",
   "metadata": {
    "papermill": {
     "duration": 0.056217,
     "end_time": "2024-11-29T05:17:26.878295",
     "exception": false,
     "start_time": "2024-11-29T05:17:26.822078",
     "status": "completed"
    },
    "tags": []
   },
   "source": [
    "# Error Code"
   ]
  },
  {
   "cell_type": "code",
   "execution_count": null,
   "id": "de267b67",
   "metadata": {
    "execution": {
     "iopub.execute_input": "2024-11-29T05:17:26.989249Z",
     "iopub.status.busy": "2024-11-29T05:17:26.988863Z",
     "iopub.status.idle": "2024-11-29T05:17:26.993694Z",
     "shell.execute_reply": "2024-11-29T05:17:26.992470Z"
    },
    "papermill": {
     "duration": 0.062688,
     "end_time": "2024-11-29T05:17:26.995803",
     "exception": false,
     "start_time": "2024-11-29T05:17:26.933115",
     "status": "completed"
    },
    "tags": []
   },
   "outputs": [],
   "source": []
  },
  {
   "cell_type": "markdown",
   "id": "09a8c89a",
   "metadata": {
    "papermill": {
     "duration": 0.054979,
     "end_time": "2024-11-29T05:17:27.105161",
     "exception": false,
     "start_time": "2024-11-29T05:17:27.050182",
     "status": "completed"
    },
    "tags": []
   },
   "source": [
    "# Model 1 - Random Forest"
   ]
  },
  {
   "cell_type": "code",
   "execution_count": null,
   "id": "c0fdff96",
   "metadata": {
    "execution": {
     "iopub.execute_input": "2024-11-29T05:17:27.215446Z",
     "iopub.status.busy": "2024-11-29T05:17:27.215070Z",
     "iopub.status.idle": "2024-11-29T05:17:27.267402Z",
     "shell.execute_reply": "2024-11-29T05:17:27.266156Z"
    },
    "papermill": {
     "duration": 0.110298,
     "end_time": "2024-11-29T05:17:27.269892",
     "exception": false,
     "start_time": "2024-11-29T05:17:27.159594",
     "status": "completed"
    },
    "tags": []
   },
   "outputs": [],
   "source": [
    "train_modified = train.copy()"
   ]
  },
  {
   "cell_type": "code",
   "execution_count": null,
   "id": "fff82994",
   "metadata": {
    "execution": {
     "iopub.execute_input": "2024-11-29T05:17:27.377517Z",
     "iopub.status.busy": "2024-11-29T05:17:27.377135Z",
     "iopub.status.idle": "2024-11-29T05:17:27.384153Z",
     "shell.execute_reply": "2024-11-29T05:17:27.383058Z"
    },
    "papermill": {
     "duration": 0.063594,
     "end_time": "2024-11-29T05:17:27.386437",
     "exception": false,
     "start_time": "2024-11-29T05:17:27.322843",
     "status": "completed"
    },
    "tags": []
   },
   "outputs": [],
   "source": [
    "train_modified.columns #['Dietary Habits Category'].value_counts()"
   ]
  },
  {
   "cell_type": "code",
   "execution_count": null,
   "id": "88759c9b",
   "metadata": {
    "execution": {
     "iopub.execute_input": "2024-11-29T05:17:27.498089Z",
     "iopub.status.busy": "2024-11-29T05:17:27.497719Z",
     "iopub.status.idle": "2024-11-29T05:17:27.585861Z",
     "shell.execute_reply": "2024-11-29T05:17:27.584647Z"
    },
    "papermill": {
     "duration": 0.146125,
     "end_time": "2024-11-29T05:17:27.588227",
     "exception": false,
     "start_time": "2024-11-29T05:17:27.442102",
     "status": "completed"
    },
    "tags": []
   },
   "outputs": [],
   "source": [
    "X = train_modified.drop(columns=['Working Professional or Student', 'Profession', 'Satisfaction', 'Work/Academic Pressure', 'id', 'Sleep Duration', 'Name', 'City', 'Gender', 'Dietary Habits', 'Degree', 'Degree Category', 'Sleep Duration Category'])\n",
    "\n",
    "RF_X = X.drop('Depression', axis=1, inplace=False)\n",
    "RF_Y = X['Depression']\n",
    "\n",
    "RF_X"
   ]
  },
  {
   "cell_type": "code",
   "execution_count": null,
   "id": "4c5520a3",
   "metadata": {
    "execution": {
     "iopub.execute_input": "2024-11-29T05:17:27.700266Z",
     "iopub.status.busy": "2024-11-29T05:17:27.699887Z",
     "iopub.status.idle": "2024-11-29T05:17:27.767336Z",
     "shell.execute_reply": "2024-11-29T05:17:27.766236Z"
    },
    "papermill": {
     "duration": 0.125123,
     "end_time": "2024-11-29T05:17:27.769579",
     "exception": false,
     "start_time": "2024-11-29T05:17:27.644456",
     "status": "completed"
    },
    "tags": []
   },
   "outputs": [],
   "source": [
    "RF_X = RF_X.fillna(-1)\n",
    "\n",
    "RF_X"
   ]
  },
  {
   "cell_type": "code",
   "execution_count": null,
   "id": "94bbbec3",
   "metadata": {
    "execution": {
     "iopub.execute_input": "2024-11-29T05:17:27.885283Z",
     "iopub.status.busy": "2024-11-29T05:17:27.884905Z",
     "iopub.status.idle": "2024-11-29T05:17:28.745972Z",
     "shell.execute_reply": "2024-11-29T05:17:28.744825Z"
    },
    "papermill": {
     "duration": 0.923035,
     "end_time": "2024-11-29T05:17:28.748281",
     "exception": false,
     "start_time": "2024-11-29T05:17:27.825246",
     "status": "completed"
    },
    "tags": []
   },
   "outputs": [],
   "source": [
    "import optuna\n",
    "from sklearn.ensemble import RandomForestClassifier\n",
    "from sklearn.model_selection import StratifiedKFold, cross_val_score, train_test_split\n",
    "from sklearn.metrics import accuracy_score\n"
   ]
  },
  {
   "cell_type": "markdown",
   "id": "53473dbd",
   "metadata": {
    "papermill": {
     "duration": 0.055708,
     "end_time": "2024-11-29T05:17:28.858753",
     "exception": false,
     "start_time": "2024-11-29T05:17:28.803045",
     "status": "completed"
    },
    "tags": []
   },
   "source": [
    "# Optuna Optimization - Random Forest"
   ]
  },
  {
   "cell_type": "code",
   "execution_count": null,
   "id": "52b7e59f",
   "metadata": {
    "execution": {
     "iopub.execute_input": "2024-11-29T05:17:28.970074Z",
     "iopub.status.busy": "2024-11-29T05:17:28.969664Z",
     "iopub.status.idle": "2024-11-29T05:17:28.975228Z",
     "shell.execute_reply": "2024-11-29T05:17:28.974114Z"
    },
    "papermill": {
     "duration": 0.064018,
     "end_time": "2024-11-29T05:17:28.977303",
     "exception": false,
     "start_time": "2024-11-29T05:17:28.913285",
     "status": "completed"
    },
    "tags": []
   },
   "outputs": [],
   "source": [
    "\n",
    "\n",
    "\n",
    "# # Define the objective function for Optuna\n",
    "# def objective(trial, RF_X, RF_Y):\n",
    "#     # Define hyperparameter space\n",
    "#     n_estimators = trial.suggest_int('n_estimators', 50, 300)\n",
    "#     max_depth = trial.suggest_int('max_depth', 5, 50, log=True)\n",
    "#     min_samples_split = trial.suggest_int('min_samples_split', 2, 10)\n",
    "#     min_samples_leaf = trial.suggest_int('min_samples_leaf', 1, 5)\n",
    "#     max_features = trial.suggest_categorical('max_features', ['sqrt', 'log2', None])\n",
    "    \n",
    "#     # Define the Random Forest model\n",
    "#     model = RandomForestClassifier(\n",
    "#         n_estimators=n_estimators,\n",
    "#         max_depth=max_depth,\n",
    "#         min_samples_split=min_samples_split,\n",
    "#         min_samples_leaf=min_samples_leaf,\n",
    "#         max_features=max_features,\n",
    "#         random_state=42\n",
    "#     )\n",
    "    \n",
    "#     # Stratified K-Fold Cross-Validation\n",
    "#     skf = StratifiedKFold(n_splits=5, shuffle=True, random_state=42)\n",
    "#     scores = cross_val_score(model, RF_X, RF_Y, cv=skf, scoring='accuracy')\n",
    "    \n",
    "#     # Return the mean accuracy\n",
    "#     return scores.mean()\n",
    "\n",
    "# # # Create an Optuna study\n",
    "# # study = optuna.create_study(direction='maximize')\n",
    "# # study.optimize(objective, n_trials=50)  # Adjust n_trials as needed\n",
    "\n",
    "# # # Display the best hyperparameters and the best score\n",
    "# # print(\"Best Hyperparameters:\", study.best_params)\n",
    "# # print(\"Best Cross-Validation Accuracy:\", study.best_value)"
   ]
  },
  {
   "cell_type": "code",
   "execution_count": null,
   "id": "09149f25",
   "metadata": {
    "execution": {
     "iopub.execute_input": "2024-11-29T05:17:29.091481Z",
     "iopub.status.busy": "2024-11-29T05:17:29.090447Z",
     "iopub.status.idle": "2024-11-29T05:18:45.732939Z",
     "shell.execute_reply": "2024-11-29T05:18:45.731637Z"
    },
    "papermill": {
     "duration": 76.702093,
     "end_time": "2024-11-29T05:18:45.735158",
     "exception": false,
     "start_time": "2024-11-29T05:17:29.033065",
     "status": "completed"
    },
    "tags": []
   },
   "outputs": [],
   "source": [
    "# Number of folds\n",
    "n_splits = 5\n",
    "skf = StratifiedKFold(n_splits=n_splits, shuffle=True, random_state=42)\n",
    "\n",
    "# Initialize an array to hold out-of-fold (OOF) predictions\n",
    "oof_predictions = np.zeros((RF_X.shape[0], len(np.unique(RF_Y))))\n",
    "\n",
    "# Initialize a list to store fold accuracies\n",
    "fold_accuracies = []\n",
    "\n",
    "# Loop through Stratified K-Fold splits\n",
    "for fold, (train_idx, val_idx) in enumerate(skf.split(RF_X, RF_Y)):\n",
    "    print(f\"Training fold {fold + 1}/{n_splits}...\")\n",
    "    \n",
    "    # Split data into training and validation sets\n",
    "    X_train, X_val = RF_X.iloc[train_idx], RF_X.iloc[val_idx]\n",
    "    y_train, y_val = RF_Y[train_idx], RF_Y[val_idx]\n",
    "    \n",
    "    # Train the Random Forest model\n",
    "    model = RandomForestClassifier(\n",
    "        n_estimators=142,\n",
    "        max_depth=24,\n",
    "        min_samples_split=3,\n",
    "        min_samples_leaf=3,\n",
    "        max_features='log2',\n",
    "        random_state=42\n",
    "    )\n",
    "    \n",
    "    model.fit(X_train, y_train)\n",
    "    \n",
    "    # Predict on the validation set\n",
    "    val_preds = model.predict_proba(X_val)  # Use predict_proba for stacking (probability output)\n",
    "    oof_predictions[val_idx] = val_preds  # Save predictions for stacking\n",
    "    \n",
    "    # Calculate accuracy for the fold\n",
    "    fold_accuracy = accuracy_score(y_val, np.argmax(val_preds, axis=1))\n",
    "    fold_accuracies.append(fold_accuracy)\n",
    "    print(f\"Fold {fold + 1} accuracy: {fold_accuracy:.4f}\")\n",
    "\n",
    "# Calculate overall accuracy\n",
    "average_accuracy = np.mean(fold_accuracies)\n",
    "print(f\"\\nAverage accuracy across all folds: {average_accuracy:.4f}\")"
   ]
  },
  {
   "cell_type": "code",
   "execution_count": null,
   "id": "72778030",
   "metadata": {
    "execution": {
     "iopub.execute_input": "2024-11-29T05:18:45.847162Z",
     "iopub.status.busy": "2024-11-29T05:18:45.846781Z",
     "iopub.status.idle": "2024-11-29T05:18:45.879584Z",
     "shell.execute_reply": "2024-11-29T05:18:45.878481Z"
    },
    "papermill": {
     "duration": 0.092512,
     "end_time": "2024-11-29T05:18:45.882413",
     "exception": false,
     "start_time": "2024-11-29T05:18:45.789901",
     "status": "completed"
    },
    "tags": []
   },
   "outputs": [],
   "source": [
    "# Get feature importances\n",
    "feature_importances = model.feature_importances_\n",
    "\n",
    "# Create a DataFrame for better visualization\n",
    "importance_df = pd.DataFrame({\n",
    "    'Feature': RF_X.columns,\n",
    "    'Importance': feature_importances\n",
    "}).sort_values(by='Importance', ascending=False)\n",
    "\n",
    "# Display the features sorted by importance\n",
    "print(importance_df)"
   ]
  },
  {
   "cell_type": "code",
   "execution_count": null,
   "id": "3c593006",
   "metadata": {
    "execution": {
     "iopub.execute_input": "2024-11-29T05:18:45.995549Z",
     "iopub.status.busy": "2024-11-29T05:18:45.994791Z",
     "iopub.status.idle": "2024-11-29T05:18:46.001772Z",
     "shell.execute_reply": "2024-11-29T05:18:46.000577Z"
    },
    "papermill": {
     "duration": 0.065342,
     "end_time": "2024-11-29T05:18:46.003894",
     "exception": false,
     "start_time": "2024-11-29T05:18:45.938552",
     "status": "completed"
    },
    "tags": []
   },
   "outputs": [],
   "source": [
    "RF_X.columns"
   ]
  },
  {
   "cell_type": "code",
   "execution_count": null,
   "id": "04b2154b",
   "metadata": {
    "execution": {
     "iopub.execute_input": "2024-11-29T05:18:46.120327Z",
     "iopub.status.busy": "2024-11-29T05:18:46.119930Z",
     "iopub.status.idle": "2024-11-29T05:18:46.136537Z",
     "shell.execute_reply": "2024-11-29T05:18:46.135393Z"
    },
    "papermill": {
     "duration": 0.078711,
     "end_time": "2024-11-29T05:18:46.139216",
     "exception": false,
     "start_time": "2024-11-29T05:18:46.060505",
     "status": "completed"
    },
    "tags": []
   },
   "outputs": [],
   "source": [
    "\n",
    "# Save OOF predictions as a DataFrame (optional)\n",
    "oof_RF = pd.DataFrame(oof_predictions, columns=[f\"Class_{i}\" for i in range(oof_predictions.shape[1])])\n",
    "oof_RF['True_Label'] = RF_Y\n",
    "oof_RF['Predicted_Label'] = (oof_RF['Class_0'] < oof_RF['Class_1']).astype(int)\n",
    "\n",
    "oof_RF"
   ]
  },
  {
   "cell_type": "code",
   "execution_count": null,
   "id": "9d0f54be",
   "metadata": {
    "execution": {
     "iopub.execute_input": "2024-11-29T05:18:46.254172Z",
     "iopub.status.busy": "2024-11-29T05:18:46.253799Z",
     "iopub.status.idle": "2024-11-29T05:18:46.273954Z",
     "shell.execute_reply": "2024-11-29T05:18:46.272717Z"
    },
    "papermill": {
     "duration": 0.080152,
     "end_time": "2024-11-29T05:18:46.276290",
     "exception": false,
     "start_time": "2024-11-29T05:18:46.196138",
     "status": "completed"
    },
    "tags": []
   },
   "outputs": [],
   "source": [
    "from sklearn.metrics import accuracy_score\n",
    "\n",
    "# Calculate accuracy\n",
    "accuracy = accuracy_score(oof_RF['True_Label'], oof_RF['Predicted_Label'])\n",
    "\n",
    "print(f\"Accuracy: {accuracy:.4f}\")"
   ]
  },
  {
   "cell_type": "markdown",
   "id": "9c11f240",
   "metadata": {
    "papermill": {
     "duration": 0.057201,
     "end_time": "2024-11-29T05:18:46.389473",
     "exception": false,
     "start_time": "2024-11-29T05:18:46.332272",
     "status": "completed"
    },
    "tags": []
   },
   "source": [
    "**> RF Model trained on all features performs better than the model trained on selected features**"
   ]
  },
  {
   "cell_type": "markdown",
   "id": "42429dad",
   "metadata": {
    "papermill": {
     "duration": 0.055228,
     "end_time": "2024-11-29T05:18:46.501985",
     "exception": false,
     "start_time": "2024-11-29T05:18:46.446757",
     "status": "completed"
    },
    "tags": []
   },
   "source": [
    "# OOF Predictions : Random Forest"
   ]
  },
  {
   "cell_type": "code",
   "execution_count": null,
   "id": "65f5fd6e",
   "metadata": {
    "execution": {
     "iopub.execute_input": "2024-11-29T05:18:46.616479Z",
     "iopub.status.busy": "2024-11-29T05:18:46.616121Z",
     "iopub.status.idle": "2024-11-29T05:18:46.628791Z",
     "shell.execute_reply": "2024-11-29T05:18:46.627552Z"
    },
    "papermill": {
     "duration": 0.073641,
     "end_time": "2024-11-29T05:18:46.631010",
     "exception": false,
     "start_time": "2024-11-29T05:18:46.557369",
     "status": "completed"
    },
    "tags": []
   },
   "outputs": [],
   "source": [
    "\n",
    "oof_RF"
   ]
  },
  {
   "cell_type": "markdown",
   "id": "e67ec684",
   "metadata": {
    "papermill": {
     "duration": 0.055111,
     "end_time": "2024-11-29T05:18:46.741816",
     "exception": false,
     "start_time": "2024-11-29T05:18:46.686705",
     "status": "completed"
    },
    "tags": []
   },
   "source": [
    "# Generating Predictions on Test Dataset"
   ]
  },
  {
   "cell_type": "code",
   "execution_count": null,
   "id": "92419fc0",
   "metadata": {
    "execution": {
     "iopub.execute_input": "2024-11-29T05:18:46.856491Z",
     "iopub.status.busy": "2024-11-29T05:18:46.856093Z",
     "iopub.status.idle": "2024-11-29T05:18:46.912776Z",
     "shell.execute_reply": "2024-11-29T05:18:46.911547Z"
    },
    "papermill": {
     "duration": 0.117768,
     "end_time": "2024-11-29T05:18:46.915079",
     "exception": false,
     "start_time": "2024-11-29T05:18:46.797311",
     "status": "completed"
    },
    "tags": []
   },
   "outputs": [],
   "source": [
    "test.isna().sum()"
   ]
  },
  {
   "cell_type": "code",
   "execution_count": null,
   "id": "b71110d1",
   "metadata": {
    "execution": {
     "iopub.execute_input": "2024-11-29T05:18:47.032344Z",
     "iopub.status.busy": "2024-11-29T05:18:47.031934Z",
     "iopub.status.idle": "2024-11-29T05:18:47.146134Z",
     "shell.execute_reply": "2024-11-29T05:18:47.144830Z"
    },
    "papermill": {
     "duration": 0.175389,
     "end_time": "2024-11-29T05:18:47.148778",
     "exception": false,
     "start_time": "2024-11-29T05:18:46.973389",
     "status": "completed"
    },
    "tags": []
   },
   "outputs": [],
   "source": [
    "test_modified = test.copy()\n",
    "\n",
    "test_modified = test_modified.fillna(-1)\n",
    "\n",
    "test_features = test_modified[['Age', 'Academic Pressure', 'Work Pressure', 'CGPA',\n",
    "       'Study Satisfaction', 'Job Satisfaction',\n",
    "       'Have you ever had suicidal thoughts ?', 'Work/Study Hours',\n",
    "       'Financial Stress', 'Family History of Mental Illness',\n",
    "       'Dietary Habits Category', 'Degree Category Coded', 'City Tier',\n",
    "       'Gender Coded', 'Working Professional or Student Coded',\n",
    "       'Profession Category_Business_and_Finance',\n",
    "       'Profession Category_Creative_and_Design',\n",
    "       'Profession Category_Education', 'Profession Category_Engineering',\n",
    "       'Profession Category_Finanancial Analyst',\n",
    "       'Profession Category_HR Manager', 'Profession Category_Healthcare',\n",
    "       'Profession Category_Law_and_Government',\n",
    "       'Profession Category_Other_or_Miscellaneous',\n",
    "       'Profession Category_Research Analyst',\n",
    "       'Profession Category_Sales_and_Marketing',\n",
    "       'Profession Category_Science_and_Research',\n",
    "       'Profession Category_Skilled_Trades', 'Profession Category_Student',\n",
    "       'Profession Category_Technology',\n",
    "       'Profession Category_Working Professional',\n",
    "       'Sleep Duration Category Coded']]\n"
   ]
  },
  {
   "cell_type": "code",
   "execution_count": null,
   "id": "98bbc47a",
   "metadata": {
    "execution": {
     "iopub.execute_input": "2024-11-29T05:18:47.267653Z",
     "iopub.status.busy": "2024-11-29T05:18:47.267245Z",
     "iopub.status.idle": "2024-11-29T05:18:47.274856Z",
     "shell.execute_reply": "2024-11-29T05:18:47.273664Z"
    },
    "papermill": {
     "duration": 0.070676,
     "end_time": "2024-11-29T05:18:47.277432",
     "exception": false,
     "start_time": "2024-11-29T05:18:47.206756",
     "status": "completed"
    },
    "tags": []
   },
   "outputs": [],
   "source": [
    "test_features.columns"
   ]
  },
  {
   "cell_type": "code",
   "execution_count": null,
   "id": "b3f26681",
   "metadata": {
    "execution": {
     "iopub.execute_input": "2024-11-29T05:18:47.393211Z",
     "iopub.status.busy": "2024-11-29T05:18:47.392252Z",
     "iopub.status.idle": "2024-11-29T05:18:53.103736Z",
     "shell.execute_reply": "2024-11-29T05:18:53.102647Z"
    },
    "papermill": {
     "duration": 5.772814,
     "end_time": "2024-11-29T05:18:53.106279",
     "exception": false,
     "start_time": "2024-11-29T05:18:47.333465",
     "status": "completed"
    },
    "tags": []
   },
   "outputs": [],
   "source": [
    "test_predictions = model.predict(test_features)  # Or model.predict_proba() for probabilities\n",
    "test_predictions2 = model.predict_proba(test_features)[:, 1]"
   ]
  },
  {
   "cell_type": "code",
   "execution_count": null,
   "id": "ac151233",
   "metadata": {
    "execution": {
     "iopub.execute_input": "2024-11-29T05:18:53.223472Z",
     "iopub.status.busy": "2024-11-29T05:18:53.223117Z",
     "iopub.status.idle": "2024-11-29T05:18:53.230766Z",
     "shell.execute_reply": "2024-11-29T05:18:53.229552Z"
    },
    "papermill": {
     "duration": 0.068702,
     "end_time": "2024-11-29T05:18:53.233286",
     "exception": false,
     "start_time": "2024-11-29T05:18:53.164584",
     "status": "completed"
    },
    "tags": []
   },
   "outputs": [],
   "source": [
    "\n",
    "RF_submission = pd.DataFrame({\n",
    "    'id': test_modified['id'],  # Replace 'ID' with the identifier column in the test dataset\n",
    "    'Depression': test_predictions\n",
    "})\n",
    "\n",
    "RF_test_proba = pd.DataFrame({\n",
    "    'id': test_modified['id'],  # Replace 'ID' with the identifier column in the test dataset\n",
    "    'oof_RF_proba': test_predictions2\n",
    "})"
   ]
  },
  {
   "cell_type": "code",
   "execution_count": null,
   "id": "cb32ca77",
   "metadata": {
    "execution": {
     "iopub.execute_input": "2024-11-29T05:18:53.348209Z",
     "iopub.status.busy": "2024-11-29T05:18:53.347817Z",
     "iopub.status.idle": "2024-11-29T05:18:53.421538Z",
     "shell.execute_reply": "2024-11-29T05:18:53.420374Z"
    },
    "papermill": {
     "duration": 0.134299,
     "end_time": "2024-11-29T05:18:53.424150",
     "exception": false,
     "start_time": "2024-11-29T05:18:53.289851",
     "status": "completed"
    },
    "tags": []
   },
   "outputs": [],
   "source": [
    "# Save the submission file\n",
    "RF_submission.to_csv('RF_submission.csv', index=False)"
   ]
  },
  {
   "cell_type": "markdown",
   "id": "2261be7b",
   "metadata": {
    "papermill": {
     "duration": 0.057805,
     "end_time": "2024-11-29T05:18:53.594884",
     "exception": false,
     "start_time": "2024-11-29T05:18:53.537079",
     "status": "completed"
    },
    "tags": []
   },
   "source": [
    "# Model 2 - Logistic Regression"
   ]
  },
  {
   "cell_type": "code",
   "execution_count": null,
   "id": "e13c2c0c",
   "metadata": {
    "execution": {
     "iopub.execute_input": "2024-11-29T05:18:53.712769Z",
     "iopub.status.busy": "2024-11-29T05:18:53.712308Z",
     "iopub.status.idle": "2024-11-29T05:18:53.830060Z",
     "shell.execute_reply": "2024-11-29T05:18:53.828818Z"
    },
    "papermill": {
     "duration": 0.180512,
     "end_time": "2024-11-29T05:18:53.832805",
     "exception": false,
     "start_time": "2024-11-29T05:18:53.652293",
     "status": "completed"
    },
    "tags": []
   },
   "outputs": [],
   "source": [
    "train_modified = train.copy()\n",
    "\n",
    "X = train_modified.drop(columns=['Working Professional or Student', 'Profession', 'Satisfaction', 'Work/Academic Pressure', 'id', 'Sleep Duration', 'Name', 'City', 'Gender', 'Dietary Habits', 'Degree', 'Degree Category', 'Sleep Duration Category'])\n",
    "\n",
    "LogR_X = X.drop('Depression', axis=1, inplace=False)\n",
    "LogR_Y = X['Depression']\n",
    "\n",
    "LogR_X"
   ]
  },
  {
   "cell_type": "code",
   "execution_count": null,
   "id": "b72f3358",
   "metadata": {
    "execution": {
     "iopub.execute_input": "2024-11-29T05:18:53.950143Z",
     "iopub.status.busy": "2024-11-29T05:18:53.949746Z",
     "iopub.status.idle": "2024-11-29T05:18:53.964116Z",
     "shell.execute_reply": "2024-11-29T05:18:53.962465Z"
    },
    "papermill": {
     "duration": 0.076977,
     "end_time": "2024-11-29T05:18:53.967622",
     "exception": false,
     "start_time": "2024-11-29T05:18:53.890645",
     "status": "completed"
    },
    "tags": []
   },
   "outputs": [],
   "source": [
    "LogR_X.isna().sum()"
   ]
  },
  {
   "cell_type": "markdown",
   "id": "46c0158e",
   "metadata": {
    "papermill": {
     "duration": 0.060386,
     "end_time": "2024-11-29T05:18:54.087141",
     "exception": false,
     "start_time": "2024-11-29T05:18:54.026755",
     "status": "completed"
    },
    "tags": []
   },
   "source": [
    "# Handling Nulls and Standardizing the columns"
   ]
  },
  {
   "cell_type": "code",
   "execution_count": null,
   "id": "49172bb6",
   "metadata": {
    "execution": {
     "iopub.execute_input": "2024-11-29T05:18:54.212875Z",
     "iopub.status.busy": "2024-11-29T05:18:54.212427Z",
     "iopub.status.idle": "2024-11-29T05:18:54.233764Z",
     "shell.execute_reply": "2024-11-29T05:18:54.232438Z"
    },
    "papermill": {
     "duration": 0.087894,
     "end_time": "2024-11-29T05:18:54.237212",
     "exception": false,
     "start_time": "2024-11-29T05:18:54.149318",
     "status": "completed"
    },
    "tags": []
   },
   "outputs": [],
   "source": [
    "acad_mean = LogR_X['Academic Pressure'].mean()\n",
    "LogR_X['Academic Pressure'] = LogR_X['Academic Pressure'].fillna(acad_mean)\n",
    "\n",
    "work_mean = LogR_X['Work Pressure'].mean()\n",
    "LogR_X['Work Pressure'] = LogR_X['Work Pressure'].fillna(work_mean)\n",
    "\n",
    "cgpa_mean = LogR_X['CGPA'].mean()\n",
    "LogR_X['CGPA'] = LogR_X['CGPA'].fillna(cgpa_mean)\n",
    "\n",
    "studys_mean = LogR_X['Study Satisfaction'].mean()\n",
    "LogR_X['Study Satisfaction'] = LogR_X['Study Satisfaction'].fillna(studys_mean)\n",
    "\n",
    "jobs_mean = LogR_X['Job Satisfaction'].mean()\n",
    "LogR_X['Job Satisfaction'] = LogR_X['Job Satisfaction'].fillna(jobs_mean)\n"
   ]
  },
  {
   "cell_type": "code",
   "execution_count": null,
   "id": "637f21d4",
   "metadata": {
    "execution": {
     "iopub.execute_input": "2024-11-29T05:18:54.357766Z",
     "iopub.status.busy": "2024-11-29T05:18:54.357322Z",
     "iopub.status.idle": "2024-11-29T05:18:54.381280Z",
     "shell.execute_reply": "2024-11-29T05:18:54.380172Z"
    },
    "papermill": {
     "duration": 0.087071,
     "end_time": "2024-11-29T05:18:54.383962",
     "exception": false,
     "start_time": "2024-11-29T05:18:54.296891",
     "status": "completed"
    },
    "tags": []
   },
   "outputs": [],
   "source": [
    "\n",
    "from sklearn.preprocessing import StandardScaler\n",
    "\n",
    "\n",
    "# Features to standardize\n",
    "features_to_standardize = ['Academic Pressure', 'Work Pressure', 'CGPA', 'Study Satisfaction', 'Job Satisfaction']\n",
    "\n",
    "# Initialize StandardScaler\n",
    "scaler = StandardScaler()\n",
    "\n",
    "# Apply scaler only to the selected features\n",
    "LogR_X[features_to_standardize] = scaler.fit_transform(LogR_X[features_to_standardize])\n"
   ]
  },
  {
   "cell_type": "code",
   "execution_count": null,
   "id": "03150cbb",
   "metadata": {
    "execution": {
     "iopub.execute_input": "2024-11-29T05:18:54.507350Z",
     "iopub.status.busy": "2024-11-29T05:18:54.506963Z",
     "iopub.status.idle": "2024-11-29T05:18:54.530650Z",
     "shell.execute_reply": "2024-11-29T05:18:54.529374Z"
    },
    "papermill": {
     "duration": 0.088586,
     "end_time": "2024-11-29T05:18:54.532919",
     "exception": false,
     "start_time": "2024-11-29T05:18:54.444333",
     "status": "completed"
    },
    "tags": []
   },
   "outputs": [],
   "source": [
    "LogR_X.head()"
   ]
  },
  {
   "cell_type": "markdown",
   "id": "2d8b087f",
   "metadata": {
    "papermill": {
     "duration": 0.057669,
     "end_time": "2024-11-29T05:18:54.650306",
     "exception": false,
     "start_time": "2024-11-29T05:18:54.592637",
     "status": "completed"
    },
    "tags": []
   },
   "source": [
    "# Optuna Optimization - Logistic Regression"
   ]
  },
  {
   "cell_type": "code",
   "execution_count": null,
   "id": "1f88e879",
   "metadata": {
    "execution": {
     "iopub.execute_input": "2024-11-29T05:18:54.766903Z",
     "iopub.status.busy": "2024-11-29T05:18:54.766497Z",
     "iopub.status.idle": "2024-11-29T05:18:54.772611Z",
     "shell.execute_reply": "2024-11-29T05:18:54.771412Z"
    },
    "papermill": {
     "duration": 0.067094,
     "end_time": "2024-11-29T05:18:54.774779",
     "exception": false,
     "start_time": "2024-11-29T05:18:54.707685",
     "status": "completed"
    },
    "tags": []
   },
   "outputs": [],
   "source": [
    "# import optuna\n",
    "# import pandas as pd\n",
    "# import numpy as np\n",
    "# from sklearn.linear_model import LogisticRegression\n",
    "# from sklearn.model_selection import StratifiedKFold\n",
    "# from sklearn.preprocessing import StandardScaler\n",
    "# from sklearn.metrics import log_loss, accuracy_score\n",
    "# from sklearn.datasets import load_iris\n",
    "\n",
    "# # Define Stratified K-Fold\n",
    "# n_splits = 5\n",
    "# skf = StratifiedKFold(n_splits=n_splits, shuffle=True, random_state=42)\n",
    "\n",
    "\n",
    "# # Objective function for Optuna\n",
    "# def objective(trial):\n",
    "#     # Hyperparameter space\n",
    "#     penalty = trial.suggest_categorical('penalty', ['l1', 'l2', 'elasticnet', 'none'])\n",
    "#     solver = trial.suggest_categorical('solver', ['lbfgs', 'liblinear', 'saga'])\n",
    "\n",
    "    \n",
    "#     # Handle unsupported combinations\n",
    "#     if penalty == 'none' and solver == 'liblinear':\n",
    "#         trial.set_user_attr(\"skip\", True)\n",
    "#         return np.nan\n",
    "#     if penalty == 'elasticnet' and solver != 'saga':\n",
    "#         trial.set_user_attr(\"skip\", True)\n",
    "#         return np.nan\n",
    "#     if penalty == 'l1' and solver not in ['liblinear', 'saga']:\n",
    "#         trial.set_user_attr(\"skip\", True)\n",
    "#         return np.nan\n",
    "\n",
    "\n",
    "#     l1_ratio = None\n",
    "#     if penalty == 'elasticnet':\n",
    "#         l1_ratio = trial.suggest_float('l1_ratio', 0.0, 1.0)\n",
    "\n",
    "#     C = trial.suggest_loguniform('C', 1e-4, 1e2)\n",
    "\n",
    "#     # Logistic Regression model\n",
    "#     model = LogisticRegression(\n",
    "#         penalty=penalty,\n",
    "#         solver=solver,\n",
    "#         l1_ratio=l1_ratio,\n",
    "#         C=C,\n",
    "#         random_state=42,\n",
    "#         max_iter=5000\n",
    "#     )\n",
    "\n",
    "#     # Cross-validation\n",
    "#     cv_scores = []\n",
    "#     for train_idx, val_idx in skf.split(LogR_X, LogR_Y):\n",
    "#         X_train, X_val = LogR_X.iloc[train_idx], LogR_X.iloc[val_idx]\n",
    "#         y_train, y_val = LogR_Y[train_idx], LogR_Y[val_idx]\n",
    "\n",
    "#         # Train and evaluate the model\n",
    "#         model.fit(X_train, y_train)\n",
    "#         y_pred_proba = model.predict_proba(X_val)[:, 1]\n",
    "#         cv_scores.append(log_loss(y_val, y_pred_proba))\n",
    "\n",
    "#     return np.mean(cv_scores)"
   ]
  },
  {
   "cell_type": "code",
   "execution_count": null,
   "id": "d81762bd",
   "metadata": {
    "execution": {
     "iopub.execute_input": "2024-11-29T05:18:54.892039Z",
     "iopub.status.busy": "2024-11-29T05:18:54.891258Z",
     "iopub.status.idle": "2024-11-29T05:18:54.895727Z",
     "shell.execute_reply": "2024-11-29T05:18:54.894707Z"
    },
    "papermill": {
     "duration": 0.065173,
     "end_time": "2024-11-29T05:18:54.897612",
     "exception": false,
     "start_time": "2024-11-29T05:18:54.832439",
     "status": "completed"
    },
    "tags": []
   },
   "outputs": [],
   "source": [
    "\n",
    "# # Optimize hyperparameters with Optuna\n",
    "# study = optuna.create_study(direction='minimize')\n",
    "# study.optimize(objective, n_trials=50)\n",
    "\n",
    "# # Best hyperparameters\n",
    "# print(\"Best Hyperparameters:\", study.best_params)"
   ]
  },
  {
   "cell_type": "markdown",
   "id": "eb8a9fa2",
   "metadata": {
    "papermill": {
     "duration": 0.058273,
     "end_time": "2024-11-29T05:18:55.014992",
     "exception": false,
     "start_time": "2024-11-29T05:18:54.956719",
     "status": "completed"
    },
    "tags": []
   },
   "source": [
    "# Training Logistic Regression Model"
   ]
  },
  {
   "cell_type": "code",
   "execution_count": null,
   "id": "eaacfcec",
   "metadata": {
    "execution": {
     "iopub.execute_input": "2024-11-29T05:18:55.135823Z",
     "iopub.status.busy": "2024-11-29T05:18:55.135335Z",
     "iopub.status.idle": "2024-11-29T05:33:52.681284Z",
     "shell.execute_reply": "2024-11-29T05:33:52.678996Z"
    },
    "papermill": {
     "duration": 897.745572,
     "end_time": "2024-11-29T05:33:52.819938",
     "exception": false,
     "start_time": "2024-11-29T05:18:55.074366",
     "status": "completed"
    },
    "tags": []
   },
   "outputs": [],
   "source": [
    "import numpy as np\n",
    "import pandas as pd\n",
    "from sklearn.linear_model import LogisticRegression\n",
    "from sklearn.model_selection import StratifiedKFold\n",
    "from sklearn.metrics import accuracy_score\n",
    "\n",
    "# Stratified K-Fold\n",
    "n_splits = 5\n",
    "skf = StratifiedKFold(n_splits=n_splits, shuffle=True, random_state=42)\n",
    "\n",
    "# Train Logistic Regression using best hyperparameters and collect OOF predictions\n",
    "\n",
    "model = LogisticRegression(\n",
    "    penalty='l1',\n",
    "    solver='saga',\n",
    "    C=0.07173299574706905,\n",
    "    l1_ratio=None,\n",
    "    random_state=42,\n",
    "    max_iter=5000\n",
    ")\n",
    "\n",
    "# Store accuracy for each fold\n",
    "fold_accuracies = []\n",
    "\n",
    "# Initialize arrays for OOF predictions\n",
    "oof_predictions = np.zeros(X.shape[0])\n",
    "true_labels = np.zeros(X.shape[0])\n",
    "\n",
    "# Stratified K-Fold cross-validation\n",
    "for fold, (train_idx, val_idx) in enumerate(skf.split(LogR_X, LogR_Y)):\n",
    "    print(f\"Running Fold {fold + 1}/{n_splits}...\")\n",
    "\n",
    "    # Split data\n",
    "    X_train, X_val = LogR_X.iloc[train_idx], LogR_X.iloc[val_idx]\n",
    "    y_train, y_val = LogR_Y[train_idx], LogR_Y[val_idx]\n",
    "\n",
    "    # Train model\n",
    "    model.fit(X_train, y_train)\n",
    "\n",
    "    # Predict on validation set\n",
    "    y_pred = model.predict(X_val)\n",
    "\n",
    "    # Predict probabilities for validation set\n",
    "    y_pred_proba = model.predict_proba(X_val)[:, 1]  # Probability for class 1\n",
    "\n",
    "    # Store OOF predictions and true labels\n",
    "    oof_predictions[val_idx] = y_pred_proba\n",
    "    true_labels[val_idx] = y_val\n",
    "\n",
    "    # Calculate accuracy for this fold\n",
    "    accuracy = accuracy_score(y_val, y_pred)\n",
    "    fold_accuracies.append(accuracy)\n",
    "    print(f\"Fold {fold + 1} Accuracy: {accuracy:.4f}\")\n",
    "\n",
    "# Save OOF predictions and true labels to a DataFrame\n",
    "oof_LogR = pd.DataFrame({\n",
    "    'OOF_Predictions': oof_predictions,\n",
    "    'True_Labels': true_labels\n",
    "})\n",
    "\n",
    "# Calculate average accuracy\n",
    "average_accuracy = np.mean(fold_accuracies)\n",
    "print(f\"\\nAverage Accuracy Across Folds: {average_accuracy:.4f}\")\n",
    "\n"
   ]
  },
  {
   "cell_type": "markdown",
   "id": "1774916d",
   "metadata": {
    "papermill": {
     "duration": 0.058277,
     "end_time": "2024-11-29T05:33:52.936471",
     "exception": false,
     "start_time": "2024-11-29T05:33:52.878194",
     "status": "completed"
    },
    "tags": []
   },
   "source": [
    "# OOF Predictions : Logistic Regression"
   ]
  },
  {
   "cell_type": "code",
   "execution_count": null,
   "id": "db391a0b",
   "metadata": {
    "execution": {
     "iopub.execute_input": "2024-11-29T05:33:53.060645Z",
     "iopub.status.busy": "2024-11-29T05:33:53.059642Z",
     "iopub.status.idle": "2024-11-29T05:33:53.071511Z",
     "shell.execute_reply": "2024-11-29T05:33:53.070450Z"
    },
    "papermill": {
     "duration": 0.076092,
     "end_time": "2024-11-29T05:33:53.073831",
     "exception": false,
     "start_time": "2024-11-29T05:33:52.997739",
     "status": "completed"
    },
    "tags": []
   },
   "outputs": [],
   "source": [
    "oof_LogR"
   ]
  },
  {
   "cell_type": "code",
   "execution_count": null,
   "id": "ecadd1cf",
   "metadata": {
    "execution": {
     "iopub.execute_input": "2024-11-29T05:33:53.191953Z",
     "iopub.status.busy": "2024-11-29T05:33:53.191524Z",
     "iopub.status.idle": "2024-11-29T05:33:53.292755Z",
     "shell.execute_reply": "2024-11-29T05:33:53.291183Z"
    },
    "papermill": {
     "duration": 0.163325,
     "end_time": "2024-11-29T05:33:53.295623",
     "exception": false,
     "start_time": "2024-11-29T05:33:53.132298",
     "status": "completed"
    },
    "tags": []
   },
   "outputs": [],
   "source": [
    "test_modified = test.copy()\n",
    "\n",
    "test_modified = test_modified.fillna(-1)\n",
    "\n",
    "test_features = test_modified[['Age', 'Academic Pressure', 'Work Pressure', 'CGPA',\n",
    "       'Study Satisfaction', 'Job Satisfaction',\n",
    "       'Have you ever had suicidal thoughts ?', 'Work/Study Hours',\n",
    "       'Financial Stress', 'Family History of Mental Illness',\n",
    "       'Dietary Habits Category', 'Degree Category Coded', 'City Tier',\n",
    "       'Gender Coded', 'Working Professional or Student Coded',\n",
    "       'Profession Category_Business_and_Finance',\n",
    "       'Profession Category_Creative_and_Design',\n",
    "       'Profession Category_Education', 'Profession Category_Engineering',\n",
    "       'Profession Category_Finanancial Analyst',\n",
    "       'Profession Category_HR Manager', 'Profession Category_Healthcare',\n",
    "       'Profession Category_Law_and_Government',\n",
    "       'Profession Category_Other_or_Miscellaneous',\n",
    "       'Profession Category_Research Analyst',\n",
    "       'Profession Category_Sales_and_Marketing',\n",
    "       'Profession Category_Science_and_Research',\n",
    "       'Profession Category_Skilled_Trades', 'Profession Category_Student',\n",
    "       'Profession Category_Technology',\n",
    "       'Profession Category_Working Professional',\n",
    "       'Sleep Duration Category Coded']]\n"
   ]
  },
  {
   "cell_type": "code",
   "execution_count": null,
   "id": "c43b49bc",
   "metadata": {
    "execution": {
     "iopub.execute_input": "2024-11-29T05:33:53.414496Z",
     "iopub.status.busy": "2024-11-29T05:33:53.414124Z",
     "iopub.status.idle": "2024-11-29T05:33:53.580354Z",
     "shell.execute_reply": "2024-11-29T05:33:53.579076Z"
    },
    "papermill": {
     "duration": 0.229114,
     "end_time": "2024-11-29T05:33:53.583225",
     "exception": false,
     "start_time": "2024-11-29T05:33:53.354111",
     "status": "completed"
    },
    "tags": []
   },
   "outputs": [],
   "source": [
    "test_predictions = model.predict(test_features)  # Or model.predict_proba() for probabilities\n",
    "test_predictions2 = model.predict_proba(test_features)[:,1]  # Or model.predict_proba() for probabilities\n",
    "\n",
    "\n",
    "LogR_submission = pd.DataFrame({\n",
    "    'id': test_modified['id'],  # Replace 'ID' with the identifier column in the test dataset\n",
    "    'Depression': test_predictions\n",
    "})\n",
    "\n",
    "LogR_test_proba = pd.DataFrame({\n",
    "    'id': test_modified['id'],  # Replace 'ID' with the identifier column in the test dataset\n",
    "    'oof_LogR_proba': test_predictions2\n",
    "})\n",
    "\n",
    "# Save the submission file\n",
    "LogR_submission.to_csv('LogR_submission.csv', index=False)"
   ]
  },
  {
   "cell_type": "markdown",
   "id": "0cc5aab7",
   "metadata": {
    "papermill": {
     "duration": 0.060443,
     "end_time": "2024-11-29T05:33:53.707513",
     "exception": false,
     "start_time": "2024-11-29T05:33:53.647070",
     "status": "completed"
    },
    "tags": []
   },
   "source": [
    "# Logistic Regression Important Features"
   ]
  },
  {
   "cell_type": "code",
   "execution_count": null,
   "id": "fa26ecc4",
   "metadata": {
    "execution": {
     "iopub.execute_input": "2024-11-29T05:33:53.826760Z",
     "iopub.status.busy": "2024-11-29T05:33:53.826296Z",
     "iopub.status.idle": "2024-11-29T05:33:53.837812Z",
     "shell.execute_reply": "2024-11-29T05:33:53.836514Z"
    },
    "papermill": {
     "duration": 0.073413,
     "end_time": "2024-11-29T05:33:53.839914",
     "exception": false,
     "start_time": "2024-11-29T05:33:53.766501",
     "status": "completed"
    },
    "tags": []
   },
   "outputs": [],
   "source": [
    "# Get feature importance (coefficients)\n",
    "coefficients = model.coef_[0]\n",
    "features = LogR_X.columns\n",
    "\n",
    "# Create a DataFrame for feature importance\n",
    "feature_importance = pd.DataFrame({\n",
    "    'Feature': features,\n",
    "    'Coefficient': coefficients,\n",
    "    'Importance': abs(coefficients)  # Absolute value for importance\n",
    "})\n",
    "\n",
    "# Sort features by importance\n",
    "feature_importance = feature_importance.sort_values(by='Importance', ascending=False)\n",
    "\n",
    "print(\"Feature Importance:\")\n",
    "print(feature_importance)"
   ]
  },
  {
   "cell_type": "markdown",
   "id": "6e9de7a6",
   "metadata": {
    "papermill": {
     "duration": 0.059978,
     "end_time": "2024-11-29T05:33:53.961303",
     "exception": false,
     "start_time": "2024-11-29T05:33:53.901325",
     "status": "completed"
    },
    "tags": []
   },
   "source": [
    "# Model 3 - SVM"
   ]
  },
  {
   "cell_type": "markdown",
   "id": "78cfe5ac",
   "metadata": {
    "papermill": {
     "duration": 0.059346,
     "end_time": "2024-11-29T05:33:54.080881",
     "exception": false,
     "start_time": "2024-11-29T05:33:54.021535",
     "status": "completed"
    },
    "tags": []
   },
   "source": []
  },
  {
   "cell_type": "code",
   "execution_count": null,
   "id": "1af0b4c0",
   "metadata": {
    "execution": {
     "iopub.execute_input": "2024-11-29T05:33:54.200285Z",
     "iopub.status.busy": "2024-11-29T05:33:54.199870Z",
     "iopub.status.idle": "2024-11-29T05:33:54.306029Z",
     "shell.execute_reply": "2024-11-29T05:33:54.304957Z"
    },
    "papermill": {
     "duration": 0.168875,
     "end_time": "2024-11-29T05:33:54.308091",
     "exception": false,
     "start_time": "2024-11-29T05:33:54.139216",
     "status": "completed"
    },
    "tags": []
   },
   "outputs": [],
   "source": [
    "train_modified = train.copy()\n",
    "\n",
    "X = train_modified.drop(columns=['Working Professional or Student', 'Profession', 'Satisfaction', 'Work/Academic Pressure', 'id', 'Sleep Duration', 'Name', 'City', 'Gender', 'Dietary Habits', 'Degree', 'Degree Category', 'Sleep Duration Category'])\n",
    "\n",
    "\n",
    "SVM_X = X.drop('Depression', axis=1, inplace=False)\n",
    "SVM_Y = X['Depression']\n",
    "\n",
    "SVM_X"
   ]
  },
  {
   "cell_type": "code",
   "execution_count": null,
   "id": "85382d30",
   "metadata": {
    "execution": {
     "iopub.execute_input": "2024-11-29T05:33:54.435382Z",
     "iopub.status.busy": "2024-11-29T05:33:54.434967Z",
     "iopub.status.idle": "2024-11-29T05:33:54.448468Z",
     "shell.execute_reply": "2024-11-29T05:33:54.447335Z"
    },
    "papermill": {
     "duration": 0.081925,
     "end_time": "2024-11-29T05:33:54.451081",
     "exception": false,
     "start_time": "2024-11-29T05:33:54.369156",
     "status": "completed"
    },
    "tags": []
   },
   "outputs": [],
   "source": [
    "SVM_X.isna().sum()"
   ]
  },
  {
   "cell_type": "code",
   "execution_count": null,
   "id": "187c1d81",
   "metadata": {
    "execution": {
     "iopub.execute_input": "2024-11-29T05:33:54.573127Z",
     "iopub.status.busy": "2024-11-29T05:33:54.572718Z",
     "iopub.status.idle": "2024-11-29T05:33:54.593837Z",
     "shell.execute_reply": "2024-11-29T05:33:54.592683Z"
    },
    "papermill": {
     "duration": 0.08438,
     "end_time": "2024-11-29T05:33:54.596322",
     "exception": false,
     "start_time": "2024-11-29T05:33:54.511942",
     "status": "completed"
    },
    "tags": []
   },
   "outputs": [],
   "source": [
    "acad_mean = SVM_X['Academic Pressure'].mean()\n",
    "SVM_X['Academic Pressure'] = SVM_X['Academic Pressure'].fillna(acad_mean)\n",
    "\n",
    "work_mean = SVM_X['Work Pressure'].mean()\n",
    "SVM_X['Work Pressure'] = SVM_X['Work Pressure'].fillna(work_mean)\n",
    "\n",
    "cgpa_mean = SVM_X['CGPA'].mean()\n",
    "SVM_X['CGPA'] = SVM_X['CGPA'].fillna(cgpa_mean)\n",
    "\n",
    "studys_mean = SVM_X['Study Satisfaction'].mean()\n",
    "SVM_X['Study Satisfaction'] = SVM_X['Study Satisfaction'].fillna(studys_mean)\n",
    "\n",
    "jobs_mean = SVM_X['Job Satisfaction'].mean()\n",
    "SVM_X['Job Satisfaction'] = SVM_X['Job Satisfaction'].fillna(jobs_mean)"
   ]
  },
  {
   "cell_type": "code",
   "execution_count": null,
   "id": "b898924b",
   "metadata": {
    "execution": {
     "iopub.execute_input": "2024-11-29T05:33:54.719221Z",
     "iopub.status.busy": "2024-11-29T05:33:54.718370Z",
     "iopub.status.idle": "2024-11-29T05:33:54.749880Z",
     "shell.execute_reply": "2024-11-29T05:33:54.748956Z"
    },
    "papermill": {
     "duration": 0.094259,
     "end_time": "2024-11-29T05:33:54.752296",
     "exception": false,
     "start_time": "2024-11-29T05:33:54.658037",
     "status": "completed"
    },
    "tags": []
   },
   "outputs": [],
   "source": [
    "\n",
    "from sklearn.preprocessing import StandardScaler\n",
    "\n",
    "\n",
    "# Features to standardize\n",
    "features_to_standardize = ['Age', 'Academic Pressure', 'Work Pressure', 'CGPA', 'Study Satisfaction', 'Job Satisfaction', 'Work/Study Hours', 'Financial Stress']\n",
    "\n",
    "# Initialize StandardScaler\n",
    "scaler = StandardScaler()\n",
    "\n",
    "# Apply scaler only to the selected features\n",
    "SVM_X[features_to_standardize] = scaler.fit_transform(SVM_X[features_to_standardize])\n"
   ]
  },
  {
   "cell_type": "markdown",
   "id": "3c7283af",
   "metadata": {
    "papermill": {
     "duration": 0.058879,
     "end_time": "2024-11-29T05:33:54.870225",
     "exception": false,
     "start_time": "2024-11-29T05:33:54.811346",
     "status": "completed"
    },
    "tags": []
   },
   "source": [
    "# Optuna Optimization"
   ]
  },
  {
   "cell_type": "code",
   "execution_count": null,
   "id": "c7637c60",
   "metadata": {
    "execution": {
     "iopub.execute_input": "2024-11-29T05:33:54.989727Z",
     "iopub.status.busy": "2024-11-29T05:33:54.989305Z",
     "iopub.status.idle": "2024-11-29T05:33:54.993976Z",
     "shell.execute_reply": "2024-11-29T05:33:54.992953Z"
    },
    "papermill": {
     "duration": 0.067265,
     "end_time": "2024-11-29T05:33:54.996362",
     "exception": false,
     "start_time": "2024-11-29T05:33:54.929097",
     "status": "completed"
    },
    "tags": []
   },
   "outputs": [],
   "source": [
    "from sklearn.svm import LinearSVC\n",
    "from sklearn.model_selection import StratifiedKFold\n",
    "from sklearn.metrics import accuracy_score"
   ]
  },
  {
   "cell_type": "code",
   "execution_count": null,
   "id": "a13a52e2",
   "metadata": {
    "execution": {
     "iopub.execute_input": "2024-11-29T05:33:55.119344Z",
     "iopub.status.busy": "2024-11-29T05:33:55.118979Z",
     "iopub.status.idle": "2024-11-29T05:33:55.125124Z",
     "shell.execute_reply": "2024-11-29T05:33:55.123895Z"
    },
    "papermill": {
     "duration": 0.069777,
     "end_time": "2024-11-29T05:33:55.127302",
     "exception": false,
     "start_time": "2024-11-29T05:33:55.057525",
     "status": "completed"
    },
    "tags": []
   },
   "outputs": [],
   "source": [
    "\n",
    "# import optuna\n",
    "\n",
    "\n",
    "# # Stratified K-Fold setup\n",
    "# n_splits = 5\n",
    "# skf = StratifiedKFold(n_splits=n_splits, shuffle=True, random_state=42)\n",
    "\n",
    "# # Initialize arrays for OOF predictions and true labels\n",
    "# oof_predictions = np.zeros(len(SVM_Y))\n",
    "# true_labels = np.zeros(len(SVM_Y))\n",
    "# fold_accuracies = []\n",
    "\n",
    "# # Define the Optuna objective function\n",
    "# def objective(trial):\n",
    "#     # Suggest hyperparameters for LinearSVC\n",
    "#     params = {\n",
    "#         \"C\": trial.suggest_float(\"C\", 0.01, 10.0, log=True),\n",
    "#         \"max_iter\": trial.suggest_int(\"max_iter\", 1000, 50000, step=1000),\n",
    "#     }\n",
    "\n",
    "#     fold_accuracies = []\n",
    "\n",
    "#     for train_idx, val_idx in skf.split(SVM_X, SVM_Y):\n",
    "#         X_train, X_val = SVM_X.iloc[train_idx], SVM_X.iloc[val_idx]\n",
    "#         y_train, y_val = SVM_Y.iloc[train_idx], SVM_Y.iloc[val_idx]\n",
    "\n",
    "#         # Initialize Linear SVM model\n",
    "#         model = LinearSVC(C=params[\"C\"], max_iter=params[\"max_iter\"], random_state=42)\n",
    "        \n",
    "#         # Train the model\n",
    "#         model.fit(X_train, y_train)\n",
    "        \n",
    "#         # Predict on validation set\n",
    "#         y_pred = model.predict(X_val)\n",
    "        \n",
    "#         # Calculate accuracy for the fold\n",
    "#         accuracy = accuracy_score(y_val, y_pred)\n",
    "#         fold_accuracies.append(accuracy)\n",
    "\n",
    "#     # Return mean accuracy across folds (maximize accuracy, so minimize -accuracy)\n",
    "#     return 1 - np.mean(fold_accuracies)\n",
    "\n",
    "# # Run Optuna optimization\n",
    "# study = optuna.create_study(direction=\"minimize\")\n",
    "# study.optimize(objective, n_trials=50)\n",
    "\n",
    "# # Get the best parameters\n",
    "# best_params = study.best_params\n",
    "# print(\"Best Parameters:\", best_params)\n"
   ]
  },
  {
   "cell_type": "code",
   "execution_count": null,
   "id": "8240b0fc",
   "metadata": {
    "execution": {
     "iopub.execute_input": "2024-11-29T05:33:55.251280Z",
     "iopub.status.busy": "2024-11-29T05:33:55.250900Z",
     "iopub.status.idle": "2024-11-29T05:33:55.256195Z",
     "shell.execute_reply": "2024-11-29T05:33:55.254959Z"
    },
    "papermill": {
     "duration": 0.070227,
     "end_time": "2024-11-29T05:33:55.258667",
     "exception": false,
     "start_time": "2024-11-29T05:33:55.188440",
     "status": "completed"
    },
    "tags": []
   },
   "outputs": [],
   "source": [
    "# from skopt import BayesSearchCV\n",
    "# from sklearn.svm import SVC\n",
    "\n",
    "# # Define parameter space\n",
    "# param_space = {\n",
    "#     'C': (1e-3, 1e2, 'log-uniform'),  # Logarithmic scale\n",
    "#     'kernel': ['linear', 'rbf', 'poly'],\n",
    "#     'gamma': ['scale', 'auto'],\n",
    "#     'degree': (2, 5)  # Range for poly kernel\n",
    "# }\n",
    "\n",
    "# # Initialize SVM\n",
    "# svm = SVC()\n",
    "\n",
    "# # Perform Hyperband Search\n",
    "# bayes_search = BayesSearchCV(svm, param_space, n_iter=50, cv=5, scoring='accuracy', verbose=1, random_state=42)\n",
    "# bayes_search.fit(SVM_X, SVM_Y)\n",
    "\n",
    "# # Best hyperparameters\n",
    "# print(\"Best Hyperparameters:\", bayes_search.best_params_)\n"
   ]
  },
  {
   "cell_type": "markdown",
   "id": "6a397bc2",
   "metadata": {},
   "source": [
    "## 4. Model Building"
   ]
  },
  {
   "cell_type": "markdown",
   "id": "c6e2b9fa",
   "metadata": {
    "papermill": {
     "duration": 0.058885,
     "end_time": "2024-11-29T05:33:55.378968",
     "exception": false,
     "start_time": "2024-11-29T05:33:55.320083",
     "status": "completed"
    },
    "tags": []
   },
   "source": [
    "# Model Training"
   ]
  },
  {
   "cell_type": "code",
   "execution_count": null,
   "id": "7a84e9e5",
   "metadata": {
    "execution": {
     "iopub.execute_input": "2024-11-29T05:33:55.500091Z",
     "iopub.status.busy": "2024-11-29T05:33:55.499703Z",
     "iopub.status.idle": "2024-11-29T05:35:09.280792Z",
     "shell.execute_reply": "2024-11-29T05:35:09.279652Z"
    },
    "papermill": {
     "duration": 73.846079,
     "end_time": "2024-11-29T05:35:09.284369",
     "exception": false,
     "start_time": "2024-11-29T05:33:55.438290",
     "status": "completed"
    },
    "tags": []
   },
   "outputs": [],
   "source": [
    "\n",
    "# Manually specify SVM hyperparameters\n",
    "best_params = {\n",
    "    'C': 0.6045799851497715,\n",
    "    'max_iter':17000\n",
    "}\n",
    "\n",
    "# Stratified K-Fold setup\n",
    "n_splits = 5\n",
    "skf = StratifiedKFold(n_splits=n_splits, shuffle=True, random_state=42)\n",
    "\n",
    "# Initialize arrays to store OOF predictions and true labels\n",
    "oof_predictions = np.zeros(len(SVM_Y))\n",
    "true_labels = np.zeros(len(SVM_Y))\n",
    "fold_accuracies = []\n",
    "\n",
    "\n",
    "# Perform Stratified K-Fold with Best Parameters\n",
    "for fold, (train_idx, val_idx) in enumerate(skf.split(SVM_X, SVM_Y)):\n",
    "    print(f\"Training Fold {fold + 1}/{n_splits}...\")\n",
    "\n",
    "    X_train, X_val = SVM_X.iloc[train_idx], SVM_X.iloc[val_idx]\n",
    "    y_train, y_val = SVM_Y.iloc[train_idx], SVM_Y.iloc[val_idx]\n",
    "\n",
    "    # Initialize Linear SVM model with best parameters\n",
    "    model = LinearSVC(C=best_params[\"C\"], max_iter=best_params[\"max_iter\"], random_state=42)\n",
    "    \n",
    "    # Train the model\n",
    "    model.fit(X_train, y_train)\n",
    "    \n",
    "    # Predict on validation set\n",
    "    y_pred = model.predict(X_val)\n",
    "\n",
    "    # Store OOF predictions and true labels\n",
    "    oof_predictions[val_idx] = y_pred\n",
    "    true_labels[val_idx] = y_val\n",
    "\n",
    "    # Calculate accuracy for the current fold\n",
    "    accuracy = accuracy_score(y_val, y_pred)\n",
    "    fold_accuracies.append(accuracy)\n",
    "    print(f\"Fold {fold + 1} Accuracy: {accuracy:.4f}\")\n",
    "\n",
    "# Save OOF predictions and true labels to a DataFrame\n",
    "oof_df = pd.DataFrame({\n",
    "    \"OOF_Predictions\": oof_predictions,\n",
    "    \"True_Labels\": true_labels,\n",
    "})\n",
    "\n",
    "# Print the OOF DataFrame\n",
    "print(\"\\nOOF Predictions DataFrame:\")\n",
    "print(oof_df.head())\n",
    "\n",
    "# Calculate overall accuracy\n",
    "average_accuracy = np.mean(fold_accuracies)\n",
    "print(f\"\\nAverage Accuracy Across Folds: {average_accuracy:.4f}\")\n"
   ]
  },
  {
   "cell_type": "markdown",
   "id": "ad4eae91",
   "metadata": {
    "papermill": {
     "duration": 0.060277,
     "end_time": "2024-11-29T05:35:09.454049",
     "exception": false,
     "start_time": "2024-11-29T05:35:09.393772",
     "status": "completed"
    },
    "tags": []
   },
   "source": [
    "# OOF Predictions : Linear SVC"
   ]
  },
  {
   "cell_type": "code",
   "execution_count": null,
   "id": "b0516847",
   "metadata": {
    "execution": {
     "iopub.execute_input": "2024-11-29T05:35:09.577615Z",
     "iopub.status.busy": "2024-11-29T05:35:09.576418Z",
     "iopub.status.idle": "2024-11-29T05:35:09.582716Z",
     "shell.execute_reply": "2024-11-29T05:35:09.581199Z"
    },
    "papermill": {
     "duration": 0.071482,
     "end_time": "2024-11-29T05:35:09.585032",
     "exception": false,
     "start_time": "2024-11-29T05:35:09.513550",
     "status": "completed"
    },
    "tags": []
   },
   "outputs": [],
   "source": [
    "oof_LSVC = oof_df.copy()"
   ]
  },
  {
   "cell_type": "markdown",
   "id": "061ce256",
   "metadata": {
    "papermill": {
     "duration": 0.059127,
     "end_time": "2024-11-29T05:35:09.702784",
     "exception": false,
     "start_time": "2024-11-29T05:35:09.643657",
     "status": "completed"
    },
    "tags": []
   },
   "source": [
    "# Test Predictions"
   ]
  },
  {
   "cell_type": "code",
   "execution_count": null,
   "id": "1df1f66f",
   "metadata": {
    "execution": {
     "iopub.execute_input": "2024-11-29T05:35:09.822489Z",
     "iopub.status.busy": "2024-11-29T05:35:09.822099Z",
     "iopub.status.idle": "2024-11-29T05:35:09.864517Z",
     "shell.execute_reply": "2024-11-29T05:35:09.863318Z"
    },
    "papermill": {
     "duration": 0.105378,
     "end_time": "2024-11-29T05:35:09.866992",
     "exception": false,
     "start_time": "2024-11-29T05:35:09.761614",
     "status": "completed"
    },
    "tags": []
   },
   "outputs": [],
   "source": [
    "test_modified = test.copy()\n",
    "\n",
    "X = test_modified.drop(columns=['Working Professional or Student', 'Profession', 'Satisfaction', 'Work/Academic Pressure', 'id', 'Sleep Duration', 'Name', 'City', 'Gender', 'Dietary Habits', 'Degree', 'Degree Category', 'Sleep Duration Category'])\n",
    "\n",
    "\n",
    "acad_mean = X['Academic Pressure'].mean()\n",
    "X['Academic Pressure'] = X['Academic Pressure'].fillna(acad_mean)\n",
    "\n",
    "work_mean = X['Work Pressure'].mean()\n",
    "X['Work Pressure'] = X['Work Pressure'].fillna(work_mean)\n",
    "\n",
    "cgpa_mean = X['CGPA'].mean()\n",
    "X['CGPA'] = X['CGPA'].fillna(cgpa_mean)\n",
    "\n",
    "studys_mean = X['Study Satisfaction'].mean()\n",
    "X['Study Satisfaction'] = X['Study Satisfaction'].fillna(studys_mean)\n",
    "\n",
    "jobs_mean = X['Job Satisfaction'].mean()\n",
    "X['Job Satisfaction'] = X['Job Satisfaction'].fillna(jobs_mean)"
   ]
  },
  {
   "cell_type": "code",
   "execution_count": null,
   "id": "79f315f1",
   "metadata": {
    "execution": {
     "iopub.execute_input": "2024-11-29T05:35:09.991685Z",
     "iopub.status.busy": "2024-11-29T05:35:09.990525Z",
     "iopub.status.idle": "2024-11-29T05:35:10.147692Z",
     "shell.execute_reply": "2024-11-29T05:35:10.146505Z"
    },
    "papermill": {
     "duration": 0.223747,
     "end_time": "2024-11-29T05:35:10.150006",
     "exception": false,
     "start_time": "2024-11-29T05:35:09.926259",
     "status": "completed"
    },
    "tags": []
   },
   "outputs": [],
   "source": [
    "# Predict using the trained model\n",
    "y_pred = model.predict(X)  # Predicted probabilities\n",
    "\n",
    "# Create Submission DataFrame\n",
    "LSVC_submission = pd.DataFrame({\n",
    "    \"id\": test_modified[\"id\"],  # Keep the ID column\n",
    "    \"Depression\": y_pred  # Add predictions\n",
    "})\n",
    "\n",
    "\n",
    "# Save to CSV\n",
    "LSVC_submission.to_csv(\"LSVC_submission.csv\", index=False)\n",
    "\n",
    "LSVC_submission.head()"
   ]
  },
  {
   "cell_type": "markdown",
   "id": "a4498e43",
   "metadata": {
    "papermill": {
     "duration": 0.06165,
     "end_time": "2024-11-29T05:35:10.274635",
     "exception": false,
     "start_time": "2024-11-29T05:35:10.212985",
     "status": "completed"
    },
    "tags": []
   },
   "source": [
    "# Model 4 - XGBoost"
   ]
  },
  {
   "cell_type": "code",
   "execution_count": null,
   "id": "6053e543",
   "metadata": {
    "execution": {
     "iopub.execute_input": "2024-11-29T05:35:10.398103Z",
     "iopub.status.busy": "2024-11-29T05:35:10.397712Z",
     "iopub.status.idle": "2024-11-29T05:35:10.508572Z",
     "shell.execute_reply": "2024-11-29T05:35:10.507384Z"
    },
    "papermill": {
     "duration": 0.175389,
     "end_time": "2024-11-29T05:35:10.510969",
     "exception": false,
     "start_time": "2024-11-29T05:35:10.335580",
     "status": "completed"
    },
    "tags": []
   },
   "outputs": [],
   "source": [
    "train_modified = train.copy()\n",
    "\n",
    "X = train_modified.drop(columns=['Working Professional or Student', 'Profession', 'Satisfaction', 'Work/Academic Pressure', 'id', 'Sleep Duration', 'Name', 'City', 'Gender', 'Dietary Habits', 'Degree', 'Degree Category', 'Sleep Duration Category'])\n",
    "\n",
    "\n",
    "XGB_X = X.drop('Depression', axis=1, inplace=False)\n",
    "XGB_Y = X['Depression']\n",
    "\n",
    "XGB_X = XGB_X.fillna(-1)\n",
    "\n",
    "XGB_X"
   ]
  },
  {
   "cell_type": "code",
   "execution_count": null,
   "id": "85160c36",
   "metadata": {
    "execution": {
     "iopub.execute_input": "2024-11-29T05:35:10.634090Z",
     "iopub.status.busy": "2024-11-29T05:35:10.633701Z",
     "iopub.status.idle": "2024-11-29T05:35:10.830435Z",
     "shell.execute_reply": "2024-11-29T05:35:10.829409Z"
    },
    "papermill": {
     "duration": 0.260527,
     "end_time": "2024-11-29T05:35:10.832863",
     "exception": false,
     "start_time": "2024-11-29T05:35:10.572336",
     "status": "completed"
    },
    "tags": []
   },
   "outputs": [],
   "source": [
    "import numpy as np\n",
    "import pandas as pd\n",
    "from sklearn.model_selection import StratifiedKFold, train_test_split\n",
    "from sklearn.metrics import accuracy_score\n",
    "import xgboost as xgb\n",
    "import optuna\n"
   ]
  },
  {
   "cell_type": "code",
   "execution_count": null,
   "id": "1b54bb11",
   "metadata": {
    "execution": {
     "iopub.execute_input": "2024-11-29T05:35:10.956284Z",
     "iopub.status.busy": "2024-11-29T05:35:10.955922Z",
     "iopub.status.idle": "2024-11-29T05:35:10.962935Z",
     "shell.execute_reply": "2024-11-29T05:35:10.961636Z"
    },
    "papermill": {
     "duration": 0.070635,
     "end_time": "2024-11-29T05:35:10.965183",
     "exception": false,
     "start_time": "2024-11-29T05:35:10.894548",
     "status": "completed"
    },
    "tags": []
   },
   "outputs": [],
   "source": [
    "# import numpy as np\n",
    "# import pandas as pd\n",
    "# from sklearn.model_selection import StratifiedKFold, train_test_split\n",
    "# from sklearn.metrics import accuracy_score\n",
    "# import xgboost as xgb\n",
    "# import optuna\n",
    "\n",
    "\n",
    "# # Initialize arrays for OOF predictions and true labels\n",
    "# oof_predictions = np.zeros(len(XGB_Y))\n",
    "# true_labels = np.zeros(len(XGB_Y))\n",
    "# fold_accuracies = []\n",
    "\n",
    "# # Stratified K-Fold setup\n",
    "# n_splits = 5\n",
    "# skf = StratifiedKFold(n_splits=n_splits, shuffle=True, random_state=42)\n",
    "\n",
    "# # Define the objective function for Optuna\n",
    "# def objective(trial):\n",
    "#     # Suggest hyperparameters\n",
    "#     param = {\n",
    "#         \"objective\": \"binary:logistic\",\n",
    "#         \"eval_metric\": \"logloss\",\n",
    "#         \"booster\": \"gbtree\",\n",
    "#         \"tree_method\": \"auto\",\n",
    "#         \"max_depth\": trial.suggest_int(\"max_depth\", 3, 10),\n",
    "#         \"learning_rate\": trial.suggest_float(\"learning_rate\", 1e-3, 0.3, log=True),\n",
    "#         #\"n_estimators\": trial.suggest_int(\"n_estimators\", 100, 1000),\n",
    "#         \"gamma\": trial.suggest_float(\"gamma\", 0, 5),\n",
    "#         \"min_child_weight\": trial.suggest_int(\"min_child_weight\", 1, 10),\n",
    "#         \"subsample\": trial.suggest_float(\"subsample\", 0.5, 1.0),\n",
    "#         \"colsample_bytree\": trial.suggest_float(\"colsample_bytree\", 0.5, 1.0),\n",
    "#         \"lambda\": trial.suggest_float(\"lambda\", 1e-3, 10.0, log=True),\n",
    "#         \"alpha\": trial.suggest_float(\"alpha\", 1e-3, 10.0, log=True),\n",
    "#     }\n",
    "\n",
    "#     # Suggest num_boost_round as a hyperparameter\n",
    "#     num_boost_round = trial.suggest_int(\"num_boost_round\", 50, 500)\n",
    "\n",
    "#     # Perform Stratified K-Fold Cross-Validation\n",
    "#     fold_accuracies = []\n",
    "#     for fold, (train_idx, val_idx) in enumerate(skf.split(XGB_X, XGB_Y)):\n",
    "#         X_train, X_val = XGB_X.iloc[train_idx], XGB_X.iloc[val_idx]\n",
    "#         y_train, y_val = XGB_Y.iloc[train_idx], XGB_Y.iloc[val_idx]\n",
    "        \n",
    "#         # Create DMatrices for XGBoost\n",
    "#         dtrain = xgb.DMatrix(X_train, label=y_train)\n",
    "#         dval = xgb.DMatrix(X_val, label=y_val)\n",
    "        \n",
    "#         # Train model\n",
    "#         model = xgb.train(param, dtrain, num_boost_round=num_boost_round, evals=[(dval, \"validation\")], early_stopping_rounds=50, verbose_eval=False)\n",
    "\n",
    "        \n",
    "#         # Predict probabilities\n",
    "#         y_pred_proba = model.predict(dval)\n",
    "#         y_pred = (y_pred_proba > 0.5).astype(int)\n",
    "        \n",
    "#         # Calculate accuracy\n",
    "#         accuracy = accuracy_score(y_val, y_pred)\n",
    "#         fold_accuracies.append(accuracy)\n",
    "    \n",
    "#     # Return mean accuracy across folds as the metric to minimize\n",
    "#     return 1 - np.mean(fold_accuracies)\n",
    "\n",
    "# # Run Optuna optimization\n",
    "# study = optuna.create_study(direction=\"minimize\")\n",
    "# study.optimize(objective, n_trials=50)\n",
    "\n",
    "# # Get best parameters\n",
    "# best_params = study.best_params\n",
    "# print(f\"Best Parameters: {best_params}\")\n"
   ]
  },
  {
   "cell_type": "markdown",
   "id": "3a8addc0",
   "metadata": {
    "papermill": {
     "duration": 0.061619,
     "end_time": "2024-11-29T05:35:11.091034",
     "exception": false,
     "start_time": "2024-11-29T05:35:11.029415",
     "status": "completed"
    },
    "tags": []
   },
   "source": [
    "# Model Training"
   ]
  },
  {
   "cell_type": "code",
   "execution_count": null,
   "id": "bef8362f",
   "metadata": {
    "execution": {
     "iopub.execute_input": "2024-11-29T05:35:11.215395Z",
     "iopub.status.busy": "2024-11-29T05:35:11.215023Z",
     "iopub.status.idle": "2024-11-29T05:35:22.889722Z",
     "shell.execute_reply": "2024-11-29T05:35:22.888334Z"
    },
    "papermill": {
     "duration": 11.739592,
     "end_time": "2024-11-29T05:35:22.892283",
     "exception": false,
     "start_time": "2024-11-29T05:35:11.152691",
     "status": "completed"
    },
    "tags": []
   },
   "outputs": [],
   "source": [
    "best_params = {\n",
    "        \"objective\": \"binary:logistic\",\n",
    "        \"eval_metric\": \"logloss\",\n",
    "        \"booster\": \"gbtree\",\n",
    "        \"tree_method\": \"auto\",\n",
    "        \"max_depth\": 5, #3, #5, #7,\n",
    "        \"learning_rate\": 0.10750323694235545, #0.1891190347749237, #0.10750323694235545, #0.07585982629885023,\n",
    "        \"gamma\": 1.3237413341033117, #2.314038705745134, #1.3237413341033117, #2.588948119388252,\n",
    "        \"min_child_weight\": 9, #6, #9, #9,\n",
    "        \"subsample\": 0.549013955949653, #0.6574750021250312, #0.5490139559496539, #0.5848761167199357,\n",
    "        \"colsample_bytree\": 0.5197902304119142, #0.8372956010146961, #0.5197902304119142, #0.6111636059348978,\n",
    "        \"lambda\": 0.001776275430859678, #0.5937676812744246, #0.001776275430859678, #2.9982108856637324,\n",
    "        \"alpha\": 1.4810599685383345, #0.014778705236250075, #1.4810599685383345 #0.010574189390139333,\n",
    "    }\n",
    "\n",
    "# Initialize arrays for OOF predictions and true labels\n",
    "oof_predictions = np.zeros(len(XGB_Y))\n",
    "true_labels = np.zeros(len(XGB_Y))\n",
    "fold_accuracies = []\n",
    "\n",
    "# Stratified K-Fold setup\n",
    "n_splits = 5\n",
    "skf = StratifiedKFold(n_splits=n_splits, shuffle=True, random_state=42)\n",
    "\n",
    "# Perform Stratified K-Fold with Best Parameters\n",
    "for fold, (train_idx, val_idx) in enumerate(skf.split(XGB_X, XGB_Y)):\n",
    "    print(f\"Training Fold {fold + 1}/{n_splits}...\")\n",
    "    \n",
    "    X_train, X_val = XGB_X.iloc[train_idx], XGB_X.iloc[val_idx]\n",
    "    y_train, y_val = XGB_Y.iloc[train_idx], XGB_Y.iloc[val_idx]\n",
    "    \n",
    "    # Create DMatrices for XGBoost\n",
    "    dtrain = xgb.DMatrix(X_train, label=y_train)\n",
    "    dval = xgb.DMatrix(X_val, label=y_val)\n",
    "    \n",
    "    # Train model with best parameters\n",
    "    model = xgb.train(best_params, dtrain, num_boost_round=500, evals=[(dval, \"validation\")], early_stopping_rounds=50, verbose_eval=False)\n",
    "    \n",
    "    # Predict probabilities for validation set\n",
    "    y_pred_proba = model.predict(dval)\n",
    "    y_pred = (y_pred_proba > 0.5).astype(int)\n",
    "    \n",
    "    # Store OOF predictions and true labels\n",
    "    oof_predictions[val_idx] = y_pred_proba\n",
    "    true_labels[val_idx] = y_val\n",
    "    \n",
    "    # Calculate accuracy for the current fold\n",
    "    accuracy = accuracy_score(y_val, y_pred)\n",
    "    fold_accuracies.append(accuracy)\n",
    "    print(f\"Fold {fold + 1} Accuracy: {accuracy:.4f}\")\n",
    "\n",
    "# Save OOF predictions and true labels to a DataFrame\n",
    "oof_df = pd.DataFrame({\n",
    "    \"OOF_Predictions\": oof_predictions,\n",
    "    \"True_Labels\": true_labels\n",
    "})\n",
    "\n",
    "# Print the DataFrame\n",
    "print(\"\\nOOF Predictions DataFrame:\")\n",
    "print(oof_df.head())\n",
    "\n",
    "# Calculate overall accuracy\n",
    "average_accuracy = np.mean(fold_accuracies)\n",
    "print(f\"\\nAverage Accuracy Across Folds: {average_accuracy:.4f}\")\n"
   ]
  },
  {
   "cell_type": "code",
   "execution_count": null,
   "id": "1b6945e4",
   "metadata": {
    "execution": {
     "iopub.execute_input": "2024-11-29T05:35:23.022875Z",
     "iopub.status.busy": "2024-11-29T05:35:23.022447Z",
     "iopub.status.idle": "2024-11-29T05:39:20.833920Z",
     "shell.execute_reply": "2024-11-29T05:39:20.832800Z"
    },
    "papermill": {
     "duration": 237.880747,
     "end_time": "2024-11-29T05:39:20.837133",
     "exception": false,
     "start_time": "2024-11-29T05:35:22.956386",
     "status": "completed"
    },
    "tags": []
   },
   "outputs": [],
   "source": [
    "import shap\n",
    "explainer = shap.Explainer(model, X_train)\n",
    "shap_values = explainer(X_val)\n",
    "shap.summary_plot(shap_values, X_val)\n"
   ]
  },
  {
   "cell_type": "markdown",
   "id": "bce19b07",
   "metadata": {
    "papermill": {
     "duration": 0.07775,
     "end_time": "2024-11-29T05:39:21.048179",
     "exception": false,
     "start_time": "2024-11-29T05:39:20.970429",
     "status": "completed"
    },
    "tags": []
   },
   "source": [
    "# OOF Predictions : XGB Boosting"
   ]
  },
  {
   "cell_type": "code",
   "execution_count": null,
   "id": "c80f5502",
   "metadata": {
    "execution": {
     "iopub.execute_input": "2024-11-29T05:39:21.204639Z",
     "iopub.status.busy": "2024-11-29T05:39:21.204030Z",
     "iopub.status.idle": "2024-11-29T05:39:21.218175Z",
     "shell.execute_reply": "2024-11-29T05:39:21.216861Z"
    },
    "papermill": {
     "duration": 0.095303,
     "end_time": "2024-11-29T05:39:21.220715",
     "exception": false,
     "start_time": "2024-11-29T05:39:21.125412",
     "status": "completed"
    },
    "tags": []
   },
   "outputs": [],
   "source": [
    "oof_XGB = oof_df.copy()\n",
    "\n",
    "oof_XGB"
   ]
  },
  {
   "cell_type": "markdown",
   "id": "d1f9651a",
   "metadata": {
    "papermill": {
     "duration": 0.078376,
     "end_time": "2024-11-29T05:39:21.376512",
     "exception": false,
     "start_time": "2024-11-29T05:39:21.298136",
     "status": "completed"
    },
    "tags": []
   },
   "source": [
    "# Generating Predictions on Test Dataset"
   ]
  },
  {
   "cell_type": "code",
   "execution_count": null,
   "id": "3813e9e3",
   "metadata": {
    "execution": {
     "iopub.execute_input": "2024-11-29T05:39:21.533200Z",
     "iopub.status.busy": "2024-11-29T05:39:21.532795Z",
     "iopub.status.idle": "2024-11-29T05:39:21.603260Z",
     "shell.execute_reply": "2024-11-29T05:39:21.602089Z"
    },
    "papermill": {
     "duration": 0.153982,
     "end_time": "2024-11-29T05:39:21.605831",
     "exception": false,
     "start_time": "2024-11-29T05:39:21.451849",
     "status": "completed"
    },
    "tags": []
   },
   "outputs": [],
   "source": [
    "test_modified = test.copy()\n",
    "\n",
    "test_features = test_modified[['Age', 'Academic Pressure', 'Work Pressure', 'CGPA',\n",
    "       'Study Satisfaction', 'Job Satisfaction',\n",
    "       'Have you ever had suicidal thoughts ?', 'Work/Study Hours',\n",
    "       'Financial Stress', 'Family History of Mental Illness',\n",
    "       'Dietary Habits Category', 'Degree Category Coded', 'City Tier',\n",
    "       'Gender Coded', 'Working Professional or Student Coded',\n",
    "       'Profession Category_Business_and_Finance',\n",
    "       'Profession Category_Creative_and_Design',\n",
    "       'Profession Category_Education', 'Profession Category_Engineering',\n",
    "       'Profession Category_Finanancial Analyst',\n",
    "       'Profession Category_HR Manager', 'Profession Category_Healthcare',\n",
    "       'Profession Category_Law_and_Government',\n",
    "       'Profession Category_Other_or_Miscellaneous',\n",
    "       'Profession Category_Research Analyst',\n",
    "       'Profession Category_Sales_and_Marketing',\n",
    "       'Profession Category_Science_and_Research',\n",
    "       'Profession Category_Skilled_Trades', 'Profession Category_Student',\n",
    "       'Profession Category_Technology',\n",
    "       'Profession Category_Working Professional',\n",
    "       'Sleep Duration Category Coded']]\n",
    "\n",
    "test_features = test_features.fillna(-1)"
   ]
  },
  {
   "cell_type": "code",
   "execution_count": null,
   "id": "d238f6a0",
   "metadata": {
    "execution": {
     "iopub.execute_input": "2024-11-29T05:39:21.764737Z",
     "iopub.status.busy": "2024-11-29T05:39:21.764339Z",
     "iopub.status.idle": "2024-11-29T05:39:22.135873Z",
     "shell.execute_reply": "2024-11-29T05:39:22.134518Z"
    },
    "papermill": {
     "duration": 0.456523,
     "end_time": "2024-11-29T05:39:22.138841",
     "exception": false,
     "start_time": "2024-11-29T05:39:21.682318",
     "status": "completed"
    },
    "tags": []
   },
   "outputs": [],
   "source": [
    "# Convert test data to DMatrix\n",
    "dtest = xgb.DMatrix(test_features)  # Drop ID column for prediction\n",
    "\n",
    "# Predict using the trained model\n",
    "y_pred_proba = model.predict(dtest)  # Predicted probabilities\n",
    "y_pred_labels = (y_pred_proba > 0.5).astype(int)  # Convert probabilities to binary labels\n",
    "\n",
    "# Create Submission DataFrame\n",
    "XGB_submission = pd.DataFrame({\n",
    "    \"id\": test_modified[\"id\"],  # Keep the ID column\n",
    "    \"Depression\": y_pred_labels  # Add predictions\n",
    "})\n",
    "\n",
    "# Create Submission DataFrame\n",
    "XGB_test_proba = pd.DataFrame({\n",
    "    \"id\": test_modified[\"id\"],  # Keep the ID column\n",
    "    \"oof_XGB_proba\": y_pred_proba  # Add prediction probabilities\n",
    "})\n",
    "\n",
    "\n",
    "# Save to CSV\n",
    "XGB_submission.to_csv(\"XGB_submission_v3.csv\", index=False)"
   ]
  },
  {
   "cell_type": "markdown",
   "id": "f83a3c1d",
   "metadata": {
    "papermill": {
     "duration": 0.076485,
     "end_time": "2024-11-29T05:39:22.293331",
     "exception": false,
     "start_time": "2024-11-29T05:39:22.216846",
     "status": "completed"
    },
    "tags": []
   },
   "source": [
    "**> XGBoost model had higher accuracy when NAs were filled with -1 value.**"
   ]
  },
  {
   "cell_type": "markdown",
   "id": "ee945a40",
   "metadata": {
    "papermill": {
     "duration": 0.076435,
     "end_time": "2024-11-29T05:39:22.445871",
     "exception": false,
     "start_time": "2024-11-29T05:39:22.369436",
     "status": "completed"
    },
    "tags": []
   },
   "source": [
    "# Model 5 - AdaBoost"
   ]
  },
  {
   "cell_type": "code",
   "execution_count": null,
   "id": "a60fba6e",
   "metadata": {
    "execution": {
     "iopub.execute_input": "2024-11-29T05:39:22.601199Z",
     "iopub.status.busy": "2024-11-29T05:39:22.600673Z",
     "iopub.status.idle": "2024-11-29T05:39:22.723896Z",
     "shell.execute_reply": "2024-11-29T05:39:22.722741Z"
    },
    "papermill": {
     "duration": 0.204054,
     "end_time": "2024-11-29T05:39:22.726215",
     "exception": false,
     "start_time": "2024-11-29T05:39:22.522161",
     "status": "completed"
    },
    "tags": []
   },
   "outputs": [],
   "source": [
    "train_modified = train.copy()\n",
    "\n",
    "X = train_modified.drop(columns=['Working Professional or Student', 'Profession', 'Satisfaction', 'Work/Academic Pressure', 'id', 'Sleep Duration', 'Name', 'City', 'Gender', 'Dietary Habits', 'Degree', 'Degree Category', 'Sleep Duration Category'])\n",
    "\n",
    "\n",
    "ADA_X = X.drop('Depression', axis=1, inplace=False)\n",
    "ADA_Y = X['Depression']\n",
    "\n",
    "ADA_X = ADA_X.fillna(-1)\n",
    "\n",
    "ADA_X"
   ]
  },
  {
   "cell_type": "markdown",
   "id": "5a25b5be",
   "metadata": {
    "papermill": {
     "duration": 0.075459,
     "end_time": "2024-11-29T05:39:22.880123",
     "exception": false,
     "start_time": "2024-11-29T05:39:22.804664",
     "status": "completed"
    },
    "tags": []
   },
   "source": [
    "# Optuna Optimization"
   ]
  },
  {
   "cell_type": "code",
   "execution_count": null,
   "id": "70eba7f2",
   "metadata": {
    "execution": {
     "iopub.execute_input": "2024-11-29T05:39:23.041088Z",
     "iopub.status.busy": "2024-11-29T05:39:23.040716Z",
     "iopub.status.idle": "2024-11-29T05:39:23.046964Z",
     "shell.execute_reply": "2024-11-29T05:39:23.045665Z"
    },
    "papermill": {
     "duration": 0.089708,
     "end_time": "2024-11-29T05:39:23.049047",
     "exception": false,
     "start_time": "2024-11-29T05:39:22.959339",
     "status": "completed"
    },
    "tags": []
   },
   "outputs": [],
   "source": [
    "# import numpy as np\n",
    "# import pandas as pd\n",
    "# from sklearn.model_selection import StratifiedKFold\n",
    "# from sklearn.ensemble import AdaBoostClassifier\n",
    "# from sklearn.tree import DecisionTreeClassifier\n",
    "# from sklearn.metrics import accuracy_score\n",
    "# import optuna\n",
    "\n",
    "\n",
    "# # Stratified K-Fold setup\n",
    "# n_splits = 5\n",
    "# skf = StratifiedKFold(n_splits=n_splits, shuffle=True, random_state=42)\n",
    "\n",
    "# # Initialize arrays for OOF predictions and true labels\n",
    "# oof_predictions = np.zeros(len(ADA_Y))\n",
    "# true_labels = np.zeros(len(ADA_Y))\n",
    "# fold_accuracies = []\n",
    "\n",
    "# # Define the Optuna objective function\n",
    "# def objective(trial):\n",
    "#     # Suggest hyperparameters\n",
    "#     params = {\n",
    "#         \"n_estimators\": trial.suggest_int(\"n_estimators\", 50, 500),\n",
    "#         \"learning_rate\": trial.suggest_float(\"learning_rate\", 0.01, 1.0, log=True),\n",
    "#         \"max_depth\": trial.suggest_int(\"max_depth\", 1, 10),\n",
    "#     }\n",
    "\n",
    "#     # Perform Stratified K-Fold Cross-Validation\n",
    "#     fold_accuracies = []\n",
    "#     for train_idx, val_idx in skf.split(ADA_X, ADA_Y):\n",
    "#         X_train, X_val = ADA_X.iloc[train_idx], ADA_X.iloc[val_idx]\n",
    "#         y_train, y_val = ADA_Y.iloc[train_idx], ADA_Y.iloc[val_idx]\n",
    "\n",
    "#         # Initialize AdaBoost model with a base estimator\n",
    "#         base_estimator = DecisionTreeClassifier(max_depth=params[\"max_depth\"])\n",
    "#         model = AdaBoostClassifier(\n",
    "#             estimator=base_estimator,\n",
    "#             n_estimators=params[\"n_estimators\"],\n",
    "#             learning_rate=params[\"learning_rate\"],\n",
    "#             random_state=42,\n",
    "#         )\n",
    "\n",
    "#         # Train the model\n",
    "#         model.fit(X_train, y_train)\n",
    "\n",
    "#         # Predict and evaluate\n",
    "#         y_pred = model.predict(X_val)\n",
    "#         accuracy = accuracy_score(y_val, y_pred)\n",
    "#         fold_accuracies.append(accuracy)\n",
    "\n",
    "#     # Return mean accuracy across folds (maximize accuracy, so minimize -accuracy)\n",
    "#     return 1 - np.mean(fold_accuracies)\n",
    "\n",
    "# # Run Optuna optimization\n",
    "# study = optuna.create_study(direction=\"minimize\")\n",
    "# study.optimize(objective, n_trials=50)\n",
    "\n",
    "# # Get the best parameters\n",
    "# best_params = study.best_params\n",
    "# print(\"Best Parameters:\", best_params)\n",
    "\n"
   ]
  },
  {
   "cell_type": "markdown",
   "id": "f876dbea",
   "metadata": {
    "papermill": {
     "duration": 0.078239,
     "end_time": "2024-11-29T05:39:23.205731",
     "exception": false,
     "start_time": "2024-11-29T05:39:23.127492",
     "status": "completed"
    },
    "tags": []
   },
   "source": [
    "# Model Training"
   ]
  },
  {
   "cell_type": "code",
   "execution_count": null,
   "id": "cf3e97fb",
   "metadata": {
    "execution": {
     "iopub.execute_input": "2024-11-29T05:39:23.366374Z",
     "iopub.status.busy": "2024-11-29T05:39:23.365997Z",
     "iopub.status.idle": "2024-11-29T05:41:55.347048Z",
     "shell.execute_reply": "2024-11-29T05:41:55.345746Z"
    },
    "papermill": {
     "duration": 152.064335,
     "end_time": "2024-11-29T05:41:55.349523",
     "exception": false,
     "start_time": "2024-11-29T05:39:23.285188",
     "status": "completed"
    },
    "tags": []
   },
   "outputs": [],
   "source": [
    "\n",
    "from sklearn.model_selection import StratifiedKFold\n",
    "from sklearn.ensemble import AdaBoostClassifier\n",
    "from sklearn.tree import DecisionTreeClassifier\n",
    "from sklearn.metrics import accuracy_score\n",
    "\n",
    "# Stratified K-Fold setup\n",
    "n_splits = 5\n",
    "skf = StratifiedKFold(n_splits=n_splits, shuffle=True, random_state=42)\n",
    "\n",
    "# Initialize arrays for OOF predictions and true labels\n",
    "oof_predictions = np.zeros(len(ADA_Y))\n",
    "true_labels = np.zeros(len(ADA_Y))\n",
    "fold_accuracies = []\n",
    "\n",
    "for fold, (train_idx, val_idx) in enumerate(skf.split(ADA_X, ADA_Y)):\n",
    "    print(f\"Training Fold {fold + 1}/{n_splits}...\")\n",
    "\n",
    "    X_train, X_val = ADA_X.iloc[train_idx], ADA_X.iloc[val_idx]\n",
    "    y_train, y_val = ADA_Y.iloc[train_idx], ADA_Y.iloc[val_idx]\n",
    "\n",
    "    # Initialize AdaBoost model with best parameters\n",
    "    base_estimator = DecisionTreeClassifier(max_depth=4)\n",
    "    model = AdaBoostClassifier(\n",
    "        estimator=base_estimator,\n",
    "        n_estimators=123,\n",
    "        learning_rate=0.14966014447836504,\n",
    "        random_state=42,\n",
    "    )\n",
    "\n",
    "    # Train the model\n",
    "    model.fit(X_train, y_train)\n",
    "\n",
    "    # Predict probabilities for validation set\n",
    "    y_pred_proba = model.predict_proba(X_val)[:, 1]\n",
    "    y_pred = (y_pred_proba > 0.5).astype(int)  # Convert probabilities to binary labels\n",
    "\n",
    "    # Store OOF predictions and true labels\n",
    "    oof_predictions[val_idx] = y_pred_proba\n",
    "    true_labels[val_idx] = y_val\n",
    "\n",
    "    # Calculate accuracy for the current fold\n",
    "    accuracy = accuracy_score(y_val, y_pred)\n",
    "    fold_accuracies.append(accuracy)\n",
    "    print(f\"Fold {fold + 1} Accuracy: {accuracy:.4f}\")\n",
    "\n",
    "# Save OOF predictions and true labels to a DataFrame\n",
    "oof_df = pd.DataFrame({\n",
    "    \"OOF_Predictions\": oof_predictions,\n",
    "    \"True_Labels\": true_labels,\n",
    "})\n",
    "\n",
    "# Print the OOF DataFrame\n",
    "print(\"\\nOOF Predictions DataFrame:\")\n",
    "print(oof_df.head())\n",
    "\n",
    "# Calculate overall accuracy\n",
    "average_accuracy = np.mean(fold_accuracies)\n",
    "print(f\"\\nAverage Accuracy Across Folds: {average_accuracy:.4f}\")\n"
   ]
  },
  {
   "cell_type": "code",
   "execution_count": null,
   "id": "abf84a7a",
   "metadata": {
    "execution": {
     "iopub.execute_input": "2024-11-29T05:41:55.505294Z",
     "iopub.status.busy": "2024-11-29T05:41:55.504891Z",
     "iopub.status.idle": "2024-11-29T05:41:55.517498Z",
     "shell.execute_reply": "2024-11-29T05:41:55.516399Z"
    },
    "papermill": {
     "duration": 0.093719,
     "end_time": "2024-11-29T05:41:55.519688",
     "exception": false,
     "start_time": "2024-11-29T05:41:55.425969",
     "status": "completed"
    },
    "tags": []
   },
   "outputs": [],
   "source": [
    "oof_ADA = oof_df.copy()\n",
    "\n",
    "oof_ADA"
   ]
  },
  {
   "cell_type": "markdown",
   "id": "7e942a8b",
   "metadata": {
    "papermill": {
     "duration": 0.077862,
     "end_time": "2024-11-29T05:41:55.677171",
     "exception": false,
     "start_time": "2024-11-29T05:41:55.599309",
     "status": "completed"
    },
    "tags": []
   },
   "source": [
    "# Test Predictions"
   ]
  },
  {
   "cell_type": "code",
   "execution_count": null,
   "id": "4bcf5574",
   "metadata": {
    "execution": {
     "iopub.execute_input": "2024-11-29T05:41:55.831692Z",
     "iopub.status.busy": "2024-11-29T05:41:55.831262Z",
     "iopub.status.idle": "2024-11-29T05:41:55.875123Z",
     "shell.execute_reply": "2024-11-29T05:41:55.873800Z"
    },
    "papermill": {
     "duration": 0.12381,
     "end_time": "2024-11-29T05:41:55.877626",
     "exception": false,
     "start_time": "2024-11-29T05:41:55.753816",
     "status": "completed"
    },
    "tags": []
   },
   "outputs": [],
   "source": [
    "test_modified = test.copy()\n",
    "\n",
    "test_features = test_modified[['Age', 'Academic Pressure', 'Work Pressure', 'CGPA',\n",
    "       'Study Satisfaction', 'Job Satisfaction',\n",
    "       'Have you ever had suicidal thoughts ?', 'Work/Study Hours',\n",
    "       'Financial Stress', 'Family History of Mental Illness',\n",
    "       'Dietary Habits Category', 'Degree Category Coded', 'City Tier',\n",
    "       'Gender Coded', 'Working Professional or Student Coded',\n",
    "       'Profession Category_Business_and_Finance',\n",
    "       'Profession Category_Creative_and_Design',\n",
    "       'Profession Category_Education', 'Profession Category_Engineering',\n",
    "       'Profession Category_Finanancial Analyst',\n",
    "       'Profession Category_HR Manager', 'Profession Category_Healthcare',\n",
    "       'Profession Category_Law_and_Government',\n",
    "       'Profession Category_Other_or_Miscellaneous',\n",
    "       'Profession Category_Research Analyst',\n",
    "       'Profession Category_Sales_and_Marketing',\n",
    "       'Profession Category_Science_and_Research',\n",
    "       'Profession Category_Skilled_Trades', 'Profession Category_Student',\n",
    "       'Profession Category_Technology',\n",
    "       'Profession Category_Working Professional',\n",
    "       'Sleep Duration Category Coded']]\n",
    "\n",
    "test_features = test_features.fillna(-1)"
   ]
  },
  {
   "cell_type": "code",
   "execution_count": null,
   "id": "f5983c68",
   "metadata": {
    "execution": {
     "iopub.execute_input": "2024-11-29T05:41:56.034245Z",
     "iopub.status.busy": "2024-11-29T05:41:56.033873Z",
     "iopub.status.idle": "2024-11-29T05:41:59.781961Z",
     "shell.execute_reply": "2024-11-29T05:41:59.780624Z"
    },
    "papermill": {
     "duration": 3.829453,
     "end_time": "2024-11-29T05:41:59.784413",
     "exception": false,
     "start_time": "2024-11-29T05:41:55.954960",
     "status": "completed"
    },
    "tags": []
   },
   "outputs": [],
   "source": [
    "# Predict using the trained model\n",
    "y_pred = model.predict(test_features)  # Predicted probabilities\n",
    "y_pred_proba = model.predict_proba(test_features)[:,1]  # Predicted probabilities\n",
    "\n",
    "# Create Submission DataFrame\n",
    "ADA_submission = pd.DataFrame({\n",
    "    \"id\": test_modified[\"id\"],  # Keep the ID column\n",
    "    \"Depression\": y_pred  # Add predictions\n",
    "})\n",
    "\n",
    "ADA_test_proba = pd.DataFrame({\n",
    "    \"id\": test_modified[\"id\"],  # Keep the ID column\n",
    "    \"oof_ADA_proba\": y_pred_proba  # Add predictions\n",
    "})\n",
    "\n",
    "# Save to CSV\n",
    "ADA_submission.to_csv(\"ADA_submission.csv\", index=False)\n",
    "\n"
   ]
  },
  {
   "cell_type": "code",
   "execution_count": null,
   "id": "25ce86cc",
   "metadata": {
    "execution": {
     "iopub.execute_input": "2024-11-29T05:41:59.940587Z",
     "iopub.status.busy": "2024-11-29T05:41:59.940151Z",
     "iopub.status.idle": "2024-11-29T05:41:59.952316Z",
     "shell.execute_reply": "2024-11-29T05:41:59.951142Z"
    },
    "papermill": {
     "duration": 0.093919,
     "end_time": "2024-11-29T05:41:59.954719",
     "exception": false,
     "start_time": "2024-11-29T05:41:59.860800",
     "status": "completed"
    },
    "tags": []
   },
   "outputs": [],
   "source": [
    "ADA_test_proba"
   ]
  },
  {
   "cell_type": "markdown",
   "id": "915eda7a",
   "metadata": {
    "papermill": {
     "duration": 0.078368,
     "end_time": "2024-11-29T05:42:00.111300",
     "exception": false,
     "start_time": "2024-11-29T05:42:00.032932",
     "status": "completed"
    },
    "tags": []
   },
   "source": [
    "# Combing OOF Predictions into training data"
   ]
  },
  {
   "cell_type": "code",
   "execution_count": null,
   "id": "d4771dab",
   "metadata": {
    "execution": {
     "iopub.execute_input": "2024-11-29T05:42:00.268479Z",
     "iopub.status.busy": "2024-11-29T05:42:00.268070Z",
     "iopub.status.idle": "2024-11-29T05:42:00.285127Z",
     "shell.execute_reply": "2024-11-29T05:42:00.283928Z"
    },
    "papermill": {
     "duration": 0.099495,
     "end_time": "2024-11-29T05:42:00.287631",
     "exception": false,
     "start_time": "2024-11-29T05:42:00.188136",
     "status": "completed"
    },
    "tags": []
   },
   "outputs": [],
   "source": [
    "oof_LogR['oof_LogR'] = (oof_LogR['OOF_Predictions'] > 0.5).astype(int)\n",
    "\n",
    "oof_LogR['oof_LogR_proba'] = oof_LogR['OOF_Predictions']\n",
    "\n",
    "oof_LogR"
   ]
  },
  {
   "cell_type": "code",
   "execution_count": null,
   "id": "a6b5ae49",
   "metadata": {
    "execution": {
     "iopub.execute_input": "2024-11-29T05:42:00.445240Z",
     "iopub.status.busy": "2024-11-29T05:42:00.444828Z",
     "iopub.status.idle": "2024-11-29T05:42:00.462486Z",
     "shell.execute_reply": "2024-11-29T05:42:00.461382Z"
    },
    "papermill": {
     "duration": 0.100369,
     "end_time": "2024-11-29T05:42:00.464836",
     "exception": false,
     "start_time": "2024-11-29T05:42:00.364467",
     "status": "completed"
    },
    "tags": []
   },
   "outputs": [],
   "source": [
    "oof_RF['oof_RF'] = oof_RF['Predicted_Label']\n",
    "\n",
    "oof_RF['oof_RF_proba'] = oof_RF['Class_1']\n",
    "\n",
    "oof_RF"
   ]
  },
  {
   "cell_type": "code",
   "execution_count": null,
   "id": "99a34e9b",
   "metadata": {
    "execution": {
     "iopub.execute_input": "2024-11-29T05:42:00.628178Z",
     "iopub.status.busy": "2024-11-29T05:42:00.627398Z",
     "iopub.status.idle": "2024-11-29T05:42:00.642515Z",
     "shell.execute_reply": "2024-11-29T05:42:00.641328Z"
    },
    "papermill": {
     "duration": 0.097297,
     "end_time": "2024-11-29T05:42:00.645234",
     "exception": false,
     "start_time": "2024-11-29T05:42:00.547937",
     "status": "completed"
    },
    "tags": []
   },
   "outputs": [],
   "source": [
    "oof_XGB['oof_XGB'] = (oof_XGB['OOF_Predictions'] > 0.5).astype(int)\n",
    "\n",
    "oof_XGB['oof_XGB_proba'] = oof_XGB['OOF_Predictions']\n",
    "\n",
    "oof_XGB"
   ]
  },
  {
   "cell_type": "code",
   "execution_count": null,
   "id": "6151b918",
   "metadata": {
    "execution": {
     "iopub.execute_input": "2024-11-29T05:42:00.802535Z",
     "iopub.status.busy": "2024-11-29T05:42:00.802100Z",
     "iopub.status.idle": "2024-11-29T05:42:00.816161Z",
     "shell.execute_reply": "2024-11-29T05:42:00.814935Z"
    },
    "papermill": {
     "duration": 0.095347,
     "end_time": "2024-11-29T05:42:00.818302",
     "exception": false,
     "start_time": "2024-11-29T05:42:00.722955",
     "status": "completed"
    },
    "tags": []
   },
   "outputs": [],
   "source": [
    "\n",
    "\n",
    "oof_ADA['oof_ADA_proba'] = oof_ADA['OOF_Predictions']\n",
    "\n",
    "oof_ADA"
   ]
  },
  {
   "cell_type": "code",
   "execution_count": null,
   "id": "229fe2b2",
   "metadata": {
    "execution": {
     "iopub.execute_input": "2024-11-29T05:42:00.978001Z",
     "iopub.status.busy": "2024-11-29T05:42:00.977541Z",
     "iopub.status.idle": "2024-11-29T05:42:01.103995Z",
     "shell.execute_reply": "2024-11-29T05:42:01.102835Z"
    },
    "papermill": {
     "duration": 0.20861,
     "end_time": "2024-11-29T05:42:01.106312",
     "exception": false,
     "start_time": "2024-11-29T05:42:00.897702",
     "status": "completed"
    },
    "tags": []
   },
   "outputs": [],
   "source": [
    "train_oof = train.copy()\n",
    "\n",
    "train_oof = pd.concat(\n",
    "    [train_oof, oof_RF['oof_RF_proba'], oof_LogR['oof_LogR_proba'], oof_XGB['oof_XGB_proba'], oof_ADA['oof_ADA_proba']],\n",
    "    axis=1\n",
    ")\n",
    "\n",
    "train_oof"
   ]
  },
  {
   "cell_type": "code",
   "execution_count": null,
   "id": "71afd82c",
   "metadata": {
    "execution": {
     "iopub.execute_input": "2024-11-29T05:42:01.268281Z",
     "iopub.status.busy": "2024-11-29T05:42:01.267874Z",
     "iopub.status.idle": "2024-11-29T05:42:01.272837Z",
     "shell.execute_reply": "2024-11-29T05:42:01.271783Z"
    },
    "papermill": {
     "duration": 0.091045,
     "end_time": "2024-11-29T05:42:01.275351",
     "exception": false,
     "start_time": "2024-11-29T05:42:01.184306",
     "status": "completed"
    },
    "tags": []
   },
   "outputs": [],
   "source": [
    "# # Save to CSV\n",
    "# train_oof.to_csv(\"Train_OOF.csv\", index=False)"
   ]
  },
  {
   "cell_type": "markdown",
   "id": "d75a3097",
   "metadata": {
    "papermill": {
     "duration": 0.078816,
     "end_time": "2024-11-29T05:42:01.433048",
     "exception": false,
     "start_time": "2024-11-29T05:42:01.354232",
     "status": "completed"
    },
    "tags": []
   },
   "source": [
    "# Model 6 - FNN Model"
   ]
  },
  {
   "cell_type": "code",
   "execution_count": null,
   "id": "9cfd649a",
   "metadata": {
    "execution": {
     "iopub.execute_input": "2024-11-29T05:42:01.592141Z",
     "iopub.status.busy": "2024-11-29T05:42:01.591757Z",
     "iopub.status.idle": "2024-11-29T05:42:01.701436Z",
     "shell.execute_reply": "2024-11-29T05:42:01.700291Z"
    },
    "papermill": {
     "duration": 0.192019,
     "end_time": "2024-11-29T05:42:01.704647",
     "exception": false,
     "start_time": "2024-11-29T05:42:01.512628",
     "status": "completed"
    },
    "tags": []
   },
   "outputs": [],
   "source": [
    "train_modified = train.copy()\n",
    "\n",
    "X = train_modified.drop(columns=['Working Professional or Student', 'Profession', 'Satisfaction', 'Work/Academic Pressure', 'id', 'Sleep Duration', 'Name', 'City', 'Gender', 'Dietary Habits', 'Degree', 'Degree Category', 'Sleep Duration Category'])\n",
    "\n",
    "\n",
    "FNN_X = X.drop('Depression', axis=1, inplace=False)\n",
    "FNN_Y = X['Depression']\n",
    "\n",
    "FNN_X"
   ]
  },
  {
   "cell_type": "code",
   "execution_count": null,
   "id": "f84d222a",
   "metadata": {
    "execution": {
     "iopub.execute_input": "2024-11-29T05:42:01.891597Z",
     "iopub.status.busy": "2024-11-29T05:42:01.890888Z",
     "iopub.status.idle": "2024-11-29T05:42:01.917036Z",
     "shell.execute_reply": "2024-11-29T05:42:01.915790Z"
    },
    "papermill": {
     "duration": 0.128671,
     "end_time": "2024-11-29T05:42:01.919982",
     "exception": false,
     "start_time": "2024-11-29T05:42:01.791311",
     "status": "completed"
    },
    "tags": []
   },
   "outputs": [],
   "source": [
    "acad_mean = FNN_X['Academic Pressure'].mean()\n",
    "FNN_X['Academic Pressure'] = FNN_X['Academic Pressure'].fillna(acad_mean)\n",
    "\n",
    "work_mean = FNN_X['Work Pressure'].mean()\n",
    "FNN_X['Work Pressure'] = FNN_X['Work Pressure'].fillna(work_mean)\n",
    "\n",
    "cgpa_mean = FNN_X['CGPA'].mean()\n",
    "FNN_X['CGPA'] = FNN_X['CGPA'].fillna(cgpa_mean)\n",
    "\n",
    "studys_mean = FNN_X['Study Satisfaction'].mean()\n",
    "FNN_X['Study Satisfaction'] = FNN_X['Study Satisfaction'].fillna(studys_mean)\n",
    "\n",
    "jobs_mean = FNN_X['Job Satisfaction'].mean()\n",
    "FNN_X['Job Satisfaction'] = FNN_X['Job Satisfaction'].fillna(jobs_mean)"
   ]
  },
  {
   "cell_type": "markdown",
   "id": "588340e2",
   "metadata": {
    "papermill": {
     "duration": 0.082147,
     "end_time": "2024-11-29T05:42:02.083097",
     "exception": false,
     "start_time": "2024-11-29T05:42:02.000950",
     "status": "completed"
    },
    "tags": []
   },
   "source": [
    "# Keras Tuning Optimization"
   ]
  },
  {
   "cell_type": "code",
   "execution_count": null,
   "id": "e8dab9af",
   "metadata": {
    "execution": {
     "iopub.execute_input": "2024-11-29T05:42:02.245766Z",
     "iopub.status.busy": "2024-11-29T05:42:02.245313Z",
     "iopub.status.idle": "2024-11-29T05:42:16.531149Z",
     "shell.execute_reply": "2024-11-29T05:42:16.529819Z"
    },
    "papermill": {
     "duration": 14.370706,
     "end_time": "2024-11-29T05:42:16.533743",
     "exception": false,
     "start_time": "2024-11-29T05:42:02.163037",
     "status": "completed"
    },
    "tags": []
   },
   "outputs": [],
   "source": [
    "from sklearn.model_selection import StratifiedKFold\n",
    "from sklearn.metrics import accuracy_score\n",
    "from tensorflow.keras.models import Sequential\n",
    "from tensorflow.keras.layers import Dense, Dropout\n",
    "from tensorflow.keras.optimizers import Adam\n",
    "import keras_tuner as kt"
   ]
  },
  {
   "cell_type": "code",
   "execution_count": null,
   "id": "94eb7220",
   "metadata": {
    "execution": {
     "iopub.execute_input": "2024-11-29T05:42:16.695162Z",
     "iopub.status.busy": "2024-11-29T05:42:16.694466Z",
     "iopub.status.idle": "2024-11-29T05:42:16.701791Z",
     "shell.execute_reply": "2024-11-29T05:42:16.700666Z"
    },
    "papermill": {
     "duration": 0.090941,
     "end_time": "2024-11-29T05:42:16.704149",
     "exception": false,
     "start_time": "2024-11-29T05:42:16.613208",
     "status": "completed"
    },
    "tags": []
   },
   "outputs": [],
   "source": [
    "\n",
    "\n",
    "# # Define the model-building function for Keras Tuner\n",
    "# def build_model(hp):\n",
    "#     model = Sequential()\n",
    "#     model.add(\n",
    "#         Dense(\n",
    "#             units=hp.Int(\"units_layer1\", min_value=32, max_value=128, step=32),\n",
    "#             activation=\"relu\",\n",
    "#             input_dim=SVM_X.shape[1],\n",
    "#         )\n",
    "#     )\n",
    "#     model.add(Dropout(hp.Float(\"dropout_layer1\", min_value=0.2, max_value=0.5, step=0.1)))\n",
    "    \n",
    "#     # Add optional second layer\n",
    "#     if hp.Boolean(\"add_layer2\"):\n",
    "#         model.add(\n",
    "#             Dense(\n",
    "#                 units=hp.Int(\"units_layer2\", min_value=32, max_value=128, step=32),\n",
    "#                 activation=\"relu\",\n",
    "#             )\n",
    "#         )\n",
    "#         model.add(Dropout(hp.Float(\"dropout_layer2\", min_value=0.2, max_value=0.5, step=0.1)))\n",
    "\n",
    "#     model.add(Dense(1, activation=\"sigmoid\"))  # Binary classification\n",
    "\n",
    "#     # Compile the model\n",
    "#     model.compile(\n",
    "#         optimizer=Adam(learning_rate=hp.Choice(\"learning_rate\", values=[1e-2, 1e-3, 1e-4])),\n",
    "#         loss=\"binary_crossentropy\",\n",
    "#         metrics=[\"accuracy\"],\n",
    "#     )\n",
    "#     return model\n",
    "\n",
    "# # Initialize the Keras Tuner\n",
    "# tuner = kt.RandomSearch(\n",
    "#     build_model,\n",
    "#     objective=\"val_accuracy\",\n",
    "#     max_trials=10,\n",
    "#     executions_per_trial=1,\n",
    "#     directory=\"kt_dir\",\n",
    "#     project_name=\"binary_classification_kfold\",\n",
    "# )\n",
    "\n",
    "# # Stratified K-Fold setup\n",
    "# n_splits = 5\n",
    "# skf = StratifiedKFold(n_splits=n_splits, shuffle=True, random_state=42)\n",
    "\n",
    "# oof_predictions = np.zeros(len(SVM_Y))\n",
    "# true_labels = np.zeros(len(SVM_Y))\n",
    "# fold_accuracies = []\n",
    "\n",
    "# for fold, (train_idx, val_idx) in enumerate(skf.split(FNN_X, FNN_Y)):\n",
    "#     print(f\"Training Fold {fold + 1}/{n_splits}...\")\n",
    "\n",
    "#     X_train, X_val = FNN_X.iloc[train_idx], FNN_X.iloc[val_idx]\n",
    "#     y_train, y_val = FNN_Y.iloc[train_idx], FNN_Y.iloc[val_idx]\n",
    "\n",
    "#     # Optimize hyperparameters for the current fold\n",
    "#     tuner.search(X_train, y_train, epochs=20, validation_data=(X_val, y_val), verbose=0)\n",
    "\n",
    "#     # Get the best hyperparameters for the current fold\n",
    "#     best_hp = tuner.get_best_hyperparameters(1)[0]\n",
    "#     print(f\"Best Hyperparameters for Fold {fold + 1}: {best_hp.values}\")\n",
    "\n",
    "#     # Build the model with the best hyperparameters\n",
    "#     model = tuner.hypermodel.build(best_hp)\n",
    "\n",
    "#     # Train the model\n",
    "#     model.fit(X_train, y_train, epochs=20, batch_size=32, verbose=0)\n",
    "\n",
    "#     # Predict probabilities on the validation set\n",
    "#     y_pred_proba = model.predict(X_val).flatten()  # Predicted probabilities\n",
    "#     y_pred = (y_pred_proba > 0.5).astype(int)  # Convert to binary labels\n",
    "\n",
    "#     # Store OOF predictions and true labels\n",
    "#     oof_predictions[val_idx] = y_pred_proba\n",
    "#     true_labels[val_idx] = y_val\n",
    "\n",
    "#     # Calculate accuracy for the current fold\n",
    "#     accuracy = accuracy_score(y_val, y_pred)\n",
    "#     fold_accuracies.append(accuracy)\n",
    "#     print(f\"Fold {fold + 1} Accuracy: {accuracy:.4f}\")\n",
    "\n",
    "# # Save OOF predictions and true labels to a DataFrame\n",
    "# oof_df = pd.DataFrame({\n",
    "#     \"OOF_Predictions\": oof_predictions,\n",
    "#     \"True_Labels\": true_labels,\n",
    "# })\n",
    "\n",
    "# # Calculate and print the average accuracy across folds\n",
    "# average_accuracy = np.mean(fold_accuracies)\n",
    "# print(f\"\\nAverage Accuracy Across Folds: {average_accuracy:.4f}\")\n",
    "\n",
    "# print(\"\\nOOF Predictions DataFrame:\")\n",
    "# print(oof_df.head())\n"
   ]
  },
  {
   "cell_type": "markdown",
   "id": "e17b72d7",
   "metadata": {
    "papermill": {
     "duration": 0.081937,
     "end_time": "2024-11-29T05:42:16.868164",
     "exception": false,
     "start_time": "2024-11-29T05:42:16.786227",
     "status": "completed"
    },
    "tags": []
   },
   "source": [
    "# Model Training"
   ]
  },
  {
   "cell_type": "code",
   "execution_count": null,
   "id": "55675a2e",
   "metadata": {
    "execution": {
     "iopub.execute_input": "2024-11-29T05:42:17.032215Z",
     "iopub.status.busy": "2024-11-29T05:42:17.031817Z",
     "iopub.status.idle": "2024-11-29T05:51:51.951258Z",
     "shell.execute_reply": "2024-11-29T05:51:51.949923Z"
    },
    "papermill": {
     "duration": 575.004425,
     "end_time": "2024-11-29T05:51:51.953734",
     "exception": false,
     "start_time": "2024-11-29T05:42:16.949309",
     "status": "completed"
    },
    "tags": []
   },
   "outputs": [],
   "source": [
    "\n",
    "\n",
    "# Example of best hyperparameters (replace these with your actual values)\n",
    "best_hp_values = {\n",
    "    \"units_layer1\": 96,\n",
    "    \"dropout_layer1\": 0.2,\n",
    "    \"units_layer2\": 32,\n",
    "    \"dropout_layer2\": 0.2,\n",
    "    \"learning_rate\": 0.0001\n",
    "}\n",
    "\n",
    "# Function to build the model manually\n",
    "def build_model_manual(units_layer1, dropout_layer1, units_layer2, dropout_layer2, learning_rate, input_dim):\n",
    "    model = Sequential([\n",
    "        Dense(units_layer1, activation=\"relu\", input_dim=input_dim),\n",
    "        Dropout(dropout_layer1),\n",
    "        Dense(units_layer2, activation=\"relu\"),\n",
    "        Dropout(dropout_layer2),\n",
    "        Dense(1, activation=\"sigmoid\"),  # Binary classification\n",
    "    ])\n",
    "    optimizer = Adam(learning_rate=learning_rate)\n",
    "    model.compile(optimizer=optimizer, loss=\"binary_crossentropy\", metrics=[\"accuracy\"])\n",
    "    return model\n",
    "\n",
    "# Stratified K-Fold setup\n",
    "n_splits = 5\n",
    "skf = StratifiedKFold(n_splits=n_splits, shuffle=True, random_state=42)\n",
    "\n",
    "oof_predictions = np.zeros(len(FNN_Y))\n",
    "true_labels = np.zeros(len(FNN_Y))\n",
    "fold_accuracies = []\n",
    "\n",
    "for fold, (train_idx, val_idx) in enumerate(skf.split(FNN_X, FNN_Y)):\n",
    "    print(f\"Training Fold {fold + 1}/{n_splits}...\")\n",
    "\n",
    "    X_train, X_val = FNN_X.iloc[train_idx], FNN_X.iloc[val_idx]\n",
    "    y_train, y_val = FNN_Y.iloc[train_idx], FNN_Y.iloc[val_idx]\n",
    "\n",
    "    # Build the model with best hyperparameters\n",
    "    model = build_model_manual(\n",
    "        units_layer1=best_hp_values[\"units_layer1\"],\n",
    "        dropout_layer1=best_hp_values[\"dropout_layer1\"],\n",
    "        units_layer2=best_hp_values[\"units_layer2\"],\n",
    "        dropout_layer2=best_hp_values[\"dropout_layer2\"],\n",
    "        learning_rate=best_hp_values[\"learning_rate\"],\n",
    "        input_dim=X_train.shape[1],\n",
    "    )\n",
    "\n",
    "    # Train the model\n",
    "    model.fit(X_train, y_train, epochs=20, batch_size=32, verbose=0)\n",
    "\n",
    "    # Predict probabilities for the validation set\n",
    "    y_pred_proba = model.predict(X_val).flatten()  # Predicted probabilities\n",
    "    y_pred = (y_pred_proba > 0.5).astype(int)  # Convert probabilities to binary labels\n",
    "\n",
    "    # Store predictions and true labels\n",
    "    oof_predictions[val_idx] = y_pred_proba.astype(float)\n",
    "    true_labels[val_idx] = y_val\n",
    "\n",
    "    # Calculate accuracy for the current fold\n",
    "    accuracy = accuracy_score(y_val, y_pred)\n",
    "    fold_accuracies.append(accuracy)\n",
    "    print(f\"Fold {fold + 1} Accuracy: {accuracy:.4f}\")\n",
    "\n",
    "# Calculate and print the average accuracy across folds\n",
    "print(f\"\\nAverage Accuracy Across Folds: {np.mean(fold_accuracies):.4f}\")\n"
   ]
  },
  {
   "cell_type": "code",
   "execution_count": null,
   "id": "8c01ed4a",
   "metadata": {
    "execution": {
     "iopub.execute_input": "2024-11-29T05:51:52.133390Z",
     "iopub.status.busy": "2024-11-29T05:51:52.132975Z",
     "iopub.status.idle": "2024-11-29T05:51:52.141054Z",
     "shell.execute_reply": "2024-11-29T05:51:52.139884Z"
    },
    "papermill": {
     "duration": 0.099736,
     "end_time": "2024-11-29T05:51:52.143414",
     "exception": false,
     "start_time": "2024-11-29T05:51:52.043678",
     "status": "completed"
    },
    "tags": []
   },
   "outputs": [],
   "source": [
    "oof_predictions"
   ]
  },
  {
   "cell_type": "markdown",
   "id": "94827d71",
   "metadata": {
    "papermill": {
     "duration": 0.087692,
     "end_time": "2024-11-29T05:51:52.319676",
     "exception": false,
     "start_time": "2024-11-29T05:51:52.231984",
     "status": "completed"
    },
    "tags": []
   },
   "source": [
    "# OOF Predictions : FNN Model"
   ]
  },
  {
   "cell_type": "code",
   "execution_count": null,
   "id": "f3cc0c6a",
   "metadata": {
    "execution": {
     "iopub.execute_input": "2024-11-29T05:51:52.496201Z",
     "iopub.status.busy": "2024-11-29T05:51:52.495794Z",
     "iopub.status.idle": "2024-11-29T05:51:52.501499Z",
     "shell.execute_reply": "2024-11-29T05:51:52.500570Z"
    },
    "papermill": {
     "duration": 0.097209,
     "end_time": "2024-11-29T05:51:52.503497",
     "exception": false,
     "start_time": "2024-11-29T05:51:52.406288",
     "status": "completed"
    },
    "tags": []
   },
   "outputs": [],
   "source": [
    "# Save OOF predictions and true labels to a DataFrame\n",
    "oof_FNN = pd.DataFrame({\n",
    "    \"OOF_Predictions\": oof_predictions,\n",
    "    \"True_Labels\": true_labels,\n",
    "})"
   ]
  },
  {
   "cell_type": "code",
   "execution_count": null,
   "id": "5493fe1e",
   "metadata": {
    "execution": {
     "iopub.execute_input": "2024-11-29T05:51:52.677773Z",
     "iopub.status.busy": "2024-11-29T05:51:52.677362Z",
     "iopub.status.idle": "2024-11-29T05:51:52.802148Z",
     "shell.execute_reply": "2024-11-29T05:51:52.800989Z"
    },
    "papermill": {
     "duration": 0.214796,
     "end_time": "2024-11-29T05:51:52.804474",
     "exception": false,
     "start_time": "2024-11-29T05:51:52.589678",
     "status": "completed"
    },
    "tags": []
   },
   "outputs": [],
   "source": [
    "oof_FNN['oof_FNN_proba'] = oof_FNN['OOF_Predictions']\n",
    "\n",
    "train_oof = pd.concat(\n",
    "    [train_oof, oof_FNN['oof_FNN_proba']],\n",
    "    axis=1\n",
    ")\n",
    "\n",
    "train_oof"
   ]
  },
  {
   "cell_type": "markdown",
   "id": "e3679601",
   "metadata": {
    "papermill": {
     "duration": 0.08698,
     "end_time": "2024-11-29T05:51:52.981469",
     "exception": false,
     "start_time": "2024-11-29T05:51:52.894489",
     "status": "completed"
    },
    "tags": []
   },
   "source": [
    "# Test Predictions"
   ]
  },
  {
   "cell_type": "code",
   "execution_count": null,
   "id": "e1094326",
   "metadata": {
    "execution": {
     "iopub.execute_input": "2024-11-29T05:51:53.158343Z",
     "iopub.status.busy": "2024-11-29T05:51:53.157956Z",
     "iopub.status.idle": "2024-11-29T05:51:53.205688Z",
     "shell.execute_reply": "2024-11-29T05:51:53.204515Z"
    },
    "papermill": {
     "duration": 0.13961,
     "end_time": "2024-11-29T05:51:53.208367",
     "exception": false,
     "start_time": "2024-11-29T05:51:53.068757",
     "status": "completed"
    },
    "tags": []
   },
   "outputs": [],
   "source": [
    "test_modified = test.copy()\n",
    "\n",
    "X = test_modified.drop(columns=['Working Professional or Student', 'Profession', 'Satisfaction', 'Work/Academic Pressure', 'id', 'Sleep Duration', 'Name', 'City', 'Gender', 'Dietary Habits', 'Degree', 'Degree Category', 'Sleep Duration Category'])\n",
    "\n",
    "\n",
    "acad_mean = X['Academic Pressure'].mean()\n",
    "X['Academic Pressure'] = X['Academic Pressure'].fillna(acad_mean)\n",
    "\n",
    "work_mean = X['Work Pressure'].mean()\n",
    "X['Work Pressure'] = X['Work Pressure'].fillna(work_mean)\n",
    "\n",
    "cgpa_mean = X['CGPA'].mean()\n",
    "X['CGPA'] = X['CGPA'].fillna(cgpa_mean)\n",
    "\n",
    "studys_mean = X['Study Satisfaction'].mean()\n",
    "X['Study Satisfaction'] = X['Study Satisfaction'].fillna(studys_mean)\n",
    "\n",
    "jobs_mean = X['Job Satisfaction'].mean()\n",
    "X['Job Satisfaction'] = X['Job Satisfaction'].fillna(jobs_mean)"
   ]
  },
  {
   "cell_type": "code",
   "execution_count": null,
   "id": "11def44d",
   "metadata": {
    "execution": {
     "iopub.execute_input": "2024-11-29T05:51:53.385161Z",
     "iopub.status.busy": "2024-11-29T05:51:53.384777Z",
     "iopub.status.idle": "2024-11-29T05:51:57.618739Z",
     "shell.execute_reply": "2024-11-29T05:51:57.617632Z"
    },
    "papermill": {
     "duration": 4.324988,
     "end_time": "2024-11-29T05:51:57.620890",
     "exception": false,
     "start_time": "2024-11-29T05:51:53.295902",
     "status": "completed"
    },
    "tags": []
   },
   "outputs": [],
   "source": [
    "\n",
    "# Predict probabilities on the test set\n",
    "y_pred_proba = model.predict(X).flatten()  # Flatten ensures 1D array\n",
    "\n",
    "# Convert probabilities to binary labels\n",
    "threshold = 0.5\n",
    "y_pred_labels = (y_pred_proba > threshold).astype(int)\n",
    "\n",
    "# Combine predictions with the id column\n",
    "FNN_submission = pd.DataFrame({\n",
    "    \"id\": test_modified[\"id\"],\n",
    "    \"Predicted_Probabilities\": y_pred_proba,\n",
    "    \"Predicted_Labels\": y_pred_labels,\n",
    "})\n",
    "\n",
    "FNN_test_proba = pd.DataFrame({\n",
    "    \"id\": test_modified[\"id\"],\n",
    "    \"oof_FNN_proba\": y_pred_proba,\n",
    "})\n",
    "\n",
    "\n",
    "FNN_submission"
   ]
  },
  {
   "cell_type": "code",
   "execution_count": null,
   "id": "83831fa6",
   "metadata": {
    "execution": {
     "iopub.execute_input": "2024-11-29T05:51:57.805815Z",
     "iopub.status.busy": "2024-11-29T05:51:57.805403Z",
     "iopub.status.idle": "2024-11-29T05:51:57.886869Z",
     "shell.execute_reply": "2024-11-29T05:51:57.885802Z"
    },
    "papermill": {
     "duration": 0.175536,
     "end_time": "2024-11-29T05:51:57.889162",
     "exception": false,
     "start_time": "2024-11-29T05:51:57.713626",
     "status": "completed"
    },
    "tags": []
   },
   "outputs": [],
   "source": [
    "# Save to CSV\n",
    "FNN_submission['Depression'] = FNN_submission['Predicted_Labels']\n",
    "FNN_submission_2 = FNN_submission[['id', 'Depression']]\n",
    "\n",
    "FNN_submission_2.to_csv(\"FNN_submission.csv\", index=False)\n",
    "\n",
    "FNN_submission_2.head()"
   ]
  },
  {
   "cell_type": "code",
   "execution_count": null,
   "id": "d3b9976c",
   "metadata": {
    "execution": {
     "iopub.execute_input": "2024-11-29T05:51:58.075345Z",
     "iopub.status.busy": "2024-11-29T05:51:58.074974Z",
     "iopub.status.idle": "2024-11-29T05:51:58.086865Z",
     "shell.execute_reply": "2024-11-29T05:51:58.085878Z"
    },
    "papermill": {
     "duration": 0.106943,
     "end_time": "2024-11-29T05:51:58.089072",
     "exception": false,
     "start_time": "2024-11-29T05:51:57.982129",
     "status": "completed"
    },
    "tags": []
   },
   "outputs": [],
   "source": [
    "ADA_test_proba"
   ]
  },
  {
   "cell_type": "markdown",
   "id": "bb0aadbd",
   "metadata": {
    "papermill": {
     "duration": 0.09526,
     "end_time": "2024-11-29T05:51:58.277977",
     "exception": false,
     "start_time": "2024-11-29T05:51:58.182717",
     "status": "completed"
    },
    "tags": []
   },
   "source": [
    "# Test OOF"
   ]
  },
  {
   "cell_type": "code",
   "execution_count": null,
   "id": "ef8b1e79",
   "metadata": {
    "execution": {
     "iopub.execute_input": "2024-11-29T05:51:58.463285Z",
     "iopub.status.busy": "2024-11-29T05:51:58.462887Z",
     "iopub.status.idle": "2024-11-29T05:51:58.561386Z",
     "shell.execute_reply": "2024-11-29T05:51:58.560292Z"
    },
    "papermill": {
     "duration": 0.193827,
     "end_time": "2024-11-29T05:51:58.563537",
     "exception": false,
     "start_time": "2024-11-29T05:51:58.369710",
     "status": "completed"
    },
    "tags": []
   },
   "outputs": [],
   "source": [
    "test_oof = test.copy()\n",
    "\n",
    "\n",
    "\n",
    "test_oof = pd.concat(\n",
    "    [test_oof, RF_test_proba['oof_RF_proba'], LogR_test_proba['oof_LogR_proba'], XGB_test_proba['oof_XGB_proba'], \n",
    "     ADA_test_proba['oof_ADA_proba'], FNN_test_proba['oof_FNN_proba']],\n",
    "    axis=1\n",
    ")\n",
    "\n",
    "test_oof"
   ]
  },
  {
   "cell_type": "markdown",
   "id": "85f6502b",
   "metadata": {
    "papermill": {
     "duration": 0.09231,
     "end_time": "2024-11-29T05:51:58.749098",
     "exception": false,
     "start_time": "2024-11-29T05:51:58.656788",
     "status": "completed"
    },
    "tags": []
   },
   "source": [
    "# Model 7 : CatBoost"
   ]
  },
  {
   "cell_type": "code",
   "execution_count": null,
   "id": "5bfb7dcf",
   "metadata": {
    "execution": {
     "iopub.execute_input": "2024-11-29T05:51:58.993061Z",
     "iopub.status.busy": "2024-11-29T05:51:58.992627Z",
     "iopub.status.idle": "2024-11-29T05:51:59.130114Z",
     "shell.execute_reply": "2024-11-29T05:51:59.128852Z"
    },
    "papermill": {
     "duration": 0.291533,
     "end_time": "2024-11-29T05:51:59.132860",
     "exception": false,
     "start_time": "2024-11-29T05:51:58.841327",
     "status": "completed"
    },
    "tags": []
   },
   "outputs": [],
   "source": [
    "train_modified = train.copy()\n",
    "\n",
    "X = train_modified.drop(columns=['Working Professional or Student', 'Profession', 'Satisfaction', 'Work/Academic Pressure', 'id', 'Sleep Duration', 'Name', 'City', 'Gender', 'Dietary Habits', 'Degree', 'Degree Category', 'Sleep Duration Category'])\n",
    "\n",
    "\n",
    "CB_X = X.drop('Depression', axis=1, inplace=False)\n",
    "CB_Y = X['Depression']\n",
    "\n",
    "CB_X = XGB_X.fillna(-1)\n",
    "\n",
    "CB_X"
   ]
  },
  {
   "cell_type": "code",
   "execution_count": null,
   "id": "fae34c5a",
   "metadata": {
    "execution": {
     "iopub.execute_input": "2024-11-29T05:51:59.324699Z",
     "iopub.status.busy": "2024-11-29T05:51:59.324293Z",
     "iopub.status.idle": "2024-11-29T05:51:59.538845Z",
     "shell.execute_reply": "2024-11-29T05:51:59.537765Z"
    },
    "papermill": {
     "duration": 0.311157,
     "end_time": "2024-11-29T05:51:59.541242",
     "exception": false,
     "start_time": "2024-11-29T05:51:59.230085",
     "status": "completed"
    },
    "tags": []
   },
   "outputs": [],
   "source": [
    "from catboost import CatBoostClassifier, Pool\n",
    "from sklearn.model_selection import StratifiedKFold\n",
    "from sklearn.metrics import accuracy_score"
   ]
  },
  {
   "cell_type": "code",
   "execution_count": null,
   "id": "2b0dd54f",
   "metadata": {
    "execution": {
     "iopub.execute_input": "2024-11-29T05:51:59.732224Z",
     "iopub.status.busy": "2024-11-29T05:51:59.731828Z",
     "iopub.status.idle": "2024-11-29T05:51:59.738248Z",
     "shell.execute_reply": "2024-11-29T05:51:59.737005Z"
    },
    "papermill": {
     "duration": 0.104134,
     "end_time": "2024-11-29T05:51:59.740518",
     "exception": false,
     "start_time": "2024-11-29T05:51:59.636384",
     "status": "completed"
    },
    "tags": []
   },
   "outputs": [],
   "source": [
    "# import optuna\n",
    "# from catboost import CatBoostClassifier, Pool\n",
    "# from sklearn.model_selection import StratifiedKFold\n",
    "# from sklearn.metrics import accuracy_score\n",
    "\n",
    "# # Stratified K-Fold setup\n",
    "# n_splits = 5\n",
    "# skf = StratifiedKFold(n_splits=n_splits, shuffle=True, random_state=42)\n",
    "\n",
    "# # Initialize arrays for OOF predictions and true labels\n",
    "# oof_predictions = np.zeros(len(CB_Y))\n",
    "# true_labels = np.zeros(len(CB_Y))\n",
    "# fold_accuracies = []\n",
    "\n",
    "# # Define the objective function for Optuna\n",
    "# def objective(trial):\n",
    "#     params = {\n",
    "#         \"iterations\": trial.suggest_int(\"iterations\", 100, 500),\n",
    "#         \"learning_rate\": trial.suggest_float(\"learning_rate\", 1e-3, 0.3, log=True),\n",
    "#         \"depth\": trial.suggest_int(\"depth\", 3, 10),\n",
    "#         \"l2_leaf_reg\": trial.suggest_float(\"l2_leaf_reg\", 1e-3, 10.0, log=True),\n",
    "#         \"border_count\": trial.suggest_int(\"border_count\", 32, 255),\n",
    "#         \"bagging_temperature\": trial.suggest_float(\"bagging_temperature\", 0.0, 1.0),\n",
    "#         \"random_strength\": trial.suggest_float(\"random_strength\", 0.0, 1.0),\n",
    "#         \"verbose\": 0,\n",
    "#         \"loss_function\": \"Logloss\",\n",
    "#         \"eval_metric\": \"Accuracy\",\n",
    "#         \"random_state\": 42,\n",
    "#     }\n",
    "\n",
    "#     fold_accuracies = []\n",
    "\n",
    "#     for fold, (train_idx, val_idx) in enumerate(skf.split(CB_X, CB_Y)):\n",
    "#         X_train, X_val = CB_X.iloc[train_idx], CB_X.iloc[val_idx]\n",
    "#         y_train, y_val = CB_Y.iloc[train_idx], CB_Y.iloc[val_idx]\n",
    "\n",
    "#         # Train CatBoost model\n",
    "#         model = CatBoostClassifier(**params)\n",
    "#         model.fit(X_train, y_train, eval_set=(X_val, y_val), early_stopping_rounds=50, verbose=0)\n",
    "\n",
    "#         # Predict on validation set\n",
    "#         y_pred = model.predict(X_val)\n",
    "#         accuracy = accuracy_score(y_val, y_pred)\n",
    "#         fold_accuracies.append(accuracy)\n",
    "\n",
    "#     # Return mean accuracy across folds\n",
    "#     return 1 - np.mean(fold_accuracies)  # Optuna minimizes the objective\n",
    "\n",
    "# # Run Optuna optimization\n",
    "# study = optuna.create_study(direction=\"minimize\")\n",
    "# study.optimize(objective, n_trials=50)\n",
    "\n",
    "# # Get best hyperparameters\n",
    "# best_params = study.best_params\n",
    "# print(\"Best Parameters:\", best_params)\n"
   ]
  },
  {
   "cell_type": "markdown",
   "id": "27ce7b40",
   "metadata": {
    "papermill": {
     "duration": 0.093566,
     "end_time": "2024-11-29T05:51:59.928423",
     "exception": false,
     "start_time": "2024-11-29T05:51:59.834857",
     "status": "completed"
    },
    "tags": []
   },
   "source": [
    "# Training Model"
   ]
  },
  {
   "cell_type": "code",
   "execution_count": null,
   "id": "35cc25d7",
   "metadata": {
    "execution": {
     "iopub.execute_input": "2024-11-29T05:52:00.116761Z",
     "iopub.status.busy": "2024-11-29T05:52:00.116343Z",
     "iopub.status.idle": "2024-11-29T05:52:13.009044Z",
     "shell.execute_reply": "2024-11-29T05:52:13.007624Z"
    },
    "papermill": {
     "duration": 12.990367,
     "end_time": "2024-11-29T05:52:13.011316",
     "exception": false,
     "start_time": "2024-11-29T05:52:00.020949",
     "status": "completed"
    },
    "tags": []
   },
   "outputs": [],
   "source": [
    "best_params = {'iterations': 319, \n",
    "               'learning_rate': 0.18905539476863192, \n",
    "               'depth': 6, \n",
    "               'l2_leaf_reg': 0.3245637713616064, \n",
    "               'border_count': 75, \n",
    "               'bagging_temperature': 0.8668378304134939, \n",
    "               'random_strength': 0.35900494488728574\n",
    "              }\n",
    "\n",
    "# Stratified K-Fold setup\n",
    "n_splits = 5\n",
    "skf = StratifiedKFold(n_splits=n_splits, shuffle=True, random_state=42)\n",
    "\n",
    "# Initialize arrays for OOF predictions and true labels\n",
    "oof_predictions = np.zeros(len(CB_Y))\n",
    "true_labels = np.zeros(len(CB_Y))\n",
    "fold_accuracies = []\n",
    "\n",
    "# Perform Stratified K-Fold with Best Parameters\n",
    "for fold, (train_idx, val_idx) in enumerate(skf.split(CB_X, CB_Y)):\n",
    "    print(f\"Training Fold {fold + 1}/{n_splits}...\")\n",
    "\n",
    "    X_train, X_val = CB_X.iloc[train_idx], CB_X.iloc[val_idx]\n",
    "    y_train, y_val = CB_Y.iloc[train_idx], CB_Y.iloc[val_idx]\n",
    "\n",
    "    # Train CatBoost model with best parameters\n",
    "    model = CatBoostClassifier(**best_params, verbose=0, random_state=42, loss_function=\"Logloss\")\n",
    "    model.fit(X_train, y_train, eval_set=(X_val, y_val), early_stopping_rounds=50, verbose=0)\n",
    "\n",
    "    # Predict probabilities for validation set\n",
    "    y_pred_proba = model.predict_proba(X_val)[:, 1]  # Probabilities for class 1\n",
    "    oof_predictions[val_idx] = y_pred_proba  # Store OOF probabilities\n",
    "    true_labels[val_idx] = y_val  # Store true labels\n",
    "\n",
    "    # Convert probabilities to binary predictions\n",
    "    y_pred = (y_pred_proba > 0.5).astype(int)\n",
    "    accuracy = accuracy_score(y_val, y_pred)\n",
    "    fold_accuracies.append(accuracy)\n",
    "    print(f\"Fold {fold + 1} Accuracy: {accuracy:.4f}\")\n",
    "\n",
    "# Save OOF predictions and true labels to a DataFrame\n",
    "oof_df = pd.DataFrame({\n",
    "    \"OOF_Predictions\": oof_predictions,\n",
    "    \"True_Labels\": true_labels,\n",
    "})\n",
    "\n",
    "# Print the OOF DataFrame\n",
    "print(\"\\nOOF Predictions DataFrame:\")\n",
    "print(oof_df.head())\n",
    "\n",
    "# Calculate overall accuracy\n",
    "average_accuracy = np.mean(fold_accuracies)\n",
    "print(f\"\\nAverage Accuracy Across Folds: {average_accuracy:.4f}\")\n"
   ]
  },
  {
   "cell_type": "markdown",
   "id": "e62fd772",
   "metadata": {
    "papermill": {
     "duration": 0.095258,
     "end_time": "2024-11-29T05:52:13.202298",
     "exception": false,
     "start_time": "2024-11-29T05:52:13.107040",
     "status": "completed"
    },
    "tags": []
   },
   "source": [
    "# OOF Predictions : CatBoost"
   ]
  },
  {
   "cell_type": "code",
   "execution_count": null,
   "id": "4bb9ebe6",
   "metadata": {
    "execution": {
     "iopub.execute_input": "2024-11-29T05:52:13.390968Z",
     "iopub.status.busy": "2024-11-29T05:52:13.390114Z",
     "iopub.status.idle": "2024-11-29T05:52:13.404239Z",
     "shell.execute_reply": "2024-11-29T05:52:13.403176Z"
    },
    "papermill": {
     "duration": 0.109942,
     "end_time": "2024-11-29T05:52:13.406518",
     "exception": false,
     "start_time": "2024-11-29T05:52:13.296576",
     "status": "completed"
    },
    "tags": []
   },
   "outputs": [],
   "source": [
    "oof_CB = oof_df.copy()\n",
    "\n",
    "oof_CB['oof_CB_proba'] = oof_CB['OOF_Predictions']\n",
    "\n",
    "oof_CB"
   ]
  },
  {
   "cell_type": "code",
   "execution_count": null,
   "id": "e32671ed",
   "metadata": {
    "execution": {
     "iopub.execute_input": "2024-11-29T05:52:13.594211Z",
     "iopub.status.busy": "2024-11-29T05:52:13.593825Z",
     "iopub.status.idle": "2024-11-29T05:52:13.710714Z",
     "shell.execute_reply": "2024-11-29T05:52:13.709651Z"
    },
    "papermill": {
     "duration": 0.213402,
     "end_time": "2024-11-29T05:52:13.713167",
     "exception": false,
     "start_time": "2024-11-29T05:52:13.499765",
     "status": "completed"
    },
    "tags": []
   },
   "outputs": [],
   "source": [
    "train_oof = pd.concat(\n",
    "    [train_oof, oof_CB['oof_CB_proba']],\n",
    "    axis=1\n",
    ")\n",
    "\n",
    "train_oof"
   ]
  },
  {
   "cell_type": "markdown",
   "id": "4f275296",
   "metadata": {
    "papermill": {
     "duration": 0.092269,
     "end_time": "2024-11-29T05:52:13.899400",
     "exception": false,
     "start_time": "2024-11-29T05:52:13.807131",
     "status": "completed"
    },
    "tags": []
   },
   "source": [
    "# Test Predictions"
   ]
  },
  {
   "cell_type": "code",
   "execution_count": null,
   "id": "ee6e8dad",
   "metadata": {
    "execution": {
     "iopub.execute_input": "2024-11-29T05:52:14.093893Z",
     "iopub.status.busy": "2024-11-29T05:52:14.092926Z",
     "iopub.status.idle": "2024-11-29T05:52:14.133508Z",
     "shell.execute_reply": "2024-11-29T05:52:14.132402Z"
    },
    "papermill": {
     "duration": 0.140984,
     "end_time": "2024-11-29T05:52:14.135947",
     "exception": false,
     "start_time": "2024-11-29T05:52:13.994963",
     "status": "completed"
    },
    "tags": []
   },
   "outputs": [],
   "source": [
    "test_modified = test.copy()\n",
    "\n",
    "test_features = test_modified[['Age', 'Academic Pressure', 'Work Pressure', 'CGPA',\n",
    "       'Study Satisfaction', 'Job Satisfaction',\n",
    "       'Have you ever had suicidal thoughts ?', 'Work/Study Hours',\n",
    "       'Financial Stress', 'Family History of Mental Illness',\n",
    "       'Dietary Habits Category', 'Degree Category Coded', 'City Tier',\n",
    "       'Gender Coded', 'Working Professional or Student Coded',\n",
    "       'Profession Category_Business_and_Finance',\n",
    "       'Profession Category_Creative_and_Design',\n",
    "       'Profession Category_Education', 'Profession Category_Engineering',\n",
    "       'Profession Category_Finanancial Analyst',\n",
    "       'Profession Category_HR Manager', 'Profession Category_Healthcare',\n",
    "       'Profession Category_Law_and_Government',\n",
    "       'Profession Category_Other_or_Miscellaneous',\n",
    "       'Profession Category_Research Analyst',\n",
    "       'Profession Category_Sales_and_Marketing',\n",
    "       'Profession Category_Science_and_Research',\n",
    "       'Profession Category_Skilled_Trades', 'Profession Category_Student',\n",
    "       'Profession Category_Technology',\n",
    "       'Profession Category_Working Professional',\n",
    "       'Sleep Duration Category Coded']]\n",
    "\n",
    "test_features = test_features.fillna(-1)"
   ]
  },
  {
   "cell_type": "code",
   "execution_count": null,
   "id": "ff09097b",
   "metadata": {
    "execution": {
     "iopub.execute_input": "2024-11-29T05:52:14.331737Z",
     "iopub.status.busy": "2024-11-29T05:52:14.331189Z",
     "iopub.status.idle": "2024-11-29T05:52:14.464935Z",
     "shell.execute_reply": "2024-11-29T05:52:14.463788Z"
    },
    "papermill": {
     "duration": 0.235782,
     "end_time": "2024-11-29T05:52:14.467484",
     "exception": false,
     "start_time": "2024-11-29T05:52:14.231702",
     "status": "completed"
    },
    "tags": []
   },
   "outputs": [],
   "source": [
    "# Predict using the trained model\n",
    "y_pred = model.predict(test_features)  # Predicted probabilities\n",
    "y_pred_proba = model.predict_proba(test_features)[:,1]  # Predicted probabilities\n",
    "\n",
    "# Create Submission DataFrame\n",
    "CB_submission = pd.DataFrame({\n",
    "    \"id\": test_modified[\"id\"],  # Keep the ID column\n",
    "    \"Depression\": y_pred  # Add predictions\n",
    "})\n",
    "\n",
    "CB_test_proba = pd.DataFrame({\n",
    "    \"id\": test_modified[\"id\"],  # Keep the ID column\n",
    "    \"oof_CB_proba\": y_pred_proba  # Add predictions\n",
    "})\n",
    "\n",
    "\n",
    "\n",
    "# Save to CSV\n",
    "CB_submission.to_csv(\"CB_submission.csv\", index=False)\n"
   ]
  },
  {
   "cell_type": "code",
   "execution_count": null,
   "id": "2deade12",
   "metadata": {
    "execution": {
     "iopub.execute_input": "2024-11-29T05:52:14.657201Z",
     "iopub.status.busy": "2024-11-29T05:52:14.656824Z",
     "iopub.status.idle": "2024-11-29T05:52:14.728076Z",
     "shell.execute_reply": "2024-11-29T05:52:14.726959Z"
    },
    "papermill": {
     "duration": 0.168669,
     "end_time": "2024-11-29T05:52:14.730310",
     "exception": false,
     "start_time": "2024-11-29T05:52:14.561641",
     "status": "completed"
    },
    "tags": []
   },
   "outputs": [],
   "source": [
    "test_oof = pd.concat(\n",
    "    [test_oof, CB_test_proba['oof_CB_proba']],\n",
    "    axis=1\n",
    ")\n",
    "\n",
    "test_oof"
   ]
  },
  {
   "cell_type": "code",
   "execution_count": null,
   "id": "69ca90bf",
   "metadata": {
    "execution": {
     "iopub.execute_input": "2024-11-29T05:52:14.923455Z",
     "iopub.status.busy": "2024-11-29T05:52:14.922972Z",
     "iopub.status.idle": "2024-11-29T05:52:14.999685Z",
     "shell.execute_reply": "2024-11-29T05:52:14.998533Z"
    },
    "papermill": {
     "duration": 0.177418,
     "end_time": "2024-11-29T05:52:15.001959",
     "exception": false,
     "start_time": "2024-11-29T05:52:14.824541",
     "status": "completed"
    },
    "tags": []
   },
   "outputs": [],
   "source": [
    "train_oof"
   ]
  },
  {
   "cell_type": "markdown",
   "id": "67dfa1d5",
   "metadata": {
    "papermill": {
     "duration": 0.09395,
     "end_time": "2024-11-29T05:52:15.191256",
     "exception": false,
     "start_time": "2024-11-29T05:52:15.097306",
     "status": "completed"
    },
    "tags": []
   },
   "source": [
    "# Meta model - Catboost + OOF RF, LogR, XGB, ADA Boost, FNN"
   ]
  },
  {
   "cell_type": "code",
   "execution_count": null,
   "id": "2dd443c2",
   "metadata": {
    "execution": {
     "iopub.execute_input": "2024-11-29T05:52:15.388316Z",
     "iopub.status.busy": "2024-11-29T05:52:15.387482Z",
     "iopub.status.idle": "2024-11-29T05:52:15.499860Z",
     "shell.execute_reply": "2024-11-29T05:52:15.498750Z"
    },
    "papermill": {
     "duration": 0.211539,
     "end_time": "2024-11-29T05:52:15.502307",
     "exception": false,
     "start_time": "2024-11-29T05:52:15.290768",
     "status": "completed"
    },
    "tags": []
   },
   "outputs": [],
   "source": [
    "train_meta = train_oof.copy()\n",
    "\n",
    "train_meta = train_meta.drop(columns=['Working Professional or Student', 'Profession', 'Satisfaction', 'Work/Academic Pressure', 'id', 'Sleep Duration', 'Name', 'City', 'Gender', 'Dietary Habits', 'Degree', 'Degree Category', 'Sleep Duration Category','oof_CB_proba'])\n",
    "\n",
    "\n",
    "MCB_X = train_meta.drop('Depression', axis=1, inplace=False)\n",
    "MCB_Y = train_meta['Depression']\n",
    "\n",
    "MCB_X = MCB_X.fillna(-1)\n",
    "\n",
    "MCB_X.columns"
   ]
  },
  {
   "cell_type": "code",
   "execution_count": null,
   "id": "f8566dd6",
   "metadata": {
    "execution": {
     "iopub.execute_input": "2024-11-29T05:52:15.693452Z",
     "iopub.status.busy": "2024-11-29T05:52:15.693058Z",
     "iopub.status.idle": "2024-11-29T05:52:15.699152Z",
     "shell.execute_reply": "2024-11-29T05:52:15.697922Z"
    },
    "papermill": {
     "duration": 0.103806,
     "end_time": "2024-11-29T05:52:15.701104",
     "exception": false,
     "start_time": "2024-11-29T05:52:15.597298",
     "status": "completed"
    },
    "tags": []
   },
   "outputs": [],
   "source": [
    "# import optuna\n",
    "# from catboost import CatBoostClassifier, Pool\n",
    "# from sklearn.model_selection import StratifiedKFold\n",
    "# from sklearn.metrics import accuracy_score\n",
    "\n",
    "# # Stratified K-Fold setup\n",
    "# n_splits = 5\n",
    "# skf = StratifiedKFold(n_splits=n_splits, shuffle=True, random_state=42)\n",
    "\n",
    "# # Initialize arrays for OOF predictions and true labels\n",
    "# oof_predictions = np.zeros(len(MCB_Y))\n",
    "# true_labels = np.zeros(len(MCB_Y))\n",
    "# fold_accuracies = []\n",
    "\n",
    "# # Define the objective function for Optuna\n",
    "# def objective(trial):\n",
    "#     params = {\n",
    "#         \"iterations\": trial.suggest_int(\"iterations\", 100, 500),\n",
    "#         \"learning_rate\": trial.suggest_float(\"learning_rate\", 1e-3, 0.3, log=True),\n",
    "#         \"depth\": trial.suggest_int(\"depth\", 3, 10),\n",
    "#         \"l2_leaf_reg\": trial.suggest_float(\"l2_leaf_reg\", 1e-3, 10.0, log=True),\n",
    "#         \"border_count\": trial.suggest_int(\"border_count\", 32, 255),\n",
    "#         \"bagging_temperature\": trial.suggest_float(\"bagging_temperature\", 0.0, 1.0),\n",
    "#         \"random_strength\": trial.suggest_float(\"random_strength\", 0.0, 1.0),\n",
    "#         \"verbose\": 0,\n",
    "#         \"loss_function\": \"Logloss\",\n",
    "#         \"eval_metric\": \"Accuracy\",\n",
    "#         \"random_state\": 42,\n",
    "#     }\n",
    "\n",
    "#     fold_accuracies = []\n",
    "\n",
    "#     for fold, (train_idx, val_idx) in enumerate(skf.split(MCB_X, MCB_Y)):\n",
    "#         X_train, X_val = MCB_X.iloc[train_idx], MCB_X.iloc[val_idx]\n",
    "#         y_train, y_val = MCB_Y.iloc[train_idx], MCB_Y.iloc[val_idx]\n",
    "\n",
    "#         # Train CatBoost model\n",
    "#         model = CatBoostClassifier(**params)\n",
    "#         model.fit(X_train, y_train, eval_set=(X_val, y_val), early_stopping_rounds=50, verbose=0)\n",
    "\n",
    "#         # Predict on validation set\n",
    "#         y_pred = model.predict(X_val)\n",
    "#         accuracy = accuracy_score(y_val, y_pred)\n",
    "#         fold_accuracies.append(accuracy)\n",
    "\n",
    "#     # Return mean accuracy across folds\n",
    "#     return 1 - np.mean(fold_accuracies)  # Optuna minimizes the objective\n",
    "\n",
    "# # Run Optuna optimization\n",
    "# study = optuna.create_study(direction=\"minimize\")\n",
    "# study.optimize(objective, n_trials=50)\n",
    "\n",
    "# # Get best hyperparameters\n",
    "# best_params = study.best_params\n",
    "# print(\"Best Parameters:\", best_params)\n"
   ]
  },
  {
   "cell_type": "code",
   "execution_count": null,
   "id": "5f4d8c25",
   "metadata": {
    "execution": {
     "iopub.execute_input": "2024-11-29T05:52:15.892985Z",
     "iopub.status.busy": "2024-11-29T05:52:15.891627Z",
     "iopub.status.idle": "2024-11-29T05:52:46.055802Z",
     "shell.execute_reply": "2024-11-29T05:52:46.054735Z"
    },
    "papermill": {
     "duration": 30.357252,
     "end_time": "2024-11-29T05:52:46.154316",
     "exception": false,
     "start_time": "2024-11-29T05:52:15.797064",
     "status": "completed"
    },
    "tags": []
   },
   "outputs": [],
   "source": [
    "best_params = {'iterations': 285, #333, \n",
    "               'learning_rate': 0.012014432093919357, #0.011991148115001949, \n",
    "               'depth': 7, #3, \n",
    "               'l2_leaf_reg': 0.007572004811306094, #0.031813724210877914, \n",
    "               'border_count': 234, #231, \n",
    "               'bagging_temperature': 0.603413282889533, #0.6103639135740477, \n",
    "               'random_strength': 0.41331355424450433 #0.8724973080089851\n",
    "              }\n",
    "\n",
    "# Stratified K-Fold setup\n",
    "n_splits = 5\n",
    "skf = StratifiedKFold(n_splits=n_splits, shuffle=True, random_state=42)\n",
    "\n",
    "# Initialize arrays for OOF predictions and true labels\n",
    "oof_predictions = np.zeros(len(MCB_Y))\n",
    "true_labels = np.zeros(len(MCB_Y))\n",
    "fold_accuracies = []\n",
    "\n",
    "# Perform Stratified K-Fold with Best Parameters\n",
    "for fold, (train_idx, val_idx) in enumerate(skf.split(MCB_X, MCB_Y)):\n",
    "    print(f\"Training Fold {fold + 1}/{n_splits}...\")\n",
    "\n",
    "    X_train, X_val = MCB_X.iloc[train_idx], MCB_X.iloc[val_idx]\n",
    "    y_train, y_val = MCB_Y.iloc[train_idx], MCB_Y.iloc[val_idx]\n",
    "\n",
    "    # Train CatBoost model with best parameters\n",
    "    model = CatBoostClassifier(**best_params, verbose=0, random_state=42, loss_function=\"Logloss\")\n",
    "    model.fit(X_train, y_train, eval_set=(X_val, y_val), early_stopping_rounds=50, verbose=0)\n",
    "\n",
    "    # Predict probabilities for validation set\n",
    "    y_pred_proba = model.predict_proba(X_val)[:, 1]  # Probabilities for class 1\n",
    "    oof_predictions[val_idx] = y_pred_proba  # Store OOF probabilities\n",
    "    true_labels[val_idx] = y_val  # Store true labels\n",
    "\n",
    "    # Convert probabilities to binary predictions\n",
    "    y_pred = (y_pred_proba > 0.5).astype(int)\n",
    "    accuracy = accuracy_score(y_val, y_pred)\n",
    "    fold_accuracies.append(accuracy)\n",
    "    print(f\"Fold {fold + 1} Accuracy: {accuracy:.4f}\")\n",
    "\n",
    "# Save OOF predictions and true labels to a DataFrame\n",
    "oof_df = pd.DataFrame({\n",
    "    \"OOF_Predictions\": oof_predictions,\n",
    "    \"True_Labels\": true_labels,\n",
    "})\n",
    "\n",
    "# Print the OOF DataFrame\n",
    "print(\"\\nOOF Predictions DataFrame:\")\n",
    "print(oof_df.head())\n",
    "\n",
    "# Calculate overall accuracy\n",
    "average_accuracy = np.mean(fold_accuracies)\n",
    "print(f\"\\nAverage Accuracy Across Folds: {average_accuracy:.4f}\")\n"
   ]
  },
  {
   "cell_type": "code",
   "execution_count": null,
   "id": "6357edcc",
   "metadata": {
    "execution": {
     "iopub.execute_input": "2024-11-29T05:52:46.351256Z",
     "iopub.status.busy": "2024-11-29T05:52:46.350853Z",
     "iopub.status.idle": "2024-11-29T05:52:46.363545Z",
     "shell.execute_reply": "2024-11-29T05:52:46.362239Z"
    },
    "papermill": {
     "duration": 0.113992,
     "end_time": "2024-11-29T05:52:46.365912",
     "exception": false,
     "start_time": "2024-11-29T05:52:46.251920",
     "status": "completed"
    },
    "tags": []
   },
   "outputs": [],
   "source": [
    "oof_df"
   ]
  },
  {
   "cell_type": "code",
   "execution_count": null,
   "id": "af19c1c3",
   "metadata": {
    "execution": {
     "iopub.execute_input": "2024-11-29T05:52:46.561803Z",
     "iopub.status.busy": "2024-11-29T05:52:46.561399Z",
     "iopub.status.idle": "2024-11-29T05:52:46.612396Z",
     "shell.execute_reply": "2024-11-29T05:52:46.611207Z"
    },
    "papermill": {
     "duration": 0.148621,
     "end_time": "2024-11-29T05:52:46.615150",
     "exception": false,
     "start_time": "2024-11-29T05:52:46.466529",
     "status": "completed"
    },
    "tags": []
   },
   "outputs": [],
   "source": [
    "test_oof"
   ]
  },
  {
   "cell_type": "code",
   "execution_count": null,
   "id": "09a1c007",
   "metadata": {
    "execution": {
     "iopub.execute_input": "2024-11-29T05:52:46.809150Z",
     "iopub.status.busy": "2024-11-29T05:52:46.808431Z",
     "iopub.status.idle": "2024-11-29T05:52:46.855311Z",
     "shell.execute_reply": "2024-11-29T05:52:46.854156Z"
    },
    "papermill": {
     "duration": 0.144569,
     "end_time": "2024-11-29T05:52:46.857612",
     "exception": false,
     "start_time": "2024-11-29T05:52:46.713043",
     "status": "completed"
    },
    "tags": []
   },
   "outputs": [],
   "source": [
    "test_meta = test_oof.copy()\n",
    "\n",
    "\n",
    "test_meta = test_meta.drop(columns=['Working Professional or Student', 'Profession', 'Satisfaction', 'Work/Academic Pressure', 'id', 'Sleep Duration', 'Name', 'City', 'Gender', 'Dietary Habits', 'Degree', 'Degree Category', 'Sleep Duration Category', 'oof_CB_proba'])\n",
    "\n",
    "test_meta= test_meta.fillna(-1)\n",
    "\n",
    "test_meta.columns"
   ]
  },
  {
   "cell_type": "code",
   "execution_count": null,
   "id": "4a6825a2",
   "metadata": {
    "execution": {
     "iopub.execute_input": "2024-11-29T05:52:47.049738Z",
     "iopub.status.busy": "2024-11-29T05:52:47.049325Z",
     "iopub.status.idle": "2024-11-29T05:52:47.089016Z",
     "shell.execute_reply": "2024-11-29T05:52:47.087955Z"
    },
    "papermill": {
     "duration": 0.138533,
     "end_time": "2024-11-29T05:52:47.091288",
     "exception": false,
     "start_time": "2024-11-29T05:52:46.952755",
     "status": "completed"
    },
    "tags": []
   },
   "outputs": [],
   "source": [
    "test_meta"
   ]
  },
  {
   "cell_type": "code",
   "execution_count": null,
   "id": "bd548097",
   "metadata": {
    "execution": {
     "iopub.execute_input": "2024-11-29T05:52:47.286747Z",
     "iopub.status.busy": "2024-11-29T05:52:47.286301Z",
     "iopub.status.idle": "2024-11-29T05:52:47.411998Z",
     "shell.execute_reply": "2024-11-29T05:52:47.410694Z"
    },
    "papermill": {
     "duration": 0.226191,
     "end_time": "2024-11-29T05:52:47.414745",
     "exception": false,
     "start_time": "2024-11-29T05:52:47.188554",
     "status": "completed"
    },
    "tags": []
   },
   "outputs": [],
   "source": [
    "# Predict using the trained model\n",
    "y_pred = model.predict(test_meta)  # Predicted probabilities\n",
    "\n",
    "# Create Submission DataFrame\n",
    "Meta_CB_submission = pd.DataFrame({\n",
    "    \"id\": test_oof[\"id\"],  # Keep the ID column\n",
    "    \"Depression\": y_pred  # Add predictions\n",
    "})\n",
    "\n",
    "\n",
    "\n",
    "\n",
    "# Save to CSV\n",
    "Meta_CB_submission.to_csv(\"Meta_CB_submission.csv\", index=False)"
   ]
  },
  {
   "cell_type": "markdown",
   "id": "62247750",
   "metadata": {
    "papermill": {
     "duration": 0.094709,
     "end_time": "2024-11-29T05:52:47.604457",
     "exception": false,
     "start_time": "2024-11-29T05:52:47.509748",
     "status": "completed"
    },
    "tags": []
   },
   "source": [
    "# Meta model : XGBoost + OOF RF, LogR, XGB, FNN, CatBoost"
   ]
  },
  {
   "cell_type": "code",
   "execution_count": null,
   "id": "4b839c21",
   "metadata": {
    "execution": {
     "iopub.execute_input": "2024-11-29T05:52:47.799161Z",
     "iopub.status.busy": "2024-11-29T05:52:47.798746Z",
     "iopub.status.idle": "2024-11-29T05:52:47.870089Z",
     "shell.execute_reply": "2024-11-29T05:52:47.868839Z"
    },
    "papermill": {
     "duration": 0.172819,
     "end_time": "2024-11-29T05:52:47.872421",
     "exception": false,
     "start_time": "2024-11-29T05:52:47.699602",
     "status": "completed"
    },
    "tags": []
   },
   "outputs": [],
   "source": [
    "train_meta = train_oof.copy()\n",
    "\n",
    "train_meta = train_meta[['Age', 'Depression', 'oof_RF_proba', 'oof_LogR_proba',\n",
    "       'oof_ADA_proba', 'oof_FNN_proba', 'oof_CB_proba']]\n",
    "\n",
    "MXGB_X = train_meta.drop('Depression', axis=1, inplace=False)\n",
    "MXGB_Y = train_meta['Depression']\n",
    "\n",
    "MXGB_X = MXGB_X.fillna(-1)\n",
    "\n",
    "MXGB_X.columns"
   ]
  },
  {
   "cell_type": "code",
   "execution_count": null,
   "id": "ffec81e7",
   "metadata": {
    "execution": {
     "iopub.execute_input": "2024-11-29T05:52:48.068957Z",
     "iopub.status.busy": "2024-11-29T05:52:48.068507Z",
     "iopub.status.idle": "2024-11-29T05:52:48.075841Z",
     "shell.execute_reply": "2024-11-29T05:52:48.074550Z"
    },
    "papermill": {
     "duration": 0.108843,
     "end_time": "2024-11-29T05:52:48.077989",
     "exception": false,
     "start_time": "2024-11-29T05:52:47.969146",
     "status": "completed"
    },
    "tags": []
   },
   "outputs": [],
   "source": [
    "# import numpy as np\n",
    "# import pandas as pd\n",
    "# from sklearn.model_selection import StratifiedKFold, train_test_split\n",
    "# from sklearn.metrics import accuracy_score\n",
    "# import xgboost as xgb\n",
    "# import optuna\n",
    "\n",
    "\n",
    "# # Initialize arrays for OOF predictions and true labels\n",
    "# oof_predictions = np.zeros(len(MXGB_Y))\n",
    "# true_labels = np.zeros(len(MXGB_Y))\n",
    "# fold_accuracies = []\n",
    "\n",
    "# # Stratified K-Fold setup\n",
    "# n_splits = 5\n",
    "# skf = StratifiedKFold(n_splits=n_splits, shuffle=True, random_state=42)\n",
    "\n",
    "# # Define the objective function for Optuna\n",
    "# def objective(trial):\n",
    "#     # Suggest hyperparameters\n",
    "#     param = {\n",
    "#         \"objective\": \"binary:logistic\",\n",
    "#         \"eval_metric\": \"logloss\",\n",
    "#         \"booster\": \"gbtree\",\n",
    "#         \"tree_method\": \"auto\",\n",
    "#         \"max_depth\": trial.suggest_int(\"max_depth\", 3, 10),\n",
    "#         \"learning_rate\": trial.suggest_float(\"learning_rate\", 1e-3, 0.3, log=True),\n",
    "#         #\"n_estimators\": trial.suggest_int(\"n_estimators\", 100, 1000),\n",
    "#         \"gamma\": trial.suggest_float(\"gamma\", 0, 5),\n",
    "#         \"min_child_weight\": trial.suggest_int(\"min_child_weight\", 1, 10),\n",
    "#         \"subsample\": trial.suggest_float(\"subsample\", 0.5, 1.0),\n",
    "#         \"colsample_bytree\": trial.suggest_float(\"colsample_bytree\", 0.5, 1.0),\n",
    "#         \"lambda\": trial.suggest_float(\"lambda\", 1e-3, 10.0, log=True),\n",
    "#         \"alpha\": trial.suggest_float(\"alpha\", 1e-3, 10.0, log=True),\n",
    "#     }\n",
    "\n",
    "#     # Suggest num_boost_round as a hyperparameter\n",
    "#     num_boost_round = trial.suggest_int(\"num_boost_round\", 50, 500)\n",
    "\n",
    "#     # Perform Stratified K-Fold Cross-Validation\n",
    "#     fold_accuracies = []\n",
    "#     for fold, (train_idx, val_idx) in enumerate(skf.split(MXGB_X, MXGB_Y)):\n",
    "#         X_train, X_val = MXGB_X.iloc[train_idx], MXGB_X.iloc[val_idx]\n",
    "#         y_train, y_val = MXGB_Y.iloc[train_idx], MXGB_Y.iloc[val_idx]\n",
    "        \n",
    "#         # Create DMatrices for XGBoost\n",
    "#         dtrain = xgb.DMatrix(X_train, label=y_train)\n",
    "#         dval = xgb.DMatrix(X_val, label=y_val)\n",
    "        \n",
    "#         # Train model\n",
    "#         model = xgb.train(param, dtrain, num_boost_round=num_boost_round, evals=[(dval, \"validation\")], early_stopping_rounds=50, verbose_eval=False)\n",
    "\n",
    "        \n",
    "#         # Predict probabilities\n",
    "#         y_pred_proba = model.predict(dval)\n",
    "#         y_pred = (y_pred_proba > 0.5).astype(int)\n",
    "        \n",
    "#         # Calculate accuracy\n",
    "#         accuracy = accuracy_score(y_val, y_pred)\n",
    "#         fold_accuracies.append(accuracy)\n",
    "    \n",
    "#     # Return mean accuracy across folds as the metric to minimize\n",
    "#     return 1 - np.mean(fold_accuracies)\n",
    "\n",
    "# # Run Optuna optimization\n",
    "# study = optuna.create_study(direction=\"minimize\")\n",
    "# study.optimize(objective, n_trials=75)\n",
    "\n",
    "# # Get best parameters\n",
    "# best_params = study.best_params\n",
    "# print(f\"Best Parameters: {best_params}\")\n"
   ]
  },
  {
   "cell_type": "code",
   "execution_count": null,
   "id": "f6a19ee3",
   "metadata": {
    "execution": {
     "iopub.execute_input": "2024-11-29T05:52:48.275618Z",
     "iopub.status.busy": "2024-11-29T05:52:48.274641Z",
     "iopub.status.idle": "2024-11-29T05:52:51.542006Z",
     "shell.execute_reply": "2024-11-29T05:52:51.540820Z"
    },
    "papermill": {
     "duration": 3.368608,
     "end_time": "2024-11-29T05:52:51.544273",
     "exception": false,
     "start_time": "2024-11-29T05:52:48.175665",
     "status": "completed"
    },
    "tags": []
   },
   "outputs": [],
   "source": [
    "best_params = {\n",
    "        \"objective\": \"binary:logistic\",\n",
    "        \"eval_metric\": \"logloss\",\n",
    "        \"booster\": \"gbtree\",\n",
    "        \"tree_method\": \"auto\",\n",
    "        \"max_depth\": 3, \n",
    "        \"learning_rate\":  0.1899461722284292, #0.10514070367711406, \n",
    "        \"gamma\": 1.2897008226411792, #2.7753144844804947, \n",
    "        \"min_child_weight\": 8, #4, \n",
    "        \"subsample\": 0.8282596011300142, #0.7499244272798747, \n",
    "        \"colsample_bytree\": 0.7044890796519623, #0.8718263378701961, \n",
    "        \"lambda\": 0.5082274643528951, #0.0023871515138162666, \n",
    "        \"alpha\": 1.30297511166754, #1.204940444287851, \n",
    "    }\n",
    "\n",
    "# Initialize arrays for OOF predictions and true labels\n",
    "oof_predictions = np.zeros(len(MXGB_Y))\n",
    "true_labels = np.zeros(len(MXGB_Y))\n",
    "fold_accuracies = []\n",
    "\n",
    "# Stratified K-Fold setup\n",
    "n_splits = 5\n",
    "skf = StratifiedKFold(n_splits=n_splits, shuffle=True, random_state=42)\n",
    "\n",
    "# Perform Stratified K-Fold with Best Parameters\n",
    "for fold, (train_idx, val_idx) in enumerate(skf.split(MXGB_X, MXGB_Y)):\n",
    "    print(f\"Training Fold {fold + 1}/{n_splits}...\")\n",
    "    \n",
    "    X_train, X_val = MXGB_X.iloc[train_idx], MXGB_X.iloc[val_idx]\n",
    "    y_train, y_val = MXGB_Y.iloc[train_idx], MXGB_Y.iloc[val_idx]\n",
    "    \n",
    "    # Create DMatrices for XGBoost\n",
    "    dtrain = xgb.DMatrix(X_train, label=y_train)\n",
    "    dval = xgb.DMatrix(X_val, label=y_val)\n",
    "    \n",
    "    # Train model with best parameters\n",
    "    model = xgb.train(best_params, dtrain, num_boost_round=483, evals=[(dval, \"validation\")], early_stopping_rounds=50, verbose_eval=False)\n",
    "    \n",
    "    # Predict probabilities for validation set\n",
    "    y_pred_proba = model.predict(dval)\n",
    "    y_pred = (y_pred_proba > 0.5).astype(int)\n",
    "    \n",
    "    # Store OOF predictions and true labels\n",
    "    oof_predictions[val_idx] = y_pred_proba\n",
    "    true_labels[val_idx] = y_val\n",
    "    \n",
    "    # Calculate accuracy for the current fold\n",
    "    accuracy = accuracy_score(y_val, y_pred)\n",
    "    fold_accuracies.append(accuracy)\n",
    "    print(f\"Fold {fold + 1} Accuracy: {accuracy:.4f}\")\n",
    "\n",
    "# Save OOF predictions and true labels to a DataFrame\n",
    "oof_df = pd.DataFrame({\n",
    "    \"OOF_Predictions\": oof_predictions,\n",
    "    \"True_Labels\": true_labels\n",
    "})\n",
    "\n",
    "# Print the DataFrame\n",
    "print(\"\\nOOF Predictions DataFrame:\")\n",
    "print(oof_df.head())\n",
    "\n",
    "# Calculate overall accuracy\n",
    "average_accuracy = np.mean(fold_accuracies)\n",
    "print(f\"\\nAverage Accuracy Across Folds: {average_accuracy:.4f}\")\n"
   ]
  },
  {
   "cell_type": "code",
   "execution_count": null,
   "id": "ed4515ae",
   "metadata": {
    "execution": {
     "iopub.execute_input": "2024-11-29T05:52:51.743691Z",
     "iopub.status.busy": "2024-11-29T05:52:51.743285Z",
     "iopub.status.idle": "2024-11-29T05:52:51.773622Z",
     "shell.execute_reply": "2024-11-29T05:52:51.772455Z"
    },
    "papermill": {
     "duration": 0.135407,
     "end_time": "2024-11-29T05:52:51.776060",
     "exception": false,
     "start_time": "2024-11-29T05:52:51.640653",
     "status": "completed"
    },
    "tags": []
   },
   "outputs": [],
   "source": [
    "test_meta = test_oof.copy()\n",
    "\n",
    "\n",
    "test_meta = test_meta[['Age', 'oof_RF_proba', 'oof_LogR_proba',\n",
    "       'oof_ADA_proba', 'oof_FNN_proba', 'oof_CB_proba']]\n",
    "\n",
    "\n",
    "test_meta= test_meta.fillna(-1)\n",
    "\n",
    "test_meta.columns"
   ]
  },
  {
   "cell_type": "code",
   "execution_count": null,
   "id": "464b782f",
   "metadata": {
    "execution": {
     "iopub.execute_input": "2024-11-29T05:52:51.998307Z",
     "iopub.status.busy": "2024-11-29T05:52:51.997930Z",
     "iopub.status.idle": "2024-11-29T05:52:52.135763Z",
     "shell.execute_reply": "2024-11-29T05:52:52.134414Z"
    },
    "papermill": {
     "duration": 0.245745,
     "end_time": "2024-11-29T05:52:52.138278",
     "exception": false,
     "start_time": "2024-11-29T05:52:51.892533",
     "status": "completed"
    },
    "tags": []
   },
   "outputs": [],
   "source": [
    "# Convert test data to DMatrix\n",
    "dtest = xgb.DMatrix(test_meta)  # Drop ID column for prediction\n",
    "\n",
    "# Predict using the trained model\n",
    "y_pred_proba = model.predict(dtest)  # Predicted probabilities\n",
    "y_pred_labels = (y_pred_proba > 0.5).astype(int)  # Convert probabilities to binary labels\n",
    "\n",
    "# Create Submission DataFrame\n",
    "MXGB_submission_2 = pd.DataFrame({\n",
    "    \"id\": test_oof[\"id\"],  # Keep the ID column\n",
    "    \"Depression\": y_pred_labels  # Add predictions\n",
    "})\n",
    "\n",
    "\n",
    "\n",
    "# Save to CSV\n",
    "MXGB_submission_2.to_csv(\"MXGB_submission_v2.csv\", index=False)"
   ]
  },
  {
   "cell_type": "code",
   "execution_count": null,
   "id": "f73e0b0d",
   "metadata": {
    "execution": {
     "iopub.execute_input": "2024-11-29T05:52:52.336940Z",
     "iopub.status.busy": "2024-11-29T05:52:52.336483Z",
     "iopub.status.idle": "2024-11-29T05:53:32.384312Z",
     "shell.execute_reply": "2024-11-29T05:53:32.383133Z"
    },
    "papermill": {
     "duration": 40.151673,
     "end_time": "2024-11-29T05:53:32.386713",
     "exception": false,
     "start_time": "2024-11-29T05:52:52.235040",
     "status": "completed"
    },
    "tags": []
   },
   "outputs": [],
   "source": [
    "explainer = shap.Explainer(model, X_train)\n",
    "shap_values = explainer(X_val)\n",
    "shap.summary_plot(shap_values, X_val)\n"
   ]
  },
  {
   "cell_type": "markdown",
   "id": "5d864ed0",
   "metadata": {
    "papermill": {
     "duration": 0.153273,
     "end_time": "2024-11-29T05:53:32.645409",
     "exception": false,
     "start_time": "2024-11-29T05:53:32.492136",
     "status": "completed"
    },
    "tags": []
   },
   "source": [
    "# Hill Climbing Code"
   ]
  },
  {
   "cell_type": "code",
   "execution_count": null,
   "id": "609785f7",
   "metadata": {
    "execution": {
     "iopub.execute_input": "2024-11-29T05:53:32.845865Z",
     "iopub.status.busy": "2024-11-29T05:53:32.845431Z",
     "iopub.status.idle": "2024-11-29T05:53:32.852089Z",
     "shell.execute_reply": "2024-11-29T05:53:32.850968Z"
    },
    "papermill": {
     "duration": 0.109266,
     "end_time": "2024-11-29T05:53:32.854151",
     "exception": false,
     "start_time": "2024-11-29T05:53:32.744885",
     "status": "completed"
    },
    "tags": []
   },
   "outputs": [],
   "source": [
    "# import numpy as np\n",
    "# from sklearn.metrics import roc_auc_score\n",
    "\n",
    "# # Example OOF predictions from 3 models (replace with your model predictions)\n",
    "# model_1_preds = np.array([0.1, 0.4, 0.35, 0.8])\n",
    "# model_2_preds = np.array([0.2, 0.3, 0.5, 0.7])\n",
    "# model_3_preds = np.array([0.15, 0.45, 0.4, 0.85])\n",
    "\n",
    "# # True labels\n",
    "# y_true = np.array([0, 0, 1, 1])\n",
    "\n",
    "# # Combine predictions into a matrix\n",
    "# predictions = np.stack([model_1_preds, model_2_preds, model_3_preds], axis=1)\n",
    "\n",
    "# # Initialize weights\n",
    "# weights = np.ones(predictions.shape[1]) / predictions.shape[1]  # Equal weights initially\n",
    "\n",
    "# # Define the evaluation function\n",
    "# def blended_predictions(predictions, weights):\n",
    "#     return np.dot(predictions, weights)\n",
    "\n",
    "# def evaluate_blend(predictions, weights, y_true):\n",
    "#     blended_preds = blended_predictions(predictions, weights)\n",
    "#     return roc_auc_score(y_true, blended_preds)\n",
    "\n",
    "# # Hill climbing algorithm\n",
    "# def hill_climbing_blend(predictions, y_true, max_iterations=100, step_size=0.01):\n",
    "#     weights = np.ones(predictions.shape[1]) / predictions.shape[1]\n",
    "#     best_score = evaluate_blend(predictions, weights, y_true)\n",
    "    \n",
    "#     for iteration in range(max_iterations):\n",
    "#         for i in range(len(weights)):\n",
    "#             # Try increasing the weight\n",
    "#             new_weights = weights.copy()\n",
    "#             new_weights[i] += step_size\n",
    "#             new_weights /= new_weights.sum()  # Normalize weights\n",
    "#             new_score = evaluate_blend(predictions, new_weights, y_true)\n",
    "            \n",
    "#             if new_score > best_score:\n",
    "#                 weights = new_weights\n",
    "#                 best_score = new_score\n",
    "#                 continue\n",
    "\n",
    "#             # Try decreasing the weight\n",
    "#             new_weights = weights.copy()\n",
    "#             new_weights[i] -= step_size\n",
    "#             new_weights /= new_weights.sum()  # Normalize weights\n",
    "#             new_score = evaluate_blend(predictions, new_weights, y_true)\n",
    "            \n",
    "#             if new_score > best_score:\n",
    "#                 weights = new_weights\n",
    "#                 best_score = new_score\n",
    "#                 continue\n",
    "\n",
    "#     return weights, best_score\n",
    "\n",
    "# # Run hill climbing\n",
    "# best_weights, best_score = hill_climbing_blend(predictions, y_true)\n",
    "\n",
    "# print(\"Best Weights:\", best_weights)\n",
    "# print(\"Best AUC Score:\", best_score)\n",
    "\n",
    "# # Blend predictions with best weights\n",
    "# final_blended_preds = blended_predictions(predictions, best_weights)\n"
   ]
  },
  {
   "cell_type": "markdown",
   "id": "e8ee599a",
   "metadata": {},
   "source": [
    "## 🔍 Summary & Key Takeaways\n",
    "\n",
    "- Conducted deep **EDA** to identify anomalies and missing values  \n",
    "- Engineered domain-specific features (City Tier, Degree Category, Sleep Quality Group, etc.)  \n",
    "- Used various encoding techniques: Label, Target, and Frequency  \n",
    "- Built and tuned multiple models including Random Forest, CatBoost, and Feedforward Neural Network  \n",
    "- Leveraged **Optuna** for hyperparameter optimization  \n",
    "- Employed **stacking and blending** to ensemble models and achieve competitive performance  \n",
    "- Achieved **94.024% accuracy**, just shy of the top solution  \n"
   ]
  }
 ],
 "metadata": {
  "kaggle": {
   "accelerator": "none",
   "dataSources": [
    {
     "datasetId": 5868381,
     "sourceId": 9616093,
     "sourceType": "datasetVersion"
    },
    {
     "datasetId": 6146562,
     "sourceId": 9987717,
     "sourceType": "datasetVersion"
    },
    {
     "datasetId": 6165759,
     "sourceId": 10014703,
     "sourceType": "datasetVersion"
    }
   ],
   "dockerImageVersionId": 30786,
   "isGpuEnabled": false,
   "isInternetEnabled": false,
   "language": "python",
   "sourceType": "notebook"
  },
  "kernelspec": {
   "display_name": "Python 3",
   "language": "python",
   "name": "python3"
  },
  "language_info": {
   "codemirror_mode": {
    "name": "ipython",
    "version": 3
   },
   "file_extension": ".py",
   "mimetype": "text/x-python",
   "name": "python",
   "nbconvert_exporter": "python",
   "pygments_lexer": "ipython3",
   "version": "3.10.14"
  },
  "papermill": {
   "default_parameters": {},
   "duration": 2213.839581,
   "end_time": "2024-11-29T05:53:36.353173",
   "environment_variables": {},
   "exception": null,
   "input_path": "__notebook__.ipynb",
   "output_path": "__notebook__.ipynb",
   "parameters": {},
   "start_time": "2024-11-29T05:16:42.513592",
   "version": "2.6.0"
  }
 },
 "nbformat": 4,
 "nbformat_minor": 5
}
